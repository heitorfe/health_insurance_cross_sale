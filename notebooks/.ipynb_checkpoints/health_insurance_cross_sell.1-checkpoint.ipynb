{
 "cells": [
  {
   "cell_type": "markdown",
   "id": "32543eb2",
   "metadata": {},
   "source": [
    "# 0.0. Imports"
   ]
  },
  {
   "cell_type": "code",
   "execution_count": 1,
   "id": "5aef1504",
   "metadata": {
    "ExecuteTime": {
     "end_time": "2022-03-16T19:39:40.446871Z",
     "start_time": "2022-03-16T19:39:31.516498Z"
    }
   },
   "outputs": [
    {
     "name": "stderr",
     "output_type": "stream",
     "text": [
      "/home/heitor/repos/health_insurance_cross_sale/venv/lib/python3.8/site-packages/xgboost/compat.py:36: FutureWarning: pandas.Int64Index is deprecated and will be removed from pandas in a future version. Use pandas.Index with the appropriate dtype instead.\n",
      "  from pandas import MultiIndex, Int64Index\n"
     ]
    }
   ],
   "source": [
    "\n",
    "from matplotlib import pyplot         as plt\n",
    "from sklearn import preprocessing     as pp\n",
    "from sklearn import model_selection   as ms\n",
    "from sklearn import neighbors         as nh\n",
    "from sklearn import linear_model      as lm\n",
    "from sklearn import ensemble          as en\n",
    "\n",
    "from sklearn.ensemble import RandomForestClassifier\n",
    "from xgboost          import XGBClassifier \n",
    "# from boruta           import BorutaPy\n",
    "\n",
    "\n",
    "import pandas     as pd\n",
    "import seaborn    as sns\n",
    "import scikitplot as skplt\n",
    "import numpy      as np\n",
    "\n",
    "import inflection\n",
    "import pickle"
   ]
  },
  {
   "cell_type": "markdown",
   "id": "8375449d",
   "metadata": {},
   "source": [
    "## 0.1. Helper Functions"
   ]
  },
  {
   "cell_type": "code",
   "execution_count": 2,
   "id": "d6eeecd7",
   "metadata": {
    "ExecuteTime": {
     "end_time": "2022-03-16T19:39:46.059600Z",
     "start_time": "2022-03-16T19:39:46.034194Z"
    }
   },
   "outputs": [],
   "source": [
    "# def jupyter_settings():\n",
    "#     %matplotlib inline\n",
    "#     %pylab inline\n",
    "#     plt.style.use( 'bmh' )\n",
    "#     plt.rcParams['figure.figsize'] = [25, 12]\n",
    "#     plt.rcParams['font.size'] = 24\n",
    "#     display( HTML( '<style>.container { width:100% !important; }</style>') )\n",
    "#     pd.options.display.max_columns = None\n",
    "#     pd.options.display.max_rows = None\n",
    "#     pd.set_option( 'display.expand_frame_repr', False )\n",
    "#     sns.set()\n",
    "    \n",
    "# jupyter_settings()\n",
    "\n",
    "def num_attributes(df1):\n",
    "    num_attributes = df1.select_dtypes(['int64','float64'])\n",
    "    #Central Tendency - Median, Mean\n",
    "    mean = pd.DataFrame(num_attributes.apply(np.mean)).T\n",
    "    median = pd.DataFrame(num_attributes.apply(np.median)).T\n",
    "\n",
    "    #Dispersion - std, min, max, range, skew, kurtosis\n",
    "    std = pd.DataFrame(num_attributes.apply(np.std)).T\n",
    "    min_ = pd.DataFrame(num_attributes.apply(min)).T\n",
    "    max_ = pd.DataFrame(num_attributes.apply(max)).T\n",
    "    range_ = pd.DataFrame(num_attributes.apply(lambda x: x.max() - x.min())).T\n",
    "    skew = pd.DataFrame(num_attributes.apply(lambda x: x.skew())).T\n",
    "    kurtosis =  pd.DataFrame(num_attributes.apply(lambda x: x.kurtosis())).T\n",
    "\n",
    "    m = pd.concat([min_, max_, range_, mean, median, std, skew, kurtosis]).T.reset_index()\n",
    "    m.columns = ['attributes','min', 'max', 'range', 'mean', 'median', 'std', 'skew', 'kurtosis']\n",
    "    return m\n",
    "\n",
    "# prepare dataset for function precision and recall at k\n",
    "def concat_order_data( x_val, y_val, yhat ):\n",
    "    \n",
    "    # copy data\n",
    "    data = x_val.copy()\n",
    "    data['response'] = y_val.copy()\n",
    "\n",
    "    # propensity score\n",
    "    data['score'] = yhat[:, 1].tolist()\n",
    "\n",
    "    # sorted clients by propensity score\n",
    "    data = data.sort_values( 'score', ascending=False )\n",
    "    \n",
    "    return data\n",
    "\n",
    "def precision_at_k( data, k=2000 ):\n",
    "    # reset index\n",
    "    data = data.reset_index( drop=True )\n",
    "\n",
    "    # create ranking order\n",
    "    data['ranking'] = data.index + 1 \n",
    "\n",
    "    data['precision_at_k'] = data['response'].cumsum() / data['ranking']\n",
    "\n",
    "    return data.loc[k, 'precision_at_k']\n",
    "\n",
    "\n",
    "def recall_at_k( data, k=2000 ):\n",
    "    # reset index\n",
    "    data = data.reset_index( drop=True )\n",
    "\n",
    "    # create ranking order\n",
    "    data['ranking'] = data.index + 1 \n",
    "\n",
    "    data['recall_at_k'] = data['response'].cumsum() / data['response'].sum()\n",
    "\n",
    "    return data.loc[k, 'recall_at_k']\n",
    "\n",
    "# all at k metrics as dataframe\n",
    "def at_k_metrics( model_name, x_val, y_val, yhat, k=20000 ):\n",
    "    data = concat_order_data( x_val, y_val, yhat )\n",
    "    \n",
    "    pr = precision_at_k( data, k )\n",
    "    re = recall_at_k( data, k )\n",
    "    \n",
    "    return pd.DataFrame({\"Precision_at_k\": \"{}\".format(np.round(pr,3)),\n",
    "                         \"Recall_at_k\": \"{}\".format(np.round(re,3))}, index=[model_name])\n",
    "\n",
    "# stratified cross validation\n",
    "def cross_validation(model_name, model, x_train, y_train, k=20000 ):\n",
    "    \n",
    "    precision_at_k_list = []\n",
    "    recall_at_k_list = []\n",
    "\n",
    "    skf = ms.StratifiedKFold(n_splits=5, shuffle=True, random_state=5)\n",
    "    \n",
    "    for train_index, test_index in skf.split(x_train, y_train):\n",
    "        \n",
    "        x_train_cv = x_train.iloc[train_index]\n",
    "        y_train_cv = y_train.iloc[train_index]\n",
    "        \n",
    "        x_test_cv = x_train.iloc[test_index]\n",
    "        y_test_cv = y_train.iloc[test_index]\n",
    "        \n",
    "        # model training\n",
    "        model.fit(x_train_cv, y_train_cv)\n",
    "        \n",
    "        # prediction\n",
    "        pred = model.predict_proba(x_test_cv)\n",
    "        \n",
    "        # concat\n",
    "        data = x_test_cv.copy()\n",
    "        data['response'] = y_test_cv.copy()\n",
    "        \n",
    "        data['score'] = pred[:, 1].tolist()\n",
    "        \n",
    "        data = data.sort_values( 'score', ascending=False )\n",
    "        \n",
    "        # measuring at k metrics\n",
    "        precision_at_k_list.append( precision_at_k( data, k ) )\n",
    "        recall_at_k_list.append(recall_at_k( data, k ) )\n",
    "        \n",
    "    \n",
    "    precision_at_k_mean, precision_at_k_std = np.round( np.mean( precision_at_k_list ), 2 ), np.round( np.std( precision_at_k_list ), 2 )\n",
    "    recall_at_k_mean, recall_at_k_std = np.round( np.mean( recall_at_k_list ), 2 ), np.round( np.std( recall_at_k_list ), 2 )\n",
    "   \n",
    "    \n",
    "    return pd.DataFrame({\"Precision_at_k\": \"{} +/- {}\".format(precision_at_k_mean, precision_at_k_std),\n",
    "                         \"Recall_at_k\": \"{} +/- {}\".format(recall_at_k_mean, recall_at_k_std)}, index=[model_name])\n",
    "\n",
    "\n",
    "    "
   ]
  },
  {
   "cell_type": "markdown",
   "id": "fd6901bd",
   "metadata": {},
   "source": [
    "## 0.2. Collect Data"
   ]
  },
  {
   "cell_type": "code",
   "execution_count": 3,
   "id": "3663e5a8",
   "metadata": {
    "ExecuteTime": {
     "end_time": "2022-03-16T19:39:47.656120Z",
     "start_time": "2022-03-16T19:39:47.018767Z"
    }
   },
   "outputs": [],
   "source": [
    "df_raw = pd.read_csv('../datasets/train.csv')"
   ]
  },
  {
   "cell_type": "markdown",
   "id": "5869b1fc",
   "metadata": {},
   "source": [
    "# 1.0. Data Description"
   ]
  },
  {
   "cell_type": "code",
   "execution_count": 4,
   "id": "75a7bcb9",
   "metadata": {
    "ExecuteTime": {
     "end_time": "2022-03-16T19:39:48.870998Z",
     "start_time": "2022-03-16T19:39:48.862739Z"
    }
   },
   "outputs": [],
   "source": [
    "df1 = df_raw.copy()"
   ]
  },
  {
   "cell_type": "markdown",
   "id": "6cb8a9e2",
   "metadata": {},
   "source": [
    "## 1.1. Data Dimension"
   ]
  },
  {
   "cell_type": "code",
   "execution_count": 5,
   "id": "9b5ccdf7",
   "metadata": {
    "ExecuteTime": {
     "end_time": "2022-03-16T19:39:49.332831Z",
     "start_time": "2022-03-16T19:39:49.326042Z"
    }
   },
   "outputs": [
    {
     "name": "stdout",
     "output_type": "stream",
     "text": [
      "Number of cols: 12\n",
      "Number of rows: 381109\n"
     ]
    }
   ],
   "source": [
    "print(f'Number of cols: {df1.shape[1]}')\n",
    "print(f'Number of rows: {df1.shape[0]}')"
   ]
  },
  {
   "cell_type": "markdown",
   "id": "b8bdb43a",
   "metadata": {},
   "source": [
    "## 1.2. Data Types"
   ]
  },
  {
   "cell_type": "code",
   "execution_count": 6,
   "id": "2ee59b5f",
   "metadata": {
    "ExecuteTime": {
     "end_time": "2022-03-16T19:39:49.782198Z",
     "start_time": "2022-03-16T19:39:49.750316Z"
    }
   },
   "outputs": [
    {
     "data": {
      "text/plain": [
       "id                        int64\n",
       "Gender                   object\n",
       "Age                       int64\n",
       "Driving_License           int64\n",
       "Region_Code             float64\n",
       "Previously_Insured        int64\n",
       "Vehicle_Age              object\n",
       "Vehicle_Damage           object\n",
       "Annual_Premium          float64\n",
       "Policy_Sales_Channel    float64\n",
       "Vintage                   int64\n",
       "Response                  int64\n",
       "dtype: object"
      ]
     },
     "execution_count": 6,
     "metadata": {},
     "output_type": "execute_result"
    }
   ],
   "source": [
    "df1.dtypes"
   ]
  },
  {
   "cell_type": "code",
   "execution_count": 7,
   "id": "493bd1a4",
   "metadata": {
    "ExecuteTime": {
     "end_time": "2022-03-16T19:39:53.596696Z",
     "start_time": "2022-03-16T19:39:53.592363Z"
    }
   },
   "outputs": [],
   "source": [
    "#Rename columns\n",
    "old_cols = ['id', 'Gender', 'Age', 'DrivingLicense', 'RegionCode',\n",
    "       'PreviouslyInsured', 'Vehicle_Age', 'VehicleDamage', 'AnnualPremium',\n",
    "       'PolicySalesChannel', 'Vintage', 'Response']\n",
    "snakecase = lambda x: inflection.underscore(x)\n",
    "\n",
    "new_cols = list(map(snakecase, old_cols))\n",
    "df1.columns = new_cols"
   ]
  },
  {
   "cell_type": "code",
   "execution_count": 8,
   "id": "43dcd456",
   "metadata": {
    "ExecuteTime": {
     "end_time": "2022-03-16T19:39:53.930735Z",
     "start_time": "2022-03-16T19:39:53.782203Z"
    }
   },
   "outputs": [
    {
     "data": {
      "text/plain": [
       "id                       int64\n",
       "gender                  object\n",
       "age                      int64\n",
       "driving_license          int64\n",
       "region_code              int64\n",
       "previously_insured       int64\n",
       "vehicle_age             object\n",
       "vehicle_damage           int64\n",
       "annual_premium           int64\n",
       "policy_sales_channel     int64\n",
       "vintage                  int64\n",
       "response                 int64\n",
       "dtype: object"
      ]
     },
     "execution_count": 8,
     "metadata": {},
     "output_type": "execute_result"
    }
   ],
   "source": [
    "#changing types\n",
    "\n",
    "df1['vehicle_damage'] = df1['vehicle_damage'].apply(lambda x: 1 if x == 'Yes' else 0)\n",
    "df1['policy_sales_channel'] = df1['policy_sales_channel'].astype(int)\n",
    "df1['annual_premium'] = df1['annual_premium'].astype(int)\n",
    "df1['region_code'] = df1['region_code'].astype(int)\n",
    "df1['vehicle_damage'] = df1['vehicle_damage'].astype(int)\n",
    "\n",
    "df1.dtypes"
   ]
  },
  {
   "cell_type": "markdown",
   "id": "0084ee8f",
   "metadata": {
    "ExecuteTime": {
     "end_time": "2022-03-06T18:55:50.557098Z",
     "start_time": "2022-03-06T18:55:50.427601Z"
    }
   },
   "source": [
    "## 1.3. Checking NAs\n"
   ]
  },
  {
   "cell_type": "code",
   "execution_count": 9,
   "id": "ce5ebb2f",
   "metadata": {
    "ExecuteTime": {
     "end_time": "2022-03-16T19:39:55.365289Z",
     "start_time": "2022-03-16T19:39:55.226524Z"
    }
   },
   "outputs": [
    {
     "data": {
      "text/plain": [
       "id                      0\n",
       "gender                  0\n",
       "age                     0\n",
       "driving_license         0\n",
       "region_code             0\n",
       "previously_insured      0\n",
       "vehicle_age             0\n",
       "vehicle_damage          0\n",
       "annual_premium          0\n",
       "policy_sales_channel    0\n",
       "vintage                 0\n",
       "response                0\n",
       "dtype: int64"
      ]
     },
     "execution_count": 9,
     "metadata": {},
     "output_type": "execute_result"
    }
   ],
   "source": [
    "df1.isna().sum()"
   ]
  },
  {
   "cell_type": "markdown",
   "id": "fe9fc491",
   "metadata": {},
   "source": [
    "## 1.4. Data Descriptive "
   ]
  },
  {
   "cell_type": "code",
   "execution_count": 10,
   "id": "3bba0e2b",
   "metadata": {
    "ExecuteTime": {
     "end_time": "2022-03-16T19:39:56.051752Z",
     "start_time": "2022-03-16T19:39:56.047480Z"
    }
   },
   "outputs": [],
   "source": [
    "num_attributes = df1.select_dtypes(['int64','float64'])\n",
    "cat_attributes = df1.select_dtypes(['int64','float64','datetime64[ns]'])"
   ]
  },
  {
   "cell_type": "code",
   "execution_count": 11,
   "id": "6487a5c9",
   "metadata": {
    "ExecuteTime": {
     "end_time": "2022-03-16T19:39:56.481148Z",
     "start_time": "2022-03-16T19:39:56.475949Z"
    }
   },
   "outputs": [],
   "source": [
    "# #Central Tendency - Median, Mean\n",
    "# mean = pd.DataFrame(num_attributes.apply(np.mean)).T\n",
    "# median = pd.DataFrame(num_attributes.apply(np.median)).T\n",
    "\n",
    "# #Dispersion - std, min, max, range, skew, kurtosis\n",
    "# std = pd.DataFrame(num_attributes.apply(np.std)).T\n",
    "# min_ = pd.DataFrame(num_attributes.apply(min)).T\n",
    "# max_ = pd.DataFrame(num_attributes.apply(max)).T\n",
    "# range_ = pd.DataFrame(num_attributes.apply(lambda x: x.max() - x.min())).T\n",
    "# skew = pd.DataFrame(num_attributes.apply(lambda x: x.skew())).T\n",
    "# kurtosis =  pd.DataFrame(num_attributes.apply(lambda x: x.kurtosis())).T\n",
    "                      \n",
    "# m = pd.concat([min_, max_, range_, mean, median, std, skew, kurtosis]).T.reset_index()\n",
    "# m.columns = ['attributes','min', 'max', 'range', 'mean', 'median', 'std', 'skew', 'kurtosis']\n",
    "# m"
   ]
  },
  {
   "cell_type": "markdown",
   "id": "e907e0c4",
   "metadata": {},
   "source": [
    "# 2.0. Feature Engineering "
   ]
  },
  {
   "cell_type": "code",
   "execution_count": 12,
   "id": "a0e2921a",
   "metadata": {
    "ExecuteTime": {
     "end_time": "2022-03-16T19:39:57.418444Z",
     "start_time": "2022-03-16T19:39:57.374519Z"
    }
   },
   "outputs": [],
   "source": [
    "df2 = df1.copy()"
   ]
  },
  {
   "cell_type": "code",
   "execution_count": 13,
   "id": "a8435ce1",
   "metadata": {
    "ExecuteTime": {
     "end_time": "2022-03-16T19:39:57.571402Z",
     "start_time": "2022-03-16T19:39:57.566690Z"
    }
   },
   "outputs": [
    {
     "data": {
      "text/plain": [
       "Index(['id', 'gender', 'age', 'driving_license', 'region_code',\n",
       "       'previously_insured', 'vehicle_age', 'vehicle_damage', 'annual_premium',\n",
       "       'policy_sales_channel', 'vintage', 'response'],\n",
       "      dtype='object')"
      ]
     },
     "execution_count": 13,
     "metadata": {},
     "output_type": "execute_result"
    }
   ],
   "source": [
    "df2.columns\n"
   ]
  },
  {
   "cell_type": "code",
   "execution_count": 14,
   "id": "ad2277cc",
   "metadata": {
    "ExecuteTime": {
     "end_time": "2022-03-16T19:39:57.965102Z",
     "start_time": "2022-03-16T19:39:57.913821Z"
    }
   },
   "outputs": [
    {
     "data": {
      "text/plain": [
       "array(['> 2 Years', '1-2 Year', '< 1 Year'], dtype=object)"
      ]
     },
     "execution_count": 14,
     "metadata": {},
     "output_type": "execute_result"
    }
   ],
   "source": [
    "df2['vehicle_age'].unique()"
   ]
  },
  {
   "cell_type": "code",
   "execution_count": 15,
   "id": "f6be6d05",
   "metadata": {
    "ExecuteTime": {
     "end_time": "2022-03-16T19:39:58.375731Z",
     "start_time": "2022-03-16T19:39:58.286083Z"
    }
   },
   "outputs": [
    {
     "data": {
      "text/plain": [
       "array(['more_than_2_years', 'between_1_and_2_years', 'less_than_1_year'],\n",
       "      dtype=object)"
      ]
     },
     "execution_count": 15,
     "metadata": {},
     "output_type": "execute_result"
    }
   ],
   "source": [
    "df2['vehicle_age'] = df2['vehicle_age'].apply(lambda x: 'less_than_1_year' if x =='< 1 Year' else\n",
    "                                              'more_than_2_years' if x== '> 2 Years' else\n",
    "                                             'between_1_and_2_years' )\n",
    "df2['vehicle_age'].unique()"
   ]
  },
  {
   "cell_type": "markdown",
   "id": "0890bb48",
   "metadata": {},
   "source": [
    "# 3.0. EDA"
   ]
  },
  {
   "cell_type": "markdown",
   "id": "86ab2328",
   "metadata": {},
   "source": [
    "## 3.1. Univariate Analysis\n"
   ]
  },
  {
   "cell_type": "code",
   "execution_count": 16,
   "id": "cd02f5ec",
   "metadata": {
    "ExecuteTime": {
     "end_time": "2022-03-16T19:39:59.224003Z",
     "start_time": "2022-03-16T19:39:58.775623Z"
    }
   },
   "outputs": [
    {
     "data": {
      "text/plain": [
       "<AxesSubplot:xlabel='response', ylabel='age'>"
      ]
     },
     "execution_count": 16,
     "metadata": {},
     "output_type": "execute_result"
    },
    {
     "data": {
      "image/png": "[encoded data removed]",
      "text/plain": [
       "<Figure size 432x288 with 1 Axes>"
      ]
     },
     "metadata": {
      "needs_background": "light"
     },
     "output_type": "display_data"
    }
   ],
   "source": [
    "#age\n",
    "sns.boxplot(x='response',y='age', data=df2)"
   ]
  },
  {
   "cell_type": "markdown",
   "id": "529ccdb4",
   "metadata": {},
   "source": [
    "..."
   ]
  },
  {
   "cell_type": "code",
   "execution_count": 17,
   "id": "3cb4b525",
   "metadata": {
    "ExecuteTime": {
     "end_time": "2022-03-16T19:39:59.699186Z",
     "start_time": "2022-03-16T19:39:59.225916Z"
    },
    "cell_style": "split"
   },
   "outputs": [
    {
     "data": {
      "image/png": "[encoded data removed]",
      "text/plain": [
       "<Figure size 432x288 with 1 Axes>"
      ]
     },
     "metadata": {
      "needs_background": "light"
     },
     "output_type": "display_data"
    }
   ],
   "source": [
    "#gender \n",
    "aux00 = df2.loc[df2['response']==0, 'gender']\n",
    "sns.histplot(aux00)\n",
    "plt.title('Negative Response by gender\\n');\n"
   ]
  },
  {
   "cell_type": "code",
   "execution_count": 18,
   "id": "26d6fb32",
   "metadata": {
    "ExecuteTime": {
     "end_time": "2022-03-16T19:39:59.838096Z",
     "start_time": "2022-03-16T19:39:59.701364Z"
    },
    "cell_style": "split"
   },
   "outputs": [
    {
     "data": {
      "image/png": "[encoded data removed]",
      "text/plain": [
       "<Figure size 432x288 with 1 Axes>"
      ]
     },
     "metadata": {
      "needs_background": "light"
     },
     "output_type": "display_data"
    }
   ],
   "source": [
    "aux00 = df2.loc[df2['response']==1, 'gender']\n",
    "sns.histplot(aux00)\n",
    "plt.title('Positive Response by gender\\n');"
   ]
  },
  {
   "cell_type": "code",
   "execution_count": 19,
   "id": "00a1630e",
   "metadata": {
    "ExecuteTime": {
     "end_time": "2022-03-16T19:40:00.125347Z",
     "start_time": "2022-03-16T19:39:59.841318Z"
    },
    "cell_style": "center",
    "hide_input": false,
    "scrolled": true
   },
   "outputs": [
    {
     "data": {
      "image/png": "[encoded data removed]",
      "text/plain": [
       "<Figure size 432x288 with 1 Axes>"
      ]
     },
     "metadata": {
      "needs_background": "light"
     },
     "output_type": "display_data"
    }
   ],
   "source": [
    "#histogram with distribution of positive response by age\n",
    "aux00 = df2.loc[df2['response']==1, 'age']\n",
    "sns.histplot(aux00);\n",
    "plt.title('Positive Response by age\\n');"
   ]
  },
  {
   "cell_type": "code",
   "execution_count": 20,
   "id": "3255ee14",
   "metadata": {
    "ExecuteTime": {
     "end_time": "2022-03-16T19:40:00.599789Z",
     "start_time": "2022-03-16T19:40:00.127644Z"
    },
    "cell_style": "center",
    "hide_input": false,
    "scrolled": true
   },
   "outputs": [
    {
     "data": {
      "image/png": "[encoded data removed]",
      "text/plain": [
       "<Figure size 432x288 with 1 Axes>"
      ]
     },
     "metadata": {
      "needs_background": "light"
     },
     "output_type": "display_data"
    }
   ],
   "source": [
    "#histogram with distribution of negative response by age\n",
    "aux00 = df2.loc[df2['response']==0, 'age']\n",
    "sns.histplot(aux00);\n",
    "plt.title('Negative Response by age\\n');"
   ]
  },
  {
   "cell_type": "markdown",
   "id": "39716451",
   "metadata": {
    "cell_style": "center",
    "hide_input": true
   },
   "source": [
    "Young people seems to be less interested in the product.\n",
    "\n",
    "Its interesting to analyse deeply the age about 40-50\n"
   ]
  },
  {
   "cell_type": "markdown",
   "id": "0f6e4fb5",
   "metadata": {
    "cell_style": "center",
    "hide_input": false
   },
   "source": [
    "The distribution is concentrated in the ages about 40-50, the volume of the data is reduced rather than negative response"
   ]
  },
  {
   "cell_type": "code",
   "execution_count": 21,
   "id": "4ee2af32",
   "metadata": {
    "ExecuteTime": {
     "end_time": "2022-03-16T19:40:00.609496Z",
     "start_time": "2022-03-16T19:40:00.601594Z"
    }
   },
   "outputs": [
    {
     "data": {
      "text/plain": [
       "array([ 40454,  33536,  38294, ...,  20706, 101664,  69845])"
      ]
     },
     "execution_count": 21,
     "metadata": {},
     "output_type": "execute_result"
    }
   ],
   "source": [
    "df2['annual_premium'].unique()"
   ]
  },
  {
   "cell_type": "code",
   "execution_count": 22,
   "id": "d204ade8",
   "metadata": {
    "ExecuteTime": {
     "end_time": "2022-03-16T19:40:01.025246Z",
     "start_time": "2022-03-16T19:40:00.803339Z"
    }
   },
   "outputs": [
    {
     "data": {
      "image/png": "[encoded data removed]",
      "text/plain": [
       "<Figure size 432x288 with 1 Axes>"
      ]
     },
     "metadata": {
      "needs_background": "light"
     },
     "output_type": "display_data"
    }
   ],
   "source": [
    "#annual_premium\n",
    "aux = df2[df2['annual_premium']<100000]\n",
    "ax = sns.boxplot(y='annual_premium', x='response',data=aux);\n",
    "ax.set_title('Annual premium distribution by response\\n');\n",
    "ax.set_xticklabels(['No','Yes']);\n"
   ]
  },
  {
   "cell_type": "markdown",
   "id": "f4bc7082",
   "metadata": {},
   "source": [
    "The distribution seems to be concentrated about 40.000 in both positive and negative responses. This variable alone is not helpful to the model.\n",
    "\n",
    "There are a lot of outliers"
   ]
  },
  {
   "cell_type": "code",
   "execution_count": 23,
   "id": "eaec4f8a",
   "metadata": {
    "ExecuteTime": {
     "end_time": "2022-03-16T19:40:01.839082Z",
     "start_time": "2022-03-16T19:40:01.257746Z"
    },
    "cell_style": "split"
   },
   "outputs": [
    {
     "data": {
      "image/png": "[encoded data removed]",
      "text/plain": [
       "<Figure size 432x288 with 1 Axes>"
      ]
     },
     "metadata": {
      "needs_background": "light"
     },
     "output_type": "display_data"
    }
   ],
   "source": [
    "#histogram with distribution of negative response by annual premium\n",
    "aux = df2[(df2['annual_premium']<100000) & (df2['annual_premium']>10000)]\n",
    "aux00 = aux.loc[df2['response']==0, 'annual_premium']\n",
    "sns.histplot(aux00);\n",
    "plt.title('annual premium distribution by negative response\\n');"
   ]
  },
  {
   "cell_type": "code",
   "execution_count": 24,
   "id": "f0f8160d",
   "metadata": {
    "ExecuteTime": {
     "end_time": "2022-03-16T19:40:02.132641Z",
     "start_time": "2022-03-16T19:40:01.841245Z"
    },
    "cell_style": "split"
   },
   "outputs": [
    {
     "data": {
      "image/png": "[encoded data removed]",
      "text/plain": [
       "<Figure size 432x288 with 1 Axes>"
      ]
     },
     "metadata": {
      "needs_background": "light"
     },
     "output_type": "display_data"
    }
   ],
   "source": [
    "#histogram with distribution of positive response by annual premium\n",
    "aux00 = aux.loc[df2['response']==1, 'annual_premium']\n",
    "sns.histplot(aux00);\n",
    "plt.title('annual premium distribution by positive response\\n');"
   ]
  },
  {
   "cell_type": "markdown",
   "id": "06aaf20c",
   "metadata": {},
   "source": [
    "The distribution is almost the same, the only difference is the volume of the data. \n",
    "Conclusion: This variable is not helpful alone."
   ]
  },
  {
   "cell_type": "markdown",
   "id": "41918656",
   "metadata": {},
   "source": [
    "The most part of the distribution is similar, but it would be interested to check regions with much more one than other response"
   ]
  },
  {
   "cell_type": "code",
   "execution_count": 25,
   "id": "57543a11",
   "metadata": {
    "ExecuteTime": {
     "end_time": "2022-03-16T19:40:02.776795Z",
     "start_time": "2022-03-16T19:40:02.538959Z"
    },
    "cell_style": "center"
   },
   "outputs": [
    {
     "data": {
      "image/png": "[encoded data removed]",
      "text/plain": [
       "<Figure size 432x288 with 1 Axes>"
      ]
     },
     "metadata": {
      "needs_background": "light"
     },
     "output_type": "display_data"
    }
   ],
   "source": [
    "#drive license\n",
    "aux = df2[['driving_license','response']].groupby('response').sum().reset_index()\n",
    "\n",
    "ax = sns.barplot(x='response', y='driving_license', data=aux);\n",
    "ax.set_title('response by driving license ');\n",
    "ax.set_xticklabels(['No','Yes']);"
   ]
  },
  {
   "cell_type": "code",
   "execution_count": 26,
   "id": "b216bd56",
   "metadata": {
    "ExecuteTime": {
     "end_time": "2022-03-16T19:40:02.810249Z",
     "start_time": "2022-03-16T19:40:02.778502Z"
    },
    "cell_style": "center",
    "hide_input": true
   },
   "outputs": [
    {
     "data": {
      "text/html": [
       "<div>\n",
       "<style scoped>\n",
       "    .dataframe tbody tr th:only-of-type {\n",
       "        vertical-align: middle;\n",
       "    }\n",
       "\n",
       "    .dataframe tbody tr th {\n",
       "        vertical-align: top;\n",
       "    }\n",
       "\n",
       "    .dataframe thead th {\n",
       "        text-align: right;\n",
       "    }\n",
       "</style>\n",
       "<table border=\"1\" class=\"dataframe\">\n",
       "  <thead>\n",
       "    <tr style=\"text-align: right;\">\n",
       "      <th></th>\n",
       "      <th>response</th>\n",
       "      <th>driving_license</th>\n",
       "      <th>driving_license_perc</th>\n",
       "    </tr>\n",
       "  </thead>\n",
       "  <tbody>\n",
       "    <tr>\n",
       "      <th>0</th>\n",
       "      <td>0</td>\n",
       "      <td>333628</td>\n",
       "      <td>0.877283</td>\n",
       "    </tr>\n",
       "    <tr>\n",
       "      <th>1</th>\n",
       "      <td>1</td>\n",
       "      <td>46669</td>\n",
       "      <td>0.122717</td>\n",
       "    </tr>\n",
       "  </tbody>\n",
       "</table>\n",
       "</div>"
      ],
      "text/plain": [
       "   response  driving_license  driving_license_perc\n",
       "0         0           333628              0.877283\n",
       "1         1            46669              0.122717"
      ]
     },
     "execution_count": 26,
     "metadata": {},
     "output_type": "execute_result"
    }
   ],
   "source": [
    "aux['driving_license_perc'] = aux['driving_license'] / aux['driving_license'].sum()\n",
    "aux"
   ]
  },
  {
   "cell_type": "markdown",
   "id": "9a6398f7",
   "metadata": {},
   "source": [
    "This analysis is not helpful alone. It would work with other variables."
   ]
  },
  {
   "cell_type": "code",
   "execution_count": 27,
   "id": "60365742",
   "metadata": {
    "ExecuteTime": {
     "end_time": "2022-03-16T19:40:03.559844Z",
     "start_time": "2022-03-16T19:40:03.266740Z"
    }
   },
   "outputs": [
    {
     "data": {
      "image/png": "[encoded data removed]",
      "text/plain": [
       "<Figure size 648x432 with 1 Axes>"
      ]
     },
     "metadata": {
      "needs_background": "light"
     },
     "output_type": "display_data"
    }
   ],
   "source": [
    "#region code\n",
    "\n",
    "#region_code ; response; count\n",
    "aux = df2[['region_code', 'id', 'response']].groupby(['region_code','response']).count().reset_index()\n",
    "plt.figure(figsize=(9,6))\n",
    "sns.scatterplot(x='region_code', y='id', hue='response', data=aux);\n",
    "\n"
   ]
  },
  {
   "cell_type": "code",
   "execution_count": 28,
   "id": "8a1c02fb",
   "metadata": {
    "ExecuteTime": {
     "end_time": "2022-03-16T19:40:04.174217Z",
     "start_time": "2022-03-16T19:40:03.561934Z"
    }
   },
   "outputs": [
    {
     "data": {
      "image/png": "[encoded data removed]",
      "text/plain": [
       "<Figure size 864x360 with 1 Axes>"
      ]
     },
     "metadata": {
      "needs_background": "light"
     },
     "output_type": "display_data"
    }
   ],
   "source": [
    "aux = df2[['region_code', 'response']].groupby('region_code').sum().reset_index()\n",
    "plt.figure(figsize=(12,5))\n",
    "sns.barplot(x='region_code',y='response',data=aux)\n",
    "plt.xticks(rotation=90);"
   ]
  },
  {
   "cell_type": "markdown",
   "id": "b15e6a2d",
   "metadata": {},
   "source": [
    "Investigate region code with high number of positive response"
   ]
  },
  {
   "cell_type": "code",
   "execution_count": 29,
   "id": "37f6ab8f",
   "metadata": {
    "ExecuteTime": {
     "end_time": "2022-03-16T19:40:04.218705Z",
     "start_time": "2022-03-16T19:40:04.176354Z"
    }
   },
   "outputs": [
    {
     "data": {
      "text/html": [
       "<div>\n",
       "<style scoped>\n",
       "    .dataframe tbody tr th:only-of-type {\n",
       "        vertical-align: middle;\n",
       "    }\n",
       "\n",
       "    .dataframe tbody tr th {\n",
       "        vertical-align: top;\n",
       "    }\n",
       "\n",
       "    .dataframe thead th {\n",
       "        text-align: right;\n",
       "    }\n",
       "</style>\n",
       "<table border=\"1\" class=\"dataframe\">\n",
       "  <thead>\n",
       "    <tr style=\"text-align: right;\">\n",
       "      <th></th>\n",
       "      <th>region_code</th>\n",
       "      <th>response</th>\n",
       "      <th>total_responses</th>\n",
       "      <th>perc</th>\n",
       "    </tr>\n",
       "  </thead>\n",
       "  <tbody>\n",
       "    <tr>\n",
       "      <th>0</th>\n",
       "      <td>3</td>\n",
       "      <td>1181</td>\n",
       "      <td>9251</td>\n",
       "      <td>0.127662</td>\n",
       "    </tr>\n",
       "    <tr>\n",
       "      <th>1</th>\n",
       "      <td>8</td>\n",
       "      <td>3257</td>\n",
       "      <td>33877</td>\n",
       "      <td>0.096142</td>\n",
       "    </tr>\n",
       "    <tr>\n",
       "      <th>2</th>\n",
       "      <td>28</td>\n",
       "      <td>19917</td>\n",
       "      <td>106415</td>\n",
       "      <td>0.187163</td>\n",
       "    </tr>\n",
       "    <tr>\n",
       "      <th>3</th>\n",
       "      <td>29</td>\n",
       "      <td>1365</td>\n",
       "      <td>11065</td>\n",
       "      <td>0.123362</td>\n",
       "    </tr>\n",
       "    <tr>\n",
       "      <th>4</th>\n",
       "      <td>30</td>\n",
       "      <td>900</td>\n",
       "      <td>12191</td>\n",
       "      <td>0.073825</td>\n",
       "    </tr>\n",
       "    <tr>\n",
       "      <th>5</th>\n",
       "      <td>41</td>\n",
       "      <td>2224</td>\n",
       "      <td>18263</td>\n",
       "      <td>0.121776</td>\n",
       "    </tr>\n",
       "    <tr>\n",
       "      <th>6</th>\n",
       "      <td>46</td>\n",
       "      <td>2032</td>\n",
       "      <td>19749</td>\n",
       "      <td>0.102891</td>\n",
       "    </tr>\n",
       "  </tbody>\n",
       "</table>\n",
       "</div>"
      ],
      "text/plain": [
       "   region_code  response  total_responses      perc\n",
       "0            3      1181             9251  0.127662\n",
       "1            8      3257            33877  0.096142\n",
       "2           28     19917           106415  0.187163\n",
       "3           29      1365            11065  0.123362\n",
       "4           30       900            12191  0.073825\n",
       "5           41      2224            18263  0.121776\n",
       "6           46      2032            19749  0.102891"
      ]
     },
     "execution_count": 29,
     "metadata": {},
     "output_type": "execute_result"
    }
   ],
   "source": [
    "aux1 = df2.loc[df2['region_code'].isin([3,8,28,29,30,41,46])][['response','region_code']]\n",
    "#sum of positive response\n",
    "aux2 = aux1[['response','region_code']].groupby('region_code').sum().reset_index()\n",
    "\n",
    "#count all responses\n",
    "aux3 = aux1[['response','region_code']].groupby('region_code').count().reset_index()\n",
    "\n",
    "#percentage of positive responses\n",
    "aux4 = aux2\n",
    "aux4['total_responses'] = aux3['response']\n",
    "aux4['perc'] = aux2['response']/aux3['response']\n",
    "aux4\n"
   ]
  },
  {
   "cell_type": "markdown",
   "id": "6cb95a53",
   "metadata": {},
   "source": []
  },
  {
   "cell_type": "code",
   "execution_count": 30,
   "id": "c546fbae",
   "metadata": {
    "ExecuteTime": {
     "end_time": "2022-03-16T19:40:04.610477Z",
     "start_time": "2022-03-16T19:40:04.587434Z"
    }
   },
   "outputs": [],
   "source": [
    "#previously insurance\n",
    "aux = df2[['previously_insured','response']].groupby('previously_insured').sum().reset_index()\n",
    "positive_response = len(df2[df2['response']==1])\n",
    "aux['perc'] = aux['response']/positive_response\n"
   ]
  },
  {
   "cell_type": "markdown",
   "id": "76fc13c4",
   "metadata": {},
   "source": [
    "People who already have insurance don't seem to be interested in another.\n"
   ]
  },
  {
   "cell_type": "code",
   "execution_count": 31,
   "id": "1fd93627",
   "metadata": {
    "ExecuteTime": {
     "end_time": "2022-03-16T19:40:05.129183Z",
     "start_time": "2022-03-16T19:40:04.989126Z"
    }
   },
   "outputs": [
    {
     "data": {
      "image/png": "[encoded data removed]",
      "text/plain": [
       "<Figure size 432x288 with 1 Axes>"
      ]
     },
     "metadata": {
      "needs_background": "light"
     },
     "output_type": "display_data"
    }
   ],
   "source": [
    "#vehicle age\n",
    "df2[['vehicle_age', 'response']].head()\n",
    "aux = df2[['vehicle_age', 'response']].groupby('vehicle_age').sum().reset_index()\n",
    "ax =sns.barplot(x='vehicle_age', y='response', data=aux);\n",
    "ax.set_title('Response by vehicle age\\n');\n",
    "ax.set_xticklabels(['1-2 Years', '-1 Year', '+2 Years']);"
   ]
  },
  {
   "cell_type": "markdown",
   "id": "65b47c56",
   "metadata": {
    "ExecuteTime": {
     "end_time": "2022-03-10T17:17:15.880332Z",
     "start_time": "2022-03-10T17:17:15.753533Z"
    }
   },
   "source": [
    "The difference in this variable, but it would be nice to investigate correlation with other features."
   ]
  },
  {
   "cell_type": "code",
   "execution_count": 32,
   "id": "0488a49c",
   "metadata": {
    "ExecuteTime": {
     "end_time": "2022-03-16T19:40:05.489594Z",
     "start_time": "2022-03-16T19:40:05.430266Z"
    }
   },
   "outputs": [
    {
     "data": {
      "text/html": [
       "<div>\n",
       "<style scoped>\n",
       "    .dataframe tbody tr th:only-of-type {\n",
       "        vertical-align: middle;\n",
       "    }\n",
       "\n",
       "    .dataframe tbody tr th {\n",
       "        vertical-align: top;\n",
       "    }\n",
       "\n",
       "    .dataframe thead th {\n",
       "        text-align: right;\n",
       "    }\n",
       "</style>\n",
       "<table border=\"1\" class=\"dataframe\">\n",
       "  <thead>\n",
       "    <tr style=\"text-align: right;\">\n",
       "      <th></th>\n",
       "      <th>vehicle_age</th>\n",
       "      <th>response</th>\n",
       "      <th>0</th>\n",
       "    </tr>\n",
       "  </thead>\n",
       "  <tbody>\n",
       "    <tr>\n",
       "      <th>0</th>\n",
       "      <td>between_1_and_2_years</td>\n",
       "      <td>0</td>\n",
       "      <td>0.434285</td>\n",
       "    </tr>\n",
       "    <tr>\n",
       "      <th>2</th>\n",
       "      <td>between_1_and_2_years</td>\n",
       "      <td>1</td>\n",
       "      <td>0.091328</td>\n",
       "    </tr>\n",
       "    <tr>\n",
       "      <th>1</th>\n",
       "      <td>less_than_1_year</td>\n",
       "      <td>0</td>\n",
       "      <td>0.413488</td>\n",
       "    </tr>\n",
       "    <tr>\n",
       "      <th>4</th>\n",
       "      <td>less_than_1_year</td>\n",
       "      <td>1</td>\n",
       "      <td>0.018897</td>\n",
       "    </tr>\n",
       "    <tr>\n",
       "      <th>3</th>\n",
       "      <td>more_than_2_years</td>\n",
       "      <td>0</td>\n",
       "      <td>0.029663</td>\n",
       "    </tr>\n",
       "    <tr>\n",
       "      <th>5</th>\n",
       "      <td>more_than_2_years</td>\n",
       "      <td>1</td>\n",
       "      <td>0.012338</td>\n",
       "    </tr>\n",
       "  </tbody>\n",
       "</table>\n",
       "</div>"
      ],
      "text/plain": [
       "             vehicle_age  response         0\n",
       "0  between_1_and_2_years         0  0.434285\n",
       "2  between_1_and_2_years         1  0.091328\n",
       "1       less_than_1_year         0  0.413488\n",
       "4       less_than_1_year         1  0.018897\n",
       "3      more_than_2_years         0  0.029663\n",
       "5      more_than_2_years         1  0.012338"
      ]
     },
     "execution_count": 32,
     "metadata": {},
     "output_type": "execute_result"
    }
   ],
   "source": [
    "aux = df2[['vehicle_age','response']].value_counts(normalize=True).reset_index()\n",
    "aux.sort_values('vehicle_age')"
   ]
  },
  {
   "cell_type": "markdown",
   "id": "4c768174",
   "metadata": {
    "ExecuteTime": {
     "end_time": "2022-03-10T19:27:22.898927Z",
     "start_time": "2022-03-10T19:27:22.892124Z"
    }
   },
   "source": [
    "Cars with vehicle age of more than 2 years is bad for the model because there is no big difference between them."
   ]
  },
  {
   "cell_type": "code",
   "execution_count": 33,
   "id": "30c1a390",
   "metadata": {
    "ExecuteTime": {
     "end_time": "2022-03-16T19:40:06.863014Z",
     "start_time": "2022-03-16T19:40:05.808450Z"
    }
   },
   "outputs": [
    {
     "data": {
      "image/png": "[encoded data removed]",
      "text/plain": [
       "<Figure size 1728x864 with 1 Axes>"
      ]
     },
     "metadata": {
      "needs_background": "light"
     },
     "output_type": "display_data"
    }
   ],
   "source": [
    "\n",
    "aux = df2[['policy_sales_channel','response']].groupby('policy_sales_channel').sum().reset_index()\n",
    "plt.figure(figsize=(24,12));\n",
    "sns.barplot(x='response', y='policy_sales_channel', data =aux);"
   ]
  },
  {
   "cell_type": "code",
   "execution_count": 34,
   "id": "e0d9945c",
   "metadata": {
    "ExecuteTime": {
     "end_time": "2022-03-16T19:40:07.013141Z",
     "start_time": "2022-03-16T19:40:06.865054Z"
    }
   },
   "outputs": [
    {
     "data": {
      "text/plain": [
       "<AxesSubplot:xlabel='response', ylabel='vintage'>"
      ]
     },
     "execution_count": 34,
     "metadata": {},
     "output_type": "execute_result"
    },
    {
     "data": {
      "image/png": "[encoded data removed]",
      "text/plain": [
       "<Figure size 432x288 with 1 Axes>"
      ]
     },
     "metadata": {
      "needs_background": "light"
     },
     "output_type": "display_data"
    }
   ],
   "source": [
    "#vintage\n",
    "\n",
    "sns.boxplot(x='response', y='vintage', data=df2)"
   ]
  },
  {
   "cell_type": "code",
   "execution_count": 35,
   "id": "fbaf9726",
   "metadata": {
    "ExecuteTime": {
     "end_time": "2022-03-16T19:40:07.412611Z",
     "start_time": "2022-03-16T19:40:07.015443Z"
    },
    "cell_style": "split"
   },
   "outputs": [
    {
     "data": {
      "image/png": "[encoded data removed]",
      "text/plain": [
       "<Figure size 432x288 with 1 Axes>"
      ]
     },
     "metadata": {
      "needs_background": "light"
     },
     "output_type": "display_data"
    }
   ],
   "source": [
    "aux00 = df2.loc[df2['response']==0,'vintage']\n",
    "sns.histplot(aux00);"
   ]
  },
  {
   "cell_type": "code",
   "execution_count": 36,
   "id": "75b7f9e4",
   "metadata": {
    "ExecuteTime": {
     "end_time": "2022-03-16T19:40:07.602221Z",
     "start_time": "2022-03-16T19:40:07.414467Z"
    },
    "cell_style": "split"
   },
   "outputs": [
    {
     "data": {
      "image/png": "[encoded data removed]",
      "text/plain": [
       "<Figure size 432x288 with 1 Axes>"
      ]
     },
     "metadata": {
      "needs_background": "light"
     },
     "output_type": "display_data"
    }
   ],
   "source": [
    "aux00 = df2.loc[df2['response']==1,'vintage']\n",
    "sns.histplot(aux00);"
   ]
  },
  {
   "cell_type": "markdown",
   "id": "d96b5969",
   "metadata": {},
   "source": [
    "This feature seems to be unimportant"
   ]
  },
  {
   "cell_type": "markdown",
   "id": "ce21c157",
   "metadata": {},
   "source": [
    "## 3.2. Multivariable Analisys\n"
   ]
  },
  {
   "cell_type": "code",
   "execution_count": 37,
   "id": "fa5c6fc1",
   "metadata": {
    "ExecuteTime": {
     "end_time": "2022-03-16T19:40:08.608821Z",
     "start_time": "2022-03-16T19:40:07.759721Z"
    }
   },
   "outputs": [
    {
     "data": {
      "image/png": "[encoded data removed]",
      "text/plain": [
       "<Figure size 1080x1080 with 2 Axes>"
      ]
     },
     "metadata": {
      "needs_background": "light"
     },
     "output_type": "display_data"
    }
   ],
   "source": [
    "correlation = num_attributes.corr( method='pearson' )\n",
    "plt.figure(figsize=(15,15))\n",
    "sns.heatmap(correlation, annot=True);"
   ]
  },
  {
   "cell_type": "markdown",
   "id": "a157222e",
   "metadata": {},
   "source": [
    "# 4.0. Data Preparation"
   ]
  },
  {
   "cell_type": "code",
   "execution_count": 38,
   "id": "d7f60fbc",
   "metadata": {
    "ExecuteTime": {
     "end_time": "2022-03-16T19:40:08.739282Z",
     "start_time": "2022-03-16T19:40:08.611451Z"
    }
   },
   "outputs": [],
   "source": [
    "df3 = df2.copy()\n",
    "\n",
    "X = df3.drop('response', axis=1)\n",
    "y = df3['response'].copy()\n",
    "\n",
    "x_train, x_validation, y_train, y_validation = ms.train_test_split(X, y, test_size=0.2)\n",
    "\n",
    "df3 = pd.concat([x_train, y_train], axis=1)"
   ]
  },
  {
   "cell_type": "markdown",
   "id": "41b2ca16",
   "metadata": {},
   "source": [
    "## Standardization"
   ]
  },
  {
   "cell_type": "code",
   "execution_count": 39,
   "id": "889d913e",
   "metadata": {
    "ExecuteTime": {
     "end_time": "2022-03-16T19:40:09.229967Z",
     "start_time": "2022-03-16T19:40:09.154232Z"
    }
   },
   "outputs": [],
   "source": [
    "ss = pp.StandardScaler()\n",
    "\n",
    "#annual premium\n",
    "df3['annual_premium'] = ss.fit_transform(df3[['annual_premium']].values)\n",
    "pickle.dump(ss, open(r'../src/features/annual_premium_scaler.pkl', 'wb'))"
   ]
  },
  {
   "cell_type": "markdown",
   "id": "0f50036b",
   "metadata": {},
   "source": [
    "## Rescaling"
   ]
  },
  {
   "cell_type": "code",
   "execution_count": 40,
   "id": "ff4b87a9",
   "metadata": {
    "ExecuteTime": {
     "end_time": "2022-03-16T19:40:09.529488Z",
     "start_time": "2022-03-16T19:40:09.505658Z"
    }
   },
   "outputs": [],
   "source": [
    "#Convert in a [0,1] range\n",
    "mms_age = pp.MinMaxScaler()\n",
    "mms_vintage = pp.MinMaxScaler()\n",
    "\n",
    "#age\n",
    "df3['age'] = mms_age.fit_transform(df3[['age']].values)\n",
    "pickle.dump(mms_age, open(r'../src/features/age_scaler.pkl', 'wb'))\n",
    "\n",
    "#vintage\n",
    "df3['vintage'] = mms_vintage.fit_transform(df3[['vintage']].values)\n",
    "pickle.dump(mms_vintage, open(r'../src/features/vintage_scaler.pkl', 'wb'))"
   ]
  },
  {
   "cell_type": "markdown",
   "id": "9805f7b3",
   "metadata": {},
   "source": [
    "## Encoder"
   ]
  },
  {
   "cell_type": "code",
   "execution_count": 41,
   "id": "21871c50",
   "metadata": {
    "ExecuteTime": {
     "end_time": "2022-03-16T19:40:10.716481Z",
     "start_time": "2022-03-16T19:40:10.511283Z"
    }
   },
   "outputs": [],
   "source": [
    "#vehicle age -- One Hot Encoding / Order Target Encoding / Frequency Encoding\n",
    "df3 = pd.get_dummies(df3, prefix='vehicle_age', columns=['vehicle_age'])\n",
    "\n",
    "\n",
    "\n",
    "#region code -- Target Encoding / Weighted Target Encoding / Frequency Encoding\n",
    "target_encode_region_code = df3.groupby('region_code')['response'].mean()\n",
    "df3.loc[:,'region_code'] = df3['region_code'].map(target_encode_region_code)\n",
    "pickle.dump(target_encode_region_code, open(r'../src/features/region_code_encode.pkl', 'wb'))\n",
    "\n",
    "#policy_sales_channel -- Target Encoding / Frequency Encoding\n",
    "fe_policy_sales_channel = df3.groupby('policy_sales_channel').size() / len(df3)\n",
    "df3.loc[:,'policy_sales_channel'] = df3['policy_sales_channel'].map(fe_policy_sales_channel)\n",
    "pickle.dump(fe_policy_sales_channel, open(r'../src/features/policy_sales_channel_encode.pkl', 'wb'))\n",
    "\n",
    "\n",
    "#gender -- Target Encoding\n",
    "target_encode_gender = df3.groupby('gender')['response'].mean()\n",
    "df3.loc[:,'gender'] = df3['gender'].map(target_encode_gender)\n",
    "pickle.dump(target_encode_gender, open(r'../src/features/gender_encode.pkl', 'wb'))"
   ]
  },
  {
   "cell_type": "markdown",
   "id": "25c224c4",
   "metadata": {
    "ExecuteTime": {
     "end_time": "2022-03-10T22:40:11.093555Z",
     "start_time": "2022-03-10T22:40:11.078922Z"
    }
   },
   "source": [
    "## 4.4. Validation Preparation"
   ]
  },
  {
   "cell_type": "code",
   "execution_count": 42,
   "id": "3e257035",
   "metadata": {
    "ExecuteTime": {
     "end_time": "2022-03-16T19:40:11.341927Z",
     "start_time": "2022-03-16T19:40:11.202332Z"
    }
   },
   "outputs": [],
   "source": [
    "#vehicle age \n",
    "x_validation = pd.get_dummies(x_validation, prefix='vehicle_age', columns=['vehicle_age'])\n",
    "\n",
    "#region code \n",
    "x_validation.loc[:,'region_code'] = x_validation.loc[:,'region_code'].map(target_encode_region_code)\n",
    "\n",
    "#policy_sales_channel \n",
    "x_validation.loc[:,'policy_sales_channel'] = x_validation.loc[:,'policy_sales_channel'].map(fe_policy_sales_channel)\n",
    "\n",
    "#gender \n",
    "x_validation.loc[:,'gender'] = x_validation.loc[:,'gender'].map(target_encode_gender)\n",
    "\n",
    "#age\n",
    "x_validation['age'] = mms_age.fit_transform(x_validation[['age']].values)\n",
    "\n",
    "#vintage\n",
    "x_validation['vintage'] = mms_vintage.fit_transform(x_validation[['vintage']].values)\n",
    "\n",
    "#annual premium\n",
    "x_validation['annual_premium'] = ss.fit_transform(x_validation[['annual_premium']].values)\n",
    "\n",
    "# fillna\n",
    "x_validation = x_validation.fillna( 0 )\n",
    "\n",
    "\n"
   ]
  },
  {
   "cell_type": "markdown",
   "id": "d33be0d9",
   "metadata": {
    "ExecuteTime": {
     "end_time": "2022-03-12T18:42:28.261745Z",
     "start_time": "2022-03-12T18:42:28.248318Z"
    }
   },
   "source": [
    "# 5.0. Feature Selection"
   ]
  },
  {
   "cell_type": "code",
   "execution_count": 43,
   "id": "06816fae",
   "metadata": {
    "ExecuteTime": {
     "end_time": "2022-03-16T19:40:12.119430Z",
     "start_time": "2022-03-16T19:40:12.032271Z"
    }
   },
   "outputs": [],
   "source": [
    "df4 = df3.copy()\n",
    "x_train_n = x_train.values\n",
    "y_train_n = y_train.values"
   ]
  },
  {
   "cell_type": "markdown",
   "id": "53ef831f",
   "metadata": {
    "ExecuteTime": {
     "end_time": "2022-03-12T18:55:27.915548Z",
     "start_time": "2022-03-12T18:55:27.907520Z"
    }
   },
   "source": [
    "## 5.2. Boruta as Feature Selector"
   ]
  },
  {
   "cell_type": "code",
   "execution_count": 44,
   "id": "c5cffb19",
   "metadata": {
    "ExecuteTime": {
     "end_time": "2022-03-16T19:40:12.473951Z",
     "start_time": "2022-03-16T19:40:12.470567Z"
    }
   },
   "outputs": [],
   "source": [
    "# #define Random Forest Regressor\n",
    "# rf = RandomForestRegressor(n_jobs=-1)\n",
    "\n",
    "# #define boruta\n",
    "# boruta = BorutaPy( rf, n_estimators='auto', verbose=2, random_state=42 ).fit(x_train_n, y_train_n )"
   ]
  },
  {
   "cell_type": "markdown",
   "id": "51a76b70",
   "metadata": {
    "ExecuteTime": {
     "end_time": "2022-03-12T19:15:19.789023Z",
     "start_time": "2022-03-12T19:15:19.767731Z"
    }
   },
   "source": [
    "## 5.3. Feature Importancia"
   ]
  },
  {
   "cell_type": "code",
   "execution_count": 45,
   "id": "c15c9b7b",
   "metadata": {
    "ExecuteTime": {
     "end_time": "2022-03-16T19:40:12.925202Z",
     "start_time": "2022-03-16T19:40:12.920476Z"
    }
   },
   "outputs": [],
   "source": [
    "# #model definition\n",
    "# forest = en.ExtraTreesClassifier(n_estimators=250, random_state=3, n_jobs=-1)\n",
    "\n",
    "\n",
    "# #data preparation\n",
    "# x_train_n = df4.drop(['id','response'],axis=1)\n",
    "# y_train_n = y_train.values\n",
    "# forest.fit(x_train_n, y_train_n)"
   ]
  },
  {
   "cell_type": "code",
   "execution_count": 46,
   "id": "f8698f7e",
   "metadata": {
    "ExecuteTime": {
     "end_time": "2022-03-16T19:40:13.111205Z",
     "start_time": "2022-03-16T19:40:13.107315Z"
    }
   },
   "outputs": [],
   "source": [
    "# importances = forest.feature_importances_\n",
    "# std = np.std([tree.feature_importances_ for tree in forest.estimators_], axis=0)\n",
    "# indices = np.argsort(importances)[::-1]\n",
    "\n",
    "# #print the feature ranking\n",
    "# print('Feature ranking:')\n",
    "# df = pd.DataFrame()\n",
    "# for i, j in zip(x_train_n, forest.feature_importances_):\n",
    "#     aux = pd.DataFrame({'feature':i, 'importance': j},index=[0])\n",
    "#     df = pd.concat([df,aux],axis=0)\n",
    "    \n",
    "# print(df.sort_values('importance', ascending=False))\n",
    "\n",
    "# #Plot the impurity-based feature importances of the forest\n",
    "# plt.figure()\n",
    "# plt.title('Feature Importances')\n",
    "# plt.bar(range(x_train_n.shape[1]),importances[indices], color='r', yerr=std[indices], align='center')\n",
    "# plt.xticks(range(x_train_n.shape[1]),indices)\n",
    "# plt.xlim([-1, x_train_n.shape[1]])\n",
    "# plt.show()\n"
   ]
  },
  {
   "cell_type": "markdown",
   "id": "34932035",
   "metadata": {},
   "source": [
    "# 6.0. Machine Learning"
   ]
  },
  {
   "cell_type": "code",
   "execution_count": 47,
   "id": "4d09b9a4",
   "metadata": {
    "ExecuteTime": {
     "end_time": "2022-03-16T19:40:13.557776Z",
     "start_time": "2022-03-16T19:40:13.538055Z"
    }
   },
   "outputs": [],
   "source": [
    "#features selected\n",
    "\n",
    "cols_selected = ['vintage','annual_premium','age','region_code','vehicle_damage','policy_sales_channel','previously_insured']\n",
    "\n",
    "x_train = df3[cols_selected]\n",
    "x_val = x_validation[cols_selected]\n",
    "y_val = y_validation.copy()"
   ]
  },
  {
   "cell_type": "markdown",
   "id": "ca611d15",
   "metadata": {
    "ExecuteTime": {
     "start_time": "2022-03-12T20:14:12.192Z"
    }
   },
   "source": [
    "## 6.1. KNN"
   ]
  },
  {
   "cell_type": "code",
   "execution_count": 48,
   "id": "542eba45",
   "metadata": {
    "ExecuteTime": {
     "end_time": "2022-03-16T19:40:22.069261Z",
     "start_time": "2022-03-16T19:40:13.975266Z"
    }
   },
   "outputs": [],
   "source": [
    "#model definition\n",
    "knn_model = nh.KNeighborsClassifier(n_neighbors=9)\n",
    "\n",
    "#model training\n",
    "knn_model.fit(x_train,y_train)\n",
    "\n",
    "#model prediction - Poder de generalização\n",
    "yhat_knn = knn_model.predict_proba(x_val)\n"
   ]
  },
  {
   "cell_type": "code",
   "execution_count": 49,
   "id": "b59fbee3",
   "metadata": {
    "ExecuteTime": {
     "end_time": "2022-03-16T19:40:22.225868Z",
     "start_time": "2022-03-16T19:40:22.071244Z"
    },
    "cell_style": "split",
    "hide_input": true
   },
   "outputs": [
    {
     "data": {
      "image/png": "[encoded data removed]",
      "text/plain": [
       "<Figure size 432x288 with 1 Axes>"
      ]
     },
     "metadata": {
      "needs_background": "light"
     },
     "output_type": "display_data"
    }
   ],
   "source": [
    "#Accumulative gain\n",
    "skplt.metrics.plot_cumulative_gain(y_val,yhat_knn);"
   ]
  },
  {
   "cell_type": "code",
   "execution_count": 50,
   "id": "4111cb5f",
   "metadata": {
    "ExecuteTime": {
     "end_time": "2022-03-16T19:40:22.432052Z",
     "start_time": "2022-03-16T19:40:22.227698Z"
    },
    "cell_style": "split",
    "hide_input": true
   },
   "outputs": [
    {
     "data": {
      "image/png": "[encoded data removed]",
      "text/plain": [
       "<Figure size 432x288 with 1 Axes>"
      ]
     },
     "metadata": {
      "needs_background": "light"
     },
     "output_type": "display_data"
    }
   ],
   "source": [
    "#Lift curve\n",
    "skplt.metrics.plot_lift_curve(y_val,yhat_knn);"
   ]
  },
  {
   "cell_type": "code",
   "execution_count": 51,
   "id": "c7752f9b",
   "metadata": {
    "ExecuteTime": {
     "end_time": "2022-03-16T19:40:22.499130Z",
     "start_time": "2022-03-16T19:40:22.435779Z"
    }
   },
   "outputs": [
    {
     "data": {
      "text/html": [
       "<div>\n",
       "<style scoped>\n",
       "    .dataframe tbody tr th:only-of-type {\n",
       "        vertical-align: middle;\n",
       "    }\n",
       "\n",
       "    .dataframe tbody tr th {\n",
       "        vertical-align: top;\n",
       "    }\n",
       "\n",
       "    .dataframe thead th {\n",
       "        text-align: right;\n",
       "    }\n",
       "</style>\n",
       "<table border=\"1\" class=\"dataframe\">\n",
       "  <thead>\n",
       "    <tr style=\"text-align: right;\">\n",
       "      <th></th>\n",
       "      <th>Precision_at_k</th>\n",
       "      <th>Recall_at_k</th>\n",
       "    </tr>\n",
       "  </thead>\n",
       "  <tbody>\n",
       "    <tr>\n",
       "      <th>KNN</th>\n",
       "      <td>0.297</td>\n",
       "      <td>0.63</td>\n",
       "    </tr>\n",
       "  </tbody>\n",
       "</table>\n",
       "</div>"
      ],
      "text/plain": [
       "    Precision_at_k Recall_at_k\n",
       "KNN          0.297        0.63"
      ]
     },
     "execution_count": 51,
     "metadata": {},
     "output_type": "execute_result"
    }
   ],
   "source": [
    "at_k_metrics( 'KNN', x_validation, y_validation, yhat_knn, k=20000 )"
   ]
  },
  {
   "cell_type": "markdown",
   "id": "da8fc469",
   "metadata": {},
   "source": [
    "### KNN Cross Validation"
   ]
  },
  {
   "cell_type": "code",
   "execution_count": 52,
   "id": "fca45f7f",
   "metadata": {
    "ExecuteTime": {
     "end_time": "2022-03-16T19:40:54.203276Z",
     "start_time": "2022-03-16T19:40:23.282318Z"
    }
   },
   "outputs": [
    {
     "data": {
      "text/html": [
       "<div>\n",
       "<style scoped>\n",
       "    .dataframe tbody tr th:only-of-type {\n",
       "        vertical-align: middle;\n",
       "    }\n",
       "\n",
       "    .dataframe tbody tr th {\n",
       "        vertical-align: top;\n",
       "    }\n",
       "\n",
       "    .dataframe thead th {\n",
       "        text-align: right;\n",
       "    }\n",
       "</style>\n",
       "<table border=\"1\" class=\"dataframe\">\n",
       "  <thead>\n",
       "    <tr style=\"text-align: right;\">\n",
       "      <th></th>\n",
       "      <th>Precision_at_k</th>\n",
       "      <th>Recall_at_k</th>\n",
       "    </tr>\n",
       "  </thead>\n",
       "  <tbody>\n",
       "    <tr>\n",
       "      <th>KNN</th>\n",
       "      <td>0.28 +/- 0.0</td>\n",
       "      <td>0.75 +/- 0.01</td>\n",
       "    </tr>\n",
       "  </tbody>\n",
       "</table>\n",
       "</div>"
      ],
      "text/plain": [
       "    Precision_at_k    Recall_at_k\n",
       "KNN   0.28 +/- 0.0  0.75 +/- 0.01"
      ]
     },
     "execution_count": 52,
     "metadata": {},
     "output_type": "execute_result"
    }
   ],
   "source": [
    "knn_cv = cross_validation('KNN', knn_model, x_train, y_train)\n",
    "knn_cv"
   ]
  },
  {
   "cell_type": "markdown",
   "id": "89465806",
   "metadata": {
    "ExecuteTime": {
     "start_time": "2022-03-12T20:14:12.192Z"
    }
   },
   "source": [
    "## 6.2. Logistic Regressor"
   ]
  },
  {
   "cell_type": "code",
   "execution_count": 52,
   "id": "828507b8",
   "metadata": {
    "ExecuteTime": {
     "end_time": "2022-03-16T11:51:19.350305Z",
     "start_time": "2022-03-16T11:51:17.816852Z"
    },
    "cell_style": "center",
    "hide_input": false,
    "scrolled": false
   },
   "outputs": [],
   "source": [
    "#model definition\n",
    "lr_model = lm.LogisticRegression(random_state=5)\n",
    "\n",
    "#model training\n",
    "\n",
    "lr_model.fit(x_train,y_train)\n",
    "\n",
    "#model prediction\n",
    "yhat_lr = lr_model.predict_proba(x_val)\n",
    "\n"
   ]
  },
  {
   "cell_type": "code",
   "execution_count": 53,
   "id": "f0cbfc08",
   "metadata": {
    "ExecuteTime": {
     "end_time": "2022-03-16T11:51:22.588950Z",
     "start_time": "2022-03-16T11:51:22.416859Z"
    },
    "cell_style": "split",
    "hide_input": true,
    "scrolled": true
   },
   "outputs": [
    {
     "data": {
      "image/png": "[encoded data removed]",
      "text/plain": [
       "<Figure size 432x288 with 1 Axes>"
      ]
     },
     "metadata": {
      "needs_background": "light"
     },
     "output_type": "display_data"
    }
   ],
   "source": [
    "skplt.metrics.plot_lift_curve( y_val, yhat_lr );"
   ]
  },
  {
   "cell_type": "code",
   "execution_count": 54,
   "id": "5109c836",
   "metadata": {
    "ExecuteTime": {
     "end_time": "2022-03-16T11:51:22.742530Z",
     "start_time": "2022-03-16T11:51:22.590572Z"
    },
    "cell_style": "split",
    "hide_input": true,
    "scrolled": true
   },
   "outputs": [
    {
     "data": {
      "image/png": "[encoded data removed]",
      "text/plain": [
       "<Figure size 432x288 with 1 Axes>"
      ]
     },
     "metadata": {
      "needs_background": "light"
     },
     "output_type": "display_data"
    }
   ],
   "source": [
    "#Accumulative gain\n",
    "skplt.metrics.plot_cumulative_gain(y_val,yhat_lr);"
   ]
  },
  {
   "cell_type": "code",
   "execution_count": 55,
   "id": "5ca65348",
   "metadata": {
    "ExecuteTime": {
     "end_time": "2022-03-16T11:51:23.135276Z",
     "start_time": "2022-03-16T11:51:23.074530Z"
    }
   },
   "outputs": [
    {
     "data": {
      "text/html": [
       "<div>\n",
       "<style scoped>\n",
       "    .dataframe tbody tr th:only-of-type {\n",
       "        vertical-align: middle;\n",
       "    }\n",
       "\n",
       "    .dataframe tbody tr th {\n",
       "        vertical-align: top;\n",
       "    }\n",
       "\n",
       "    .dataframe thead th {\n",
       "        text-align: right;\n",
       "    }\n",
       "</style>\n",
       "<table border=\"1\" class=\"dataframe\">\n",
       "  <thead>\n",
       "    <tr style=\"text-align: right;\">\n",
       "      <th></th>\n",
       "      <th>Precision_at_k</th>\n",
       "      <th>Recall_at_k</th>\n",
       "    </tr>\n",
       "  </thead>\n",
       "  <tbody>\n",
       "    <tr>\n",
       "      <th>Logistic Regressor</th>\n",
       "      <td>0.255</td>\n",
       "      <td>0.547</td>\n",
       "    </tr>\n",
       "  </tbody>\n",
       "</table>\n",
       "</div>"
      ],
      "text/plain": [
       "                   Precision_at_k Recall_at_k\n",
       "Logistic Regressor          0.255       0.547"
      ]
     },
     "execution_count": 55,
     "metadata": {},
     "output_type": "execute_result"
    }
   ],
   "source": [
    "at_k_metrics( 'Logistic Regressor', x_validation, y_validation, yhat_lr, k=20000 )"
   ]
  },
  {
   "cell_type": "markdown",
   "id": "f4febca7",
   "metadata": {},
   "source": [
    "### Logistic Regressor Cross Validation"
   ]
  },
  {
   "cell_type": "code",
   "execution_count": 56,
   "id": "83e6e054",
   "metadata": {
    "ExecuteTime": {
     "end_time": "2022-03-16T11:51:31.175338Z",
     "start_time": "2022-03-16T11:51:25.286346Z"
    }
   },
   "outputs": [
    {
     "data": {
      "text/html": [
       "<div>\n",
       "<style scoped>\n",
       "    .dataframe tbody tr th:only-of-type {\n",
       "        vertical-align: middle;\n",
       "    }\n",
       "\n",
       "    .dataframe tbody tr th {\n",
       "        vertical-align: top;\n",
       "    }\n",
       "\n",
       "    .dataframe thead th {\n",
       "        text-align: right;\n",
       "    }\n",
       "</style>\n",
       "<table border=\"1\" class=\"dataframe\">\n",
       "  <thead>\n",
       "    <tr style=\"text-align: right;\">\n",
       "      <th></th>\n",
       "      <th>Precision_at_k</th>\n",
       "      <th>Recall_at_k</th>\n",
       "    </tr>\n",
       "  </thead>\n",
       "  <tbody>\n",
       "    <tr>\n",
       "      <th>Logistic Regressor</th>\n",
       "      <td>0.28 +/- 0.0</td>\n",
       "      <td>0.74 +/- 0.0</td>\n",
       "    </tr>\n",
       "  </tbody>\n",
       "</table>\n",
       "</div>"
      ],
      "text/plain": [
       "                   Precision_at_k   Recall_at_k\n",
       "Logistic Regressor   0.28 +/- 0.0  0.74 +/- 0.0"
      ]
     },
     "execution_count": 56,
     "metadata": {},
     "output_type": "execute_result"
    }
   ],
   "source": [
    "lr_cv = cross_validation('Logistic Regressor', lr_model, x_train, y_train)\n",
    "lr_cv"
   ]
  },
  {
   "cell_type": "markdown",
   "id": "88c3fd53",
   "metadata": {
    "ExecuteTime": {
     "start_time": "2022-03-12T20:14:12.192Z"
    }
   },
   "source": [
    "## 6.2. XBoost Classifier"
   ]
  },
  {
   "cell_type": "code",
   "execution_count": 72,
   "id": "f8145b5c",
   "metadata": {
    "ExecuteTime": {
     "end_time": "2022-03-16T12:18:46.817270Z",
     "start_time": "2022-03-16T12:11:07.990217Z"
    },
    "cell_style": "center",
    "hide_input": false,
    "scrolled": false
   },
   "outputs": [
    {
     "name": "stdout",
     "output_type": "stream",
     "text": [
      "[09:11:08] WARNING: ../src/learner.cc:1115: Starting in XGBoost 1.3.0, the default evaluation metric used with the objective 'binary:logistic' was changed from 'error' to 'logloss'. Explicitly set eval_metric if you'd like to restore the old behavior.\n"
     ]
    }
   ],
   "source": [
    "#model definition\n",
    "xgb_model_tunned = XGBClassifier(n_estimators = 1500,\n",
    "                          eta = 0.03,\n",
    "                          max_depth = 3,\n",
    "                          subsample = 0.7,\n",
    "                          colsample_bytree = 0.9,\n",
    "                          min_child_weight = 3)\n",
    "\n",
    "#model training\n",
    "xgb_model_tunned.fit(x_train,y_train)\n",
    "\n",
    "#model prediction\n",
    "yhat_xgb = xgb_model_tunned.predict_proba(x_val)\n",
    "\n"
   ]
  },
  {
   "cell_type": "code",
   "execution_count": 73,
   "id": "99a885ec",
   "metadata": {
    "ExecuteTime": {
     "end_time": "2022-03-16T12:18:46.911552Z",
     "start_time": "2022-03-16T12:18:46.819095Z"
    }
   },
   "outputs": [],
   "source": [
    "pickle.dump(xgb_model_tunned, open(r'../src/model/xgb_model.pkl', 'wb'))"
   ]
  },
  {
   "cell_type": "code",
   "execution_count": 74,
   "id": "c4c76ce5",
   "metadata": {
    "ExecuteTime": {
     "end_time": "2022-03-16T12:19:53.975772Z",
     "start_time": "2022-03-16T12:19:53.732924Z"
    },
    "cell_style": "split",
    "hide_input": false,
    "scrolled": true
   },
   "outputs": [
    {
     "data": {
      "image/png": "[encoded data removed]",
      "text/plain": [
       "<Figure size 432x288 with 1 Axes>"
      ]
     },
     "metadata": {
      "needs_background": "light"
     },
     "output_type": "display_data"
    }
   ],
   "source": [
    "skplt.metrics.plot_lift_curve( y_val, yhat_xgb );"
   ]
  },
  {
   "cell_type": "code",
   "execution_count": 75,
   "id": "7a6f4893",
   "metadata": {
    "ExecuteTime": {
     "end_time": "2022-03-16T12:19:56.308292Z",
     "start_time": "2022-03-16T12:19:56.124211Z"
    },
    "cell_style": "split",
    "hide_input": false,
    "scrolled": true
   },
   "outputs": [
    {
     "data": {
      "image/png": "[encoded data removed]",
      "text/plain": [
       "<Figure size 432x288 with 1 Axes>"
      ]
     },
     "metadata": {
      "needs_background": "light"
     },
     "output_type": "display_data"
    }
   ],
   "source": [
    "#Accumulative gain\n",
    "skplt.metrics.plot_cumulative_gain(y_val,yhat_xgb);"
   ]
  },
  {
   "cell_type": "code",
   "execution_count": 76,
   "id": "f05ddd49",
   "metadata": {
    "ExecuteTime": {
     "end_time": "2022-03-16T12:19:59.827028Z",
     "start_time": "2022-03-16T12:19:59.775309Z"
    }
   },
   "outputs": [
    {
     "data": {
      "text/html": [
       "<div>\n",
       "<style scoped>\n",
       "    .dataframe tbody tr th:only-of-type {\n",
       "        vertical-align: middle;\n",
       "    }\n",
       "\n",
       "    .dataframe tbody tr th {\n",
       "        vertical-align: top;\n",
       "    }\n",
       "\n",
       "    .dataframe thead th {\n",
       "        text-align: right;\n",
       "    }\n",
       "</style>\n",
       "<table border=\"1\" class=\"dataframe\">\n",
       "  <thead>\n",
       "    <tr style=\"text-align: right;\">\n",
       "      <th></th>\n",
       "      <th>Precision_at_k</th>\n",
       "      <th>Recall_at_k</th>\n",
       "    </tr>\n",
       "  </thead>\n",
       "  <tbody>\n",
       "    <tr>\n",
       "      <th>XGBoost Classifier</th>\n",
       "      <td>0.285</td>\n",
       "      <td>0.609</td>\n",
       "    </tr>\n",
       "  </tbody>\n",
       "</table>\n",
       "</div>"
      ],
      "text/plain": [
       "                   Precision_at_k Recall_at_k\n",
       "XGBoost Classifier          0.285       0.609"
      ]
     },
     "execution_count": 76,
     "metadata": {},
     "output_type": "execute_result"
    }
   ],
   "source": [
    "at_k_metrics( 'XGBoost Classifier', x_validation, y_validation, yhat_xgb, k=20000 )"
   ]
  },
  {
   "cell_type": "markdown",
   "id": "429a64db",
   "metadata": {},
   "source": [
    "### Logistic Regressor Cross Validation"
   ]
  },
  {
   "cell_type": "code",
   "execution_count": null,
   "id": "98bcb34b",
   "metadata": {
    "ExecuteTime": {
     "start_time": "2022-03-16T12:20:12.971Z"
    },
    "scrolled": true
   },
   "outputs": [
    {
     "name": "stderr",
     "output_type": "stream",
     "text": [
      "/home/heitor/repos/pa004_health_insurance_cross_sell/venv/lib/python3.8/site-packages/xgboost/sklearn.py:1224: UserWarning: The use of label encoder in XGBClassifier is deprecated and will be removed in a future release. To remove this warning, do the following: 1) Pass option use_label_encoder=False when constructing XGBClassifier object; and 2) Encode your labels (y) as integers starting with 0, i.e. 0, 1, 2, ..., [num_class - 1].\n",
      "  warnings.warn(label_encoder_deprecation_msg, UserWarning)\n",
      "/home/heitor/repos/pa004_health_insurance_cross_sell/venv/lib/python3.8/site-packages/xgboost/data.py:262: FutureWarning: pandas.Int64Index is deprecated and will be removed from pandas in a future version. Use pandas.Index with the appropriate dtype instead.\n",
      "  elif isinstance(data.columns, (pd.Int64Index, pd.RangeIndex)):\n"
     ]
    },
    {
     "name": "stdout",
     "output_type": "stream",
     "text": [
      "[09:20:13] WARNING: ../src/learner.cc:1115: Starting in XGBoost 1.3.0, the default evaluation metric used with the objective 'binary:logistic' was changed from 'error' to 'logloss'. Explicitly set eval_metric if you'd like to restore the old behavior.\n"
     ]
    },
    {
     "name": "stderr",
     "output_type": "stream",
     "text": [
      "/home/heitor/repos/pa004_health_insurance_cross_sell/venv/lib/python3.8/site-packages/xgboost/sklearn.py:1224: UserWarning: The use of label encoder in XGBClassifier is deprecated and will be removed in a future release. To remove this warning, do the following: 1) Pass option use_label_encoder=False when constructing XGBClassifier object; and 2) Encode your labels (y) as integers starting with 0, i.e. 0, 1, 2, ..., [num_class - 1].\n",
      "  warnings.warn(label_encoder_deprecation_msg, UserWarning)\n",
      "/home/heitor/repos/pa004_health_insurance_cross_sell/venv/lib/python3.8/site-packages/xgboost/data.py:262: FutureWarning: pandas.Int64Index is deprecated and will be removed from pandas in a future version. Use pandas.Index with the appropriate dtype instead.\n",
      "  elif isinstance(data.columns, (pd.Int64Index, pd.RangeIndex)):\n"
     ]
    },
    {
     "name": "stdout",
     "output_type": "stream",
     "text": [
      "[09:27:23] WARNING: ../src/learner.cc:1115: Starting in XGBoost 1.3.0, the default evaluation metric used with the objective 'binary:logistic' was changed from 'error' to 'logloss'. Explicitly set eval_metric if you'd like to restore the old behavior.\n"
     ]
    },
    {
     "name": "stderr",
     "output_type": "stream",
     "text": [
      "/home/heitor/repos/pa004_health_insurance_cross_sell/venv/lib/python3.8/site-packages/xgboost/sklearn.py:1224: UserWarning: The use of label encoder in XGBClassifier is deprecated and will be removed in a future release. To remove this warning, do the following: 1) Pass option use_label_encoder=False when constructing XGBClassifier object; and 2) Encode your labels (y) as integers starting with 0, i.e. 0, 1, 2, ..., [num_class - 1].\n",
      "  warnings.warn(label_encoder_deprecation_msg, UserWarning)\n",
      "/home/heitor/repos/pa004_health_insurance_cross_sell/venv/lib/python3.8/site-packages/xgboost/data.py:262: FutureWarning: pandas.Int64Index is deprecated and will be removed from pandas in a future version. Use pandas.Index with the appropriate dtype instead.\n",
      "  elif isinstance(data.columns, (pd.Int64Index, pd.RangeIndex)):\n"
     ]
    },
    {
     "name": "stdout",
     "output_type": "stream",
     "text": [
      "[09:34:28] WARNING: ../src/learner.cc:1115: Starting in XGBoost 1.3.0, the default evaluation metric used with the objective 'binary:logistic' was changed from 'error' to 'logloss'. Explicitly set eval_metric if you'd like to restore the old behavior.\n"
     ]
    },
    {
     "name": "stderr",
     "output_type": "stream",
     "text": [
      "/home/heitor/repos/pa004_health_insurance_cross_sell/venv/lib/python3.8/site-packages/xgboost/sklearn.py:1224: UserWarning: The use of label encoder in XGBClassifier is deprecated and will be removed in a future release. To remove this warning, do the following: 1) Pass option use_label_encoder=False when constructing XGBClassifier object; and 2) Encode your labels (y) as integers starting with 0, i.e. 0, 1, 2, ..., [num_class - 1].\n",
      "  warnings.warn(label_encoder_deprecation_msg, UserWarning)\n",
      "/home/heitor/repos/pa004_health_insurance_cross_sell/venv/lib/python3.8/site-packages/xgboost/data.py:262: FutureWarning: pandas.Int64Index is deprecated and will be removed from pandas in a future version. Use pandas.Index with the appropriate dtype instead.\n",
      "  elif isinstance(data.columns, (pd.Int64Index, pd.RangeIndex)):\n"
     ]
    },
    {
     "name": "stdout",
     "output_type": "stream",
     "text": [
      "[09:41:35] WARNING: ../src/learner.cc:1115: Starting in XGBoost 1.3.0, the default evaluation metric used with the objective 'binary:logistic' was changed from 'error' to 'logloss'. Explicitly set eval_metric if you'd like to restore the old behavior.\n"
     ]
    }
   ],
   "source": [
    "xgb_cv = cross_validation('XGBoost Classifier', xgb_model_tunned, x_train, y_train)\n",
    "xgb_cv"
   ]
  },
  {
   "cell_type": "markdown",
   "id": "087e5fad",
   "metadata": {
    "ExecuteTime": {
     "end_time": "2022-03-14T19:20:40.834240Z",
     "start_time": "2022-03-14T19:20:40.797018Z"
    }
   },
   "source": [
    "# 8.0 Hyperparameter Fine Tunning"
   ]
  },
  {
   "cell_type": "code",
   "execution_count": 92,
   "id": "1f57aa57",
   "metadata": {
    "ExecuteTime": {
     "end_time": "2022-03-15T21:21:17.099483Z",
     "start_time": "2022-03-15T21:21:17.095459Z"
    }
   },
   "outputs": [],
   "source": [
    "# import random\n",
    "\n",
    "# param = {\n",
    "# 'n_estimators': [1500, 1700, 2500, 3000, 3500],\n",
    "# 'eta': [0.01, 0.03],\n",
    "# 'max_depth': [3, 5, 9],\n",
    "# 'subsample': [0.1, 0.5, 0.7],\n",
    "# 'colsample_bytree': [0.3, 0.7, 0.9],\n",
    "# 'min_child_weight': [3, 8, 15]\n",
    "# }\n",
    "\n",
    "# MAX_EVAL = 5\n",
    "\n",
    "# final_result = pd.DataFrame()\n",
    "\n",
    "# for i in range( MAX_EVAL ):\n",
    "\n",
    "# # choose values for parameters randomly\n",
    "\n",
    "#     hp = { k: random.sample( v, 1 )[0] for k, v in param.items() }\n",
    "#     print( hp )\n",
    "#     # model\n",
    "\n",
    "#     model_xgb = XGBClassifier( objective='reg:squarederror',\n",
    "#     n_estimators=hp['n_estimators'],\n",
    "#     eta=hp['eta'],\n",
    "#     max_depth=hp['max_depth'],\n",
    "#     subsample=hp['subsample'],\n",
    "#     colsample_bytee=hp['colsample_bytree'],\n",
    "#     min_child_weight=hp['min_child_weight'] )\n",
    "\n",
    "\n",
    "#     # performance\n",
    "#     result = cross_validation('XGBoost Classifier', xgb_model, x_train, y_train)\n",
    "#     final_result = pd.concat( [final_result, result] )\n",
    "# #\n",
    "# #final_result"
   ]
  },
  {
   "cell_type": "code",
   "execution_count": 84,
   "id": "443d219f",
   "metadata": {
    "ExecuteTime": {
     "end_time": "2022-03-15T21:00:41.320107Z",
     "start_time": "2022-03-15T21:00:41.312766Z"
    }
   },
   "outputs": [
    {
     "data": {
      "text/html": [
       "<div>\n",
       "<style scoped>\n",
       "    .dataframe tbody tr th:only-of-type {\n",
       "        vertical-align: middle;\n",
       "    }\n",
       "\n",
       "    .dataframe tbody tr th {\n",
       "        vertical-align: top;\n",
       "    }\n",
       "\n",
       "    .dataframe thead th {\n",
       "        text-align: right;\n",
       "    }\n",
       "</style>\n",
       "<table border=\"1\" class=\"dataframe\">\n",
       "  <thead>\n",
       "    <tr style=\"text-align: right;\">\n",
       "      <th></th>\n",
       "      <th>Precision_at_k</th>\n",
       "      <th>Recall_at_k</th>\n",
       "    </tr>\n",
       "  </thead>\n",
       "  <tbody>\n",
       "    <tr>\n",
       "      <th>XGBoost Classifier</th>\n",
       "      <td>0.31 +/- 0.0</td>\n",
       "      <td>0.83 +/- 0.0</td>\n",
       "    </tr>\n",
       "    <tr>\n",
       "      <th>XGBoost Classifier</th>\n",
       "      <td>0.31 +/- 0.0</td>\n",
       "      <td>0.83 +/- 0.0</td>\n",
       "    </tr>\n",
       "    <tr>\n",
       "      <th>XGBoost Classifier</th>\n",
       "      <td>0.31 +/- 0.0</td>\n",
       "      <td>0.83 +/- 0.0</td>\n",
       "    </tr>\n",
       "    <tr>\n",
       "      <th>XGBoost Classifier</th>\n",
       "      <td>0.31 +/- 0.0</td>\n",
       "      <td>0.83 +/- 0.0</td>\n",
       "    </tr>\n",
       "    <tr>\n",
       "      <th>XGBoost Classifier</th>\n",
       "      <td>0.31 +/- 0.0</td>\n",
       "      <td>0.83 +/- 0.0</td>\n",
       "    </tr>\n",
       "  </tbody>\n",
       "</table>\n",
       "</div>"
      ],
      "text/plain": [
       "                   Precision_at_k   Recall_at_k\n",
       "XGBoost Classifier   0.31 +/- 0.0  0.83 +/- 0.0\n",
       "XGBoost Classifier   0.31 +/- 0.0  0.83 +/- 0.0\n",
       "XGBoost Classifier   0.31 +/- 0.0  0.83 +/- 0.0\n",
       "XGBoost Classifier   0.31 +/- 0.0  0.83 +/- 0.0\n",
       "XGBoost Classifier   0.31 +/- 0.0  0.83 +/- 0.0"
      ]
     },
     "execution_count": 84,
     "metadata": {},
     "output_type": "execute_result"
    }
   ],
   "source": [
    "final_result"
   ]
  },
  {
   "cell_type": "code",
   "execution_count": null,
   "id": "8d304c70",
   "metadata": {},
   "outputs": [],
   "source": [
    "results_cv = pd.concat([knn_cv, lr_cv, xgb_cv])\n",
    "pickle.dump(results_cv, open(r'../src/model/results_cv.pkl', 'wb'))"
   ]
  },
  {
   "cell_type": "markdown",
   "id": "bbddc3ba",
   "metadata": {},
   "source": [
    "# 9.0 Deploy to Production"
   ]
  },
  {
   "cell_type": "markdown",
   "id": "87d36809",
   "metadata": {},
   "source": [
    "## 9.1. Class HealthInsurance"
   ]
  },
  {
   "cell_type": "code",
   "execution_count": 58,
   "id": "1fbc662d",
   "metadata": {
    "ExecuteTime": {
     "end_time": "2022-03-16T20:35:41.033917Z",
     "start_time": "2022-03-16T20:35:41.019003Z"
    }
   },
   "outputs": [],
   "source": [
    "class HealthInsurance():\n",
    "    def __init__(self):\n",
    "        #paths\n",
    "        self.path = '/home/heitor/repos/health_insurance_cross_sale/'\n",
    "        self.annual_premium_scaler = pickle.load(ss, open(self.path + r'../src/features/annual_premium_scaler.pkl', 'rb'))\n",
    "        self.age_scaler =  pickle.load(mms_age, open(self.path + r'../src/features/age_scaler.pkl', 'rb'))\n",
    "        self.vintage_scaler = pickle.load(mms_vintage, open(self.path + r'../src/features/vintage_scaler.pkl', 'rb'))\n",
    "        self.region_code_encode = pickle.load(target_encode_region_code, open(self.path + r'../src/features/region_code_encode.pkl', 'rb'))\n",
    "        self.policy_sales_channel_encode = pickle.load(fe_policy_sales_channel, open(self.path + r'../src/features/policy_sales_channel_encode.pkl', 'rb'))\n",
    "        self.gender_encode = pickle.load(target_encode_gender, open(self.path + r'../src/features/gender_encode.pkl', 'rb'))\n",
    "        \n",
    "                                                                                    \n",
    "    def data_cleaning(data):\n",
    "                                                                                     #Rename columns\n",
    "        old_cols = ['id', 'Gender', 'Age', 'DrivingLicense', 'RegionCode','PreviouslyInsured', 'Vehicle_Age', 'VehicleDamage', 'AnnualPremium','PolicySalesChannel', 'Vintage', 'Response']\n",
    "        snakecase = lambda x: inflection.underscore(x)\n",
    "\n",
    "        new_cols = list(map(snakecase, old_cols))\n",
    "        data.columns = new_cols\n",
    "\n",
    "        #changing types\n",
    "\n",
    "        data['vehicle_damage'] = data['vehicle_damage'].apply(lambda x: 1 if x == 'Yes' else 0)\n",
    "        data['policy_sales_channel'] = data['policy_sales_channel'].astype(int)\n",
    "        data['annual_premium'] = data['annual_premium'].astype(int)\n",
    "        data['region_code'] = data['region_code'].astype(int)\n",
    "        data['vehicle_damage'] = data['vehicle_damage'].astype(int)\n",
    "        return data\n",
    "                                                                                     \n",
    "                                                                                     \n",
    "    def feature_engineering(data):\n",
    "        data['vehicle_age'] = data['vehicle_age'].apply(lambda x: 'less_than_1_year' if x =='< 1 Year' else\n",
    "                                                                  'more_than_2_years' if x== '> 2 Years' else\n",
    "                                                                  'between_1_and_2_years' )\n",
    "        return data\n",
    "                                                                                     \n",
    "    def data_preparation(data):\n",
    "        X = data.drop('response', axis=1)\n",
    "        y = data['response'].copy()\n",
    "        x_train, x_validation, y_train, y_validation = ms.train_test_split(X, y, test_size=0.2)\n",
    "        data = pd.concat([x_train, y_train], axis=1)\n",
    "\n",
    "        #annual premium\n",
    "        df3['annual_premium'] = self.annual_premium_scaler.transform(df3[['annual_premium']].values)\n",
    "\n",
    "        #age\n",
    "        data['age'] = self.age_scaler.transform(data[['age']].values)\n",
    "\n",
    "        #vintage\n",
    "        data['vintage'] = self.vintage_scaler.transform(data[['vintage']].values)\n",
    "\n",
    "        #vehicle age -- One Hot Encoding / Order Target Encoding / Frequency Encoding\n",
    "        data = pd.get_dummies(data, prefix='vehicle_age', columns=['vehicle_age'])\n",
    "\n",
    "        #region code -- Target Encoding / Weighted Target Encoding / Frequency Encoding\n",
    "        data.loc[:,'region_code'] = data['region_code'].map(self.region_code_encode)\n",
    "\n",
    "        #policy_sales_channel -- Target Encoding / Frequency Encoding\n",
    "        data.loc[:,'policy_sales_channel'] = data['policy_sales_channel'].map(policy_sales_channel_encode)\n",
    "\n",
    "        #gender -- Target Encoding\n",
    "        data.loc[:,'gender'] = data['gender'].map(self.gender_encode)\n",
    "\n",
    "        #features selected\n",
    "        cols_selected = ['vintage','annual_premium','age','region_code','vehicle_damage','policy_sales_channel','previously_insured']\n",
    "        \n",
    "\n",
    "        return data[cols_selected]\n",
    "       \n",
    "    def get_prediction(self, model, original_data, test_data):\n",
    "        #model prediction\n",
    "        pred = mode.predict_proba(test_data)\n",
    "        \n",
    "        #join prediction into original data\n",
    "        original_data['score'] = pred\n",
    "        \n",
    "        return original_data.to_json(orient='records',data_format='iso')"
   ]
  },
  {
   "cell_type": "markdown",
   "id": "0a259be6",
   "metadata": {},
   "source": [
    "## 9.2. API Handler"
   ]
  },
  {
   "cell_type": "code",
   "execution_count": 90,
   "id": "1a41c9de",
   "metadata": {
    "ExecuteTime": {
     "end_time": "2022-03-16T21:26:24.949490Z",
     "start_time": "2022-03-16T21:26:24.916462Z"
    }
   },
   "outputs": [
    {
     "ename": "ModuleNotFoundError",
     "evalue": "No module named 'healthinsurance'",
     "output_type": "error",
     "traceback": [
      "\u001b[0;31m---------------------------------------------------------------------------\u001b[0m",
      "\u001b[0;31mModuleNotFoundError\u001b[0m                       Traceback (most recent call last)",
      "Input \u001b[0;32mIn [90]\u001b[0m, in \u001b[0;36m<cell line: 1>\u001b[0;34m()\u001b[0m\n\u001b[0;32m----> 1\u001b[0m \u001b[38;5;28;01mfrom\u001b[39;00m \u001b[38;5;21;01mhealthinsurance\u001b[39;00m \u001b[38;5;28;01mimport\u001b[39;00m HealthInsurance\n\u001b[1;32m      2\u001b[0m \u001b[38;5;28;01mimport\u001b[39;00m \u001b[38;5;21;01mpickle\u001b[39;00m\n\u001b[1;32m      3\u001b[0m \u001b[38;5;28;01mimport\u001b[39;00m \u001b[38;5;21;01mpandas\u001b[39;00m \u001b[38;5;28;01mas\u001b[39;00m \u001b[38;5;21;01mpd\u001b[39;00m\n",
      "\u001b[0;31mModuleNotFoundError\u001b[0m: No module named 'healthinsurance'"
     ]
    }
   ],
   "source": [
    "from healthinsurance import HealthInsurance\n",
    "import pickle\n",
    "import pandas as pd\n",
    "from flask import Flask, request, Response\n",
    "import os\n",
    "\n",
    "#loading model\n",
    "model = pickle.load(xgb_model_tunned, open(r'../src/model/xgb_model.pkl', 'rb'))\n",
    "\n",
    "#initialize API\n",
    "app = Flask(__name__)\n",
    "\n",
    "@app.route('/predict', methods=['POST'])\n",
    "def healthinsurance_predict():\n",
    "    test_json = request.get_json()\n",
    "    if test_json: #there is data\n",
    "        if isinstance(test_jason, dict):  #unique example \n",
    "            test_raw = pd.DataFrame(test_json, index=[0])\n",
    "        \n",
    "        else:                             #multiple example\n",
    "            test_raw = pd.DataFrame(test_json, columns = test_json[0].keys())\n",
    "            \n",
    "            #Initialize HealthInsurance Class\n",
    "            pipeline = HealthInsurance()\n",
    "            \n",
    "            #data cleaning\n",
    "            data = data_cleaning(test_raw)\n",
    "            \n",
    "            #feature engineering\n",
    "            data = feature_engineering(data)\n",
    "            \n",
    "            #data preparation\n",
    "            data = data_preparation(data)\n",
    "            \n",
    "            #prediction\n",
    "            df_response = get_prediction(model, test_raw, data)\n",
    "            \n",
    "            return df_response\n",
    "        \n",
    "    \n",
    "    else:\n",
    "        return Response('{}', status = 200, mimetype = 'application/json')\n",
    "\n",
    "if __name__ == 'main':\n",
    "    port = os.environ.get('PORT', 5000)\n",
    "    app.run('0.0.0.0', port=port)\n",
    "    \n",
    "            \n",
    "            \n",
    "            \n",
    "\n",
    "\n"
   ]
  },
  {
   "cell_type": "markdown",
   "id": "b5019cfb",
   "metadata": {
    "ExecuteTime": {
     "end_time": "2022-03-16T20:56:37.666918Z",
     "start_time": "2022-03-16T20:56:37.660445Z"
    }
   },
   "source": [
    "## 9.3. API Tester"
   ]
  },
  {
   "cell_type": "code",
   "execution_count": 73,
   "id": "ca85c1a1",
   "metadata": {
    "ExecuteTime": {
     "end_time": "2022-03-16T21:01:06.231115Z",
     "start_time": "2022-03-16T21:01:06.225101Z"
    }
   },
   "outputs": [],
   "source": [
    "import requests\n",
    "import json"
   ]
  },
  {
   "cell_type": "code",
   "execution_count": 80,
   "id": "4a3b8f71",
   "metadata": {
    "ExecuteTime": {
     "end_time": "2022-03-16T21:01:50.668357Z",
     "start_time": "2022-03-16T21:01:50.662717Z"
    }
   },
   "outputs": [],
   "source": [
    "df_test = x_validation"
   ]
  },
  {
   "cell_type": "code",
   "execution_count": 81,
   "id": "0ca28998",
   "metadata": {
    "ExecuteTime": {
     "end_time": "2022-03-16T21:01:51.151168Z",
     "start_time": "2022-03-16T21:01:51.145810Z"
    }
   },
   "outputs": [],
   "source": [
    "df_test = df_test.sample(10)"
   ]
  },
  {
   "cell_type": "code",
   "execution_count": 82,
   "id": "4338ca3c",
   "metadata": {
    "ExecuteTime": {
     "end_time": "2022-03-16T21:01:51.350364Z",
     "start_time": "2022-03-16T21:01:51.345963Z"
    }
   },
   "outputs": [],
   "source": [
    "#convert dataframe to json\n",
    "data = json.dumps(df_test.to_dict(orient='records'))"
   ]
  },
  {
   "cell_type": "code",
   "execution_count": 93,
   "id": "efef4714",
   "metadata": {
    "ExecuteTime": {
     "end_time": "2022-03-16T21:48:05.027761Z",
     "start_time": "2022-03-16T21:48:04.291888Z"
    }
   },
   "outputs": [
    {
     "name": "stdout",
     "output_type": "stream",
     "text": [
      "Status Code: 405\n"
     ]
    }
   ],
   "source": [
    "#API Call\n",
    "url = 'https://dashboard.heroku.com/apps/health-insurance-csell'\n",
    "header = {'Content-type': 'application/json'}\n",
    "r = requests.post(url, data=data , headers=header)\n",
    "print('Status Code: {}'.format(r.status_code))"
   ]
  },
  {
   "cell_type": "code",
   "execution_count": null,
   "id": "7309a3cb",
   "metadata": {},
   "outputs": [],
   "source": []
  }
 ],
 "metadata": {
  "kernelspec": {
   "display_name": "Python 3 (ipykernel)",
   "language": "python",
   "name": "python3"
  },
  "language_info": {
   "codemirror_mode": {
    "name": "ipython",
    "version": 3
   },
   "file_extension": ".py",
   "mimetype": "text/x-python",
   "name": "python",
   "nbconvert_exporter": "python",
   "pygments_lexer": "ipython3",
   "version": "3.8.10"
  }
 },
 "nbformat": 4,
 "nbformat_minor": 5
}
