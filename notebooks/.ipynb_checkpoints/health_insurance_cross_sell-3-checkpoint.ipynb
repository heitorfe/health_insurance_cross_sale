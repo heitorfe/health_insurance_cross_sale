{
 "cells": [
  {
   "cell_type": "markdown",
   "id": "32543eb2",
   "metadata": {},
   "source": [
    "# 0.0. Imports"
   ]
  },
  {
   "cell_type": "code",
   "execution_count": 89,
   "id": "5aef1504",
   "metadata": {
    "ExecuteTime": {
     "end_time": "2022-04-09T21:59:01.280647Z",
     "start_time": "2022-04-09T21:59:01.263416Z"
    }
   },
   "outputs": [],
   "source": [
    "\n",
    "from matplotlib import pyplot         as plt\n",
    "from sklearn import preprocessing     as pp\n",
    "from sklearn import model_selection   as ms\n",
    "from sklearn import neighbors         as nh\n",
    "from sklearn import linear_model      as lm\n",
    "from sklearn import ensemble          as en\n",
    "from sklearn.svm import SVC\n",
    "import lightgbm as lgb\n",
    "\n",
    "import warnings\n",
    "\n",
    "from sklearn.ensemble import RandomForestClassifier\n",
    "from xgboost          import XGBClassifier \n",
    "# from boruta           import BorutaPy\n",
    "\n",
    "\n",
    "\n",
    "import pandas     as pd\n",
    "import seaborn    as sns\n",
    "import scikitplot as skplt\n",
    "import numpy      as np\n",
    "\n",
    "import inflection\n",
    "import pickle"
   ]
  },
  {
   "cell_type": "markdown",
   "id": "8375449d",
   "metadata": {},
   "source": [
    "## 0.1. Helper Functions"
   ]
  },
  {
   "cell_type": "code",
   "execution_count": null,
   "id": "d6eeecd7",
   "metadata": {
    "ExecuteTime": {
     "end_time": "2022-04-09T19:14:15.712199Z",
     "start_time": "2022-04-09T19:14:15.712186Z"
    }
   },
   "outputs": [],
   "source": [
    "# def jupyter_settings():\n",
    "#     %matplotlib inline\n",
    "#     %pylab inline\n",
    "#     plt.style.use( 'bmh' )\n",
    "#     plt.rcParams['figure.figsize'] = [25, 12]\n",
    "#     plt.rcParams['font.size'] = 24\n",
    "#     display( HTML( '<style>.container { width:100% !important; }</style>') )\n",
    "#     pd.options.display.max_columns = None\n",
    "#     pd.options.display.max_rows = None\n",
    "#     pd.set_option( 'display.expand_frame_repr', False )\n",
    "#     sns.set()\n",
    "    \n",
    "# jupyter_settings()\n",
    "\n",
    "warnings.simplefilter(\"ignore\")\n",
    "\n",
    "def num_attributes(df1):\n",
    "    num_attributes = df1.select_dtypes(['int64','float64'])\n",
    "    #Central Tendency - Median, Mean\n",
    "    mean = pd.DataFrame(num_attributes.apply(np.mean)).T\n",
    "    median = pd.DataFrame(num_attributes.apply(np.median)).T\n",
    "\n",
    "    #Dispersion - std, min, max, range, skew, kurtosis\n",
    "    std = pd.DataFrame(num_attributes.apply(np.std)).T\n",
    "    min_ = pd.DataFrame(num_attributes.apply(min)).T\n",
    "    max_ = pd.DataFrame(num_attributes.apply(max)).T\n",
    "    range_ = pd.DataFrame(num_attributes.apply(lambda x: x.max() - x.min())).T\n",
    "    skew = pd.DataFrame(num_attributes.apply(lambda x: x.skew())).T\n",
    "    kurtosis =  pd.DataFrame(num_attributes.apply(lambda x: x.kurtosis())).T\n",
    "\n",
    "    m = pd.concat([min_, max_, range_, mean, median, std, skew, kurtosis]).T.reset_index()\n",
    "    m.columns = ['attributes','min', 'max', 'range', 'mean', 'median', 'std', 'skew', 'kurtosis']\n",
    "    return m\n",
    "\n",
    "# prepare dataset for function precision and recall at k\n",
    "def concat_order_data( x_val, y_val, yhat ):\n",
    "    \n",
    "    # copy data\n",
    "    data = x_val.copy()\n",
    "    data['response'] = y_val.copy()\n",
    "\n",
    "    # propensity score\n",
    "    data['score'] = yhat[:, 1].tolist()\n",
    "\n",
    "    # sorted clients by propensity score\n",
    "    data = data.sort_values( 'score', ascending=False )\n",
    "    \n",
    "    return data\n",
    "\n",
    "def precision_at_k( data, k=2000 ):\n",
    "    # reset index\n",
    "    data = data.reset_index( drop=True )\n",
    "\n",
    "    # create ranking order\n",
    "    data['ranking'] = data.index + 1 \n",
    "\n",
    "    data['precision_at_k'] = data['response'].cumsum() / data['ranking']\n",
    "\n",
    "    return data.loc[k, 'precision_at_k']\n",
    "\n",
    "\n",
    "def recall_at_k( data, k=2000 ):\n",
    "    # reset index\n",
    "    data = data.reset_index( drop=True )\n",
    "\n",
    "    # create ranking order\n",
    "    data['ranking'] = data.index + 1 \n",
    "\n",
    "    data['recall_at_k'] = data['response'].cumsum() / data['response'].sum()\n",
    "\n",
    "    return data.loc[k, 'recall_at_k']\n",
    "\n",
    "# all at k metrics as dataframe\n",
    "def at_k_metrics( model_name, x_val, y_val, yhat, k=20000 ):\n",
    "    data = concat_order_data( x_val, y_val, yhat )\n",
    "    \n",
    "    pr = precision_at_k( data, k )\n",
    "    re = recall_at_k( data, k )\n",
    "    \n",
    "    return pd.DataFrame({\"Precision_at_k\": \"{}\".format(np.round(pr,3)),\n",
    "                         \"Recall_at_k\": \"{}\".format(np.round(re,3))}, index=[model_name])\n",
    "\n",
    "# stratified cross validation\n",
    "def cross_validation(model_name, model, x_train, y_train, k=20000 ):\n",
    "    \n",
    "    precision_at_k_list = []\n",
    "    recall_at_k_list = []\n",
    "\n",
    "    skf = ms.StratifiedKFold(n_splits=5, shuffle=True, random_state=5)\n",
    "    \n",
    "    for train_index, test_index in skf.split(x_train, y_train):\n",
    "        \n",
    "        x_train_cv = x_train.iloc[train_index]\n",
    "        y_train_cv = y_train.iloc[train_index]\n",
    "        \n",
    "        x_test_cv = x_train.iloc[test_index]\n",
    "        y_test_cv = y_train.iloc[test_index]\n",
    "        \n",
    "        # model training\n",
    "        model.fit(x_train_cv, y_train_cv)\n",
    "        \n",
    "        # prediction\n",
    "        pred = model.predict_proba(x_test_cv)\n",
    "        \n",
    "        # concat\n",
    "        data = x_test_cv.copy()\n",
    "        data['response'] = y_test_cv.copy()\n",
    "        \n",
    "        data['score'] = pred[:, 1].tolist()\n",
    "        \n",
    "        data = data.sort_values( 'score', ascending=False )\n",
    "        \n",
    "        # measuring at k metrics\n",
    "        precision_at_k_list.append( precision_at_k( data, k ) )\n",
    "        recall_at_k_list.append(recall_at_k( data, k ) )\n",
    "        \n",
    "    \n",
    "    precision_at_k_mean, precision_at_k_std = np.round( np.mean( precision_at_k_list ), 2 ), np.round( np.std( precision_at_k_list ), 2 )\n",
    "    recall_at_k_mean, recall_at_k_std = np.round( np.mean( recall_at_k_list ), 2 ), np.round( np.std( recall_at_k_list ), 2 )\n",
    "   \n",
    "    \n",
    "    return pd.DataFrame({\"Precision_at_k\": \"{} +/- {}\".format(precision_at_k_mean, precision_at_k_std),\n",
    "                         \"Recall_at_k\": \"{} +/- {}\".format(recall_at_k_mean, recall_at_k_std)}, index=[model_name])\n",
    "\n",
    "\n",
    "    "
   ]
  },
  {
   "cell_type": "markdown",
   "id": "fd6901bd",
   "metadata": {},
   "source": [
    "## 0.2. Collect Data"
   ]
  },
  {
   "cell_type": "code",
   "execution_count": 3,
   "id": "3663e5a8",
   "metadata": {
    "ExecuteTime": {
     "end_time": "2022-04-09T18:33:48.612262Z",
     "start_time": "2022-04-09T18:33:47.706786Z"
    }
   },
   "outputs": [],
   "source": [
    "df_raw = pd.read_csv('../datasets/train.csv')"
   ]
  },
  {
   "cell_type": "markdown",
   "id": "5869b1fc",
   "metadata": {},
   "source": [
    "# 1.0. Data Description"
   ]
  },
  {
   "cell_type": "code",
   "execution_count": 4,
   "id": "75a7bcb9",
   "metadata": {
    "ExecuteTime": {
     "end_time": "2022-04-09T18:33:48.623138Z",
     "start_time": "2022-04-09T18:33:48.614548Z"
    }
   },
   "outputs": [],
   "source": [
    "df1 = df_raw.copy()"
   ]
  },
  {
   "cell_type": "markdown",
   "id": "6cb8a9e2",
   "metadata": {},
   "source": [
    "## 1.1. Data Dimension"
   ]
  },
  {
   "cell_type": "code",
   "execution_count": 5,
   "id": "9b5ccdf7",
   "metadata": {
    "ExecuteTime": {
     "end_time": "2022-04-09T18:33:48.771194Z",
     "start_time": "2022-04-09T18:33:48.625011Z"
    }
   },
   "outputs": [
    {
     "name": "stdout",
     "output_type": "stream",
     "text": [
      "Number of cols: 12\n",
      "Number of rows: 381109\n"
     ]
    }
   ],
   "source": [
    "print(f'Number of cols: {df1.shape[1]}')\n",
    "print(f'Number of rows: {df1.shape[0]}')"
   ]
  },
  {
   "cell_type": "markdown",
   "id": "b8bdb43a",
   "metadata": {},
   "source": [
    "## 1.2. Data Types"
   ]
  },
  {
   "cell_type": "code",
   "execution_count": 6,
   "id": "2ee59b5f",
   "metadata": {
    "ExecuteTime": {
     "end_time": "2022-04-09T18:33:48.967104Z",
     "start_time": "2022-04-09T18:33:48.773429Z"
    }
   },
   "outputs": [
    {
     "data": {
      "text/plain": [
       "id                        int64\n",
       "Gender                   object\n",
       "Age                       int64\n",
       "Driving_License           int64\n",
       "Region_Code             float64\n",
       "Previously_Insured        int64\n",
       "Vehicle_Age              object\n",
       "Vehicle_Damage           object\n",
       "Annual_Premium          float64\n",
       "Policy_Sales_Channel    float64\n",
       "Vintage                   int64\n",
       "Response                  int64\n",
       "dtype: object"
      ]
     },
     "execution_count": 6,
     "metadata": {},
     "output_type": "execute_result"
    }
   ],
   "source": [
    "df1.dtypes"
   ]
  },
  {
   "cell_type": "code",
   "execution_count": 7,
   "id": "493bd1a4",
   "metadata": {
    "ExecuteTime": {
     "end_time": "2022-04-09T18:33:49.125169Z",
     "start_time": "2022-04-09T18:33:48.969117Z"
    }
   },
   "outputs": [],
   "source": [
    "#Rename columns\n",
    "old_cols = ['id', 'Gender', 'Age', 'DrivingLicense', 'RegionCode',\n",
    "       'PreviouslyInsured', 'Vehicle_Age', 'VehicleDamage', 'AnnualPremium',\n",
    "       'PolicySalesChannel', 'Vintage', 'Response']\n",
    "snakecase = lambda x: inflection.underscore(x)\n",
    "\n",
    "new_cols = list(map(snakecase, old_cols))\n",
    "df1.columns = new_cols"
   ]
  },
  {
   "cell_type": "code",
   "execution_count": 8,
   "id": "43dcd456",
   "metadata": {
    "ExecuteTime": {
     "end_time": "2022-04-09T18:33:49.512903Z",
     "start_time": "2022-04-09T18:33:49.127816Z"
    }
   },
   "outputs": [
    {
     "data": {
      "text/plain": [
       "id                       int64\n",
       "gender                  object\n",
       "age                      int64\n",
       "driving_license          int64\n",
       "region_code              int64\n",
       "previously_insured       int64\n",
       "vehicle_age             object\n",
       "vehicle_damage           int64\n",
       "annual_premium           int64\n",
       "policy_sales_channel     int64\n",
       "vintage                  int64\n",
       "response                 int64\n",
       "dtype: object"
      ]
     },
     "execution_count": 8,
     "metadata": {},
     "output_type": "execute_result"
    }
   ],
   "source": [
    "#changing types\n",
    "\n",
    "df1['vehicle_damage'] = df1['vehicle_damage'].apply(lambda x: 1 if x == 'Yes' else 0)\n",
    "df1['policy_sales_channel'] = df1['policy_sales_channel'].astype(int)\n",
    "df1['annual_premium'] = df1['annual_premium'].astype(int)\n",
    "df1['region_code'] = df1['region_code'].astype(int)\n",
    "df1['vehicle_damage'] = df1['vehicle_damage'].astype(int)\n",
    "\n",
    "df1.dtypes"
   ]
  },
  {
   "cell_type": "markdown",
   "id": "0084ee8f",
   "metadata": {
    "ExecuteTime": {
     "end_time": "2022-03-06T18:55:50.557098Z",
     "start_time": "2022-03-06T18:55:50.427601Z"
    }
   },
   "source": [
    "## 1.3. Checking NAs\n"
   ]
  },
  {
   "cell_type": "code",
   "execution_count": 9,
   "id": "ce5ebb2f",
   "metadata": {
    "ExecuteTime": {
     "end_time": "2022-04-09T18:33:49.770372Z",
     "start_time": "2022-04-09T18:33:49.515266Z"
    }
   },
   "outputs": [
    {
     "data": {
      "text/plain": [
       "id                      0\n",
       "gender                  0\n",
       "age                     0\n",
       "driving_license         0\n",
       "region_code             0\n",
       "previously_insured      0\n",
       "vehicle_age             0\n",
       "vehicle_damage          0\n",
       "annual_premium          0\n",
       "policy_sales_channel    0\n",
       "vintage                 0\n",
       "response                0\n",
       "dtype: int64"
      ]
     },
     "execution_count": 9,
     "metadata": {},
     "output_type": "execute_result"
    }
   ],
   "source": [
    "df1.isna().sum()"
   ]
  },
  {
   "cell_type": "markdown",
   "id": "fe9fc491",
   "metadata": {},
   "source": [
    "## 1.4. Data Descriptive "
   ]
  },
  {
   "cell_type": "code",
   "execution_count": 10,
   "id": "3bba0e2b",
   "metadata": {
    "ExecuteTime": {
     "end_time": "2022-04-09T18:33:49.812473Z",
     "start_time": "2022-04-09T18:33:49.772311Z"
    }
   },
   "outputs": [],
   "source": [
    "num_attributes = df1.select_dtypes(['int64','float64'])\n",
    "cat_attributes = df1.select_dtypes(['int64','float64','datetime64[ns]'])"
   ]
  },
  {
   "cell_type": "code",
   "execution_count": 11,
   "id": "6487a5c9",
   "metadata": {
    "ExecuteTime": {
     "end_time": "2022-04-09T18:33:49.921771Z",
     "start_time": "2022-04-09T18:33:49.815163Z"
    }
   },
   "outputs": [],
   "source": [
    "# #Central Tendency - Median, Mean\n",
    "# mean = pd.DataFrame(num_attributes.apply(np.mean)).T\n",
    "# median = pd.DataFrame(num_attributes.apply(np.median)).T\n",
    "\n",
    "# #Dispersion - std, min, max, range, skew, kurtosis\n",
    "# std = pd.DataFrame(num_attributes.apply(np.std)).T\n",
    "# min_ = pd.DataFrame(num_attributes.apply(min)).T\n",
    "# max_ = pd.DataFrame(num_attributes.apply(max)).T\n",
    "# range_ = pd.DataFrame(num_attributes.apply(lambda x: x.max() - x.min())).T\n",
    "# skew = pd.DataFrame(num_attributes.apply(lambda x: x.skew())).T\n",
    "# kurtosis =  pd.DataFrame(num_attributes.apply(lambda x: x.kurtosis())).T\n",
    "                      \n",
    "# m = pd.concat([min_, max_, range_, mean, median, std, skew, kurtosis]).T.reset_index()\n",
    "# m.columns = ['attributes','min', 'max', 'range', 'mean', 'median', 'std', 'skew', 'kurtosis']\n",
    "# m"
   ]
  },
  {
   "cell_type": "markdown",
   "id": "e907e0c4",
   "metadata": {},
   "source": [
    "# 2.0. Feature Engineering "
   ]
  },
  {
   "cell_type": "code",
   "execution_count": 12,
   "id": "a0e2921a",
   "metadata": {
    "ExecuteTime": {
     "end_time": "2022-04-09T18:33:50.105963Z",
     "start_time": "2022-04-09T18:33:50.070780Z"
    }
   },
   "outputs": [],
   "source": [
    "df2 = df1.copy()"
   ]
  },
  {
   "cell_type": "code",
   "execution_count": 13,
   "id": "a8435ce1",
   "metadata": {
    "ExecuteTime": {
     "end_time": "2022-04-09T18:33:50.262326Z",
     "start_time": "2022-04-09T18:33:50.258261Z"
    }
   },
   "outputs": [
    {
     "data": {
      "text/plain": [
       "Index(['id', 'gender', 'age', 'driving_license', 'region_code',\n",
       "       'previously_insured', 'vehicle_age', 'vehicle_damage', 'annual_premium',\n",
       "       'policy_sales_channel', 'vintage', 'response'],\n",
       "      dtype='object')"
      ]
     },
     "execution_count": 13,
     "metadata": {},
     "output_type": "execute_result"
    }
   ],
   "source": [
    "df2.columns\n"
   ]
  },
  {
   "cell_type": "code",
   "execution_count": 14,
   "id": "ad2277cc",
   "metadata": {
    "ExecuteTime": {
     "end_time": "2022-04-09T18:33:50.508257Z",
     "start_time": "2022-04-09T18:33:50.464228Z"
    }
   },
   "outputs": [
    {
     "data": {
      "text/plain": [
       "array(['> 2 Years', '1-2 Year', '< 1 Year'], dtype=object)"
      ]
     },
     "execution_count": 14,
     "metadata": {},
     "output_type": "execute_result"
    }
   ],
   "source": [
    "df2['vehicle_age'].unique()"
   ]
  },
  {
   "cell_type": "code",
   "execution_count": 15,
   "id": "f6be6d05",
   "metadata": {
    "ExecuteTime": {
     "end_time": "2022-04-09T18:33:50.736338Z",
     "start_time": "2022-04-09T18:33:50.630945Z"
    }
   },
   "outputs": [
    {
     "data": {
      "text/plain": [
       "array(['more_than_2_years', 'between_1_and_2_years', 'less_than_1_year'],\n",
       "      dtype=object)"
      ]
     },
     "execution_count": 15,
     "metadata": {},
     "output_type": "execute_result"
    }
   ],
   "source": [
    "df2['vehicle_age'] = df2['vehicle_age'].apply(lambda x: 'less_than_1_year' if x =='< 1 Year' else\n",
    "                                              'more_than_2_years' if x== '> 2 Years' else\n",
    "                                             'between_1_and_2_years' )\n",
    "df2['vehicle_age'].unique()"
   ]
  },
  {
   "cell_type": "markdown",
   "id": "0890bb48",
   "metadata": {},
   "source": [
    "# 3.0. EDA"
   ]
  },
  {
   "cell_type": "markdown",
   "id": "86ab2328",
   "metadata": {},
   "source": [
    "## 3.1. Univariate Analysis\n"
   ]
  },
  {
   "cell_type": "code",
   "execution_count": 16,
   "id": "cd02f5ec",
   "metadata": {
    "ExecuteTime": {
     "end_time": "2022-04-09T18:33:51.665216Z",
     "start_time": "2022-04-09T18:33:51.112582Z"
    }
   },
   "outputs": [
    {
     "data": {
      "text/plain": [
       "<AxesSubplot:xlabel='response', ylabel='age'>"
      ]
     },
     "execution_count": 16,
     "metadata": {},
     "output_type": "execute_result"
    },
    {
     "data": {
      "image/png": "[encoded data removed]",
      "text/plain": [
       "<Figure size 432x288 with 1 Axes>"
      ]
     },
     "metadata": {
      "needs_background": "light"
     },
     "output_type": "display_data"
    }
   ],
   "source": [
    "#age\n",
    "sns.boxplot(x='response',y='age', data=df2)"
   ]
  },
  {
   "cell_type": "markdown",
   "id": "529ccdb4",
   "metadata": {},
   "source": [
    "..."
   ]
  },
  {
   "cell_type": "code",
   "execution_count": 17,
   "id": "3cb4b525",
   "metadata": {
    "ExecuteTime": {
     "end_time": "2022-04-09T18:33:52.145386Z",
     "start_time": "2022-04-09T18:33:51.667664Z"
    },
    "cell_style": "split"
   },
   "outputs": [
    {
     "data": {
      "image/png": "[encoded data removed]",
      "text/plain": [
       "<Figure size 432x288 with 1 Axes>"
      ]
     },
     "metadata": {
      "needs_background": "light"
     },
     "output_type": "display_data"
    }
   ],
   "source": [
    "#gender \n",
    "aux00 = df2.loc[df2['response']==0, 'gender']\n",
    "sns.histplot(aux00)\n",
    "plt.title('Negative Response by gender\\n');\n"
   ]
  },
  {
   "cell_type": "code",
   "execution_count": 18,
   "id": "26d6fb32",
   "metadata": {
    "ExecuteTime": {
     "end_time": "2022-04-09T18:33:52.309888Z",
     "start_time": "2022-04-09T18:33:52.150268Z"
    },
    "cell_style": "split"
   },
   "outputs": [
    {
     "data": {
      "image/png": "[encoded data removed]",
      "text/plain": [
       "<Figure size 432x288 with 1 Axes>"
      ]
     },
     "metadata": {
      "needs_background": "light"
     },
     "output_type": "display_data"
    }
   ],
   "source": [
    "aux00 = df2.loc[df2['response']==1, 'gender']\n",
    "sns.histplot(aux00)\n",
    "plt.title('Positive Response by gender\\n');"
   ]
  },
  {
   "cell_type": "code",
   "execution_count": 19,
   "id": "00a1630e",
   "metadata": {
    "ExecuteTime": {
     "end_time": "2022-04-09T18:33:52.736388Z",
     "start_time": "2022-04-09T18:33:52.314140Z"
    },
    "cell_style": "center",
    "hide_input": false,
    "scrolled": true
   },
   "outputs": [
    {
     "data": {
      "image/png": "[encoded data removed]",
      "text/plain": [
       "<Figure size 432x288 with 1 Axes>"
      ]
     },
     "metadata": {
      "needs_background": "light"
     },
     "output_type": "display_data"
    }
   ],
   "source": [
    "#histogram with distribution of positive response by age\n",
    "aux00 = df2.loc[df2['response']==1, 'age']\n",
    "sns.histplot(aux00);\n",
    "plt.title('Positive Response by age\\n');"
   ]
  },
  {
   "cell_type": "code",
   "execution_count": 20,
   "id": "3255ee14",
   "metadata": {
    "ExecuteTime": {
     "end_time": "2022-04-09T18:33:53.223286Z",
     "start_time": "2022-04-09T18:33:52.738069Z"
    },
    "cell_style": "center",
    "hide_input": false,
    "scrolled": true
   },
   "outputs": [
    {
     "data": {
      "image/png": "[encoded data removed]",
      "text/plain": [
       "<Figure size 432x288 with 1 Axes>"
      ]
     },
     "metadata": {
      "needs_background": "light"
     },
     "output_type": "display_data"
    }
   ],
   "source": [
    "#histogram with distribution of negative response by age\n",
    "aux00 = df2.loc[df2['response']==0, 'age']\n",
    "sns.histplot(aux00);\n",
    "plt.title('Negative Response by age\\n');"
   ]
  },
  {
   "cell_type": "markdown",
   "id": "39716451",
   "metadata": {
    "cell_style": "center",
    "hide_input": true
   },
   "source": [
    "Young people seems to be less interested in the product.\n",
    "\n",
    "Its interesting to analyse deeply the age about 40-50\n"
   ]
  },
  {
   "cell_type": "markdown",
   "id": "0f6e4fb5",
   "metadata": {
    "cell_style": "center",
    "hide_input": false
   },
   "source": [
    "The distribution is concentrated in the ages about 40-50, the volume of the data is reduced rather than negative response"
   ]
  },
  {
   "cell_type": "code",
   "execution_count": 21,
   "id": "4ee2af32",
   "metadata": {
    "ExecuteTime": {
     "end_time": "2022-04-09T18:33:53.233290Z",
     "start_time": "2022-04-09T18:33:53.225344Z"
    }
   },
   "outputs": [
    {
     "data": {
      "text/plain": [
       "array([ 40454,  33536,  38294, ...,  20706, 101664,  69845])"
      ]
     },
     "execution_count": 21,
     "metadata": {},
     "output_type": "execute_result"
    }
   ],
   "source": [
    "df2['annual_premium'].unique()"
   ]
  },
  {
   "cell_type": "code",
   "execution_count": 22,
   "id": "d204ade8",
   "metadata": {
    "ExecuteTime": {
     "end_time": "2022-04-09T18:33:53.555364Z",
     "start_time": "2022-04-09T18:33:53.234804Z"
    }
   },
   "outputs": [
    {
     "data": {
      "image/png": "[encoded data removed]",
      "text/plain": [
       "<Figure size 432x288 with 1 Axes>"
      ]
     },
     "metadata": {
      "needs_background": "light"
     },
     "output_type": "display_data"
    }
   ],
   "source": [
    "#annual_premium\n",
    "aux = df2[df2['annual_premium']<100000]\n",
    "ax = sns.boxplot(y='annual_premium', x='response',data=aux);\n",
    "ax.set_title('Annual premium distribution by response\\n');\n",
    "ax.set_xticklabels(['No','Yes']);\n"
   ]
  },
  {
   "cell_type": "markdown",
   "id": "f4bc7082",
   "metadata": {},
   "source": [
    "The distribution seems to be concentrated about 40.000 in both positive and negative responses. This variable alone is not helpful to the model.\n",
    "\n",
    "There are a lot of outliers"
   ]
  },
  {
   "cell_type": "code",
   "execution_count": 23,
   "id": "eaec4f8a",
   "metadata": {
    "ExecuteTime": {
     "end_time": "2022-04-09T18:33:54.236290Z",
     "start_time": "2022-04-09T18:33:53.557328Z"
    },
    "cell_style": "split"
   },
   "outputs": [
    {
     "data": {
      "image/png": "[encoded data removed]",
      "text/plain": [
       "<Figure size 432x288 with 1 Axes>"
      ]
     },
     "metadata": {
      "needs_background": "light"
     },
     "output_type": "display_data"
    }
   ],
   "source": [
    "#histogram with distribution of negative response by annual premium\n",
    "aux = df2[(df2['annual_premium']<100000) & (df2['annual_premium']>10000)]\n",
    "aux00 = aux.loc[df2['response']==0, 'annual_premium']\n",
    "sns.histplot(aux00);\n",
    "plt.title('annual premium distribution by negative response\\n');"
   ]
  },
  {
   "cell_type": "code",
   "execution_count": 24,
   "id": "f0f8160d",
   "metadata": {
    "ExecuteTime": {
     "end_time": "2022-04-09T18:33:54.637469Z",
     "start_time": "2022-04-09T18:33:54.237770Z"
    },
    "cell_style": "split"
   },
   "outputs": [
    {
     "data": {
      "image/png": "[encoded data removed]",
      "text/plain": [
       "<Figure size 432x288 with 1 Axes>"
      ]
     },
     "metadata": {
      "needs_background": "light"
     },
     "output_type": "display_data"
    }
   ],
   "source": [
    "#histogram with distribution of positive response by annual premium\n",
    "aux00 = aux.loc[df2['response']==1, 'annual_premium']\n",
    "sns.histplot(aux00);\n",
    "plt.title('annual premium distribution by positive response\\n');"
   ]
  },
  {
   "cell_type": "markdown",
   "id": "06aaf20c",
   "metadata": {},
   "source": [
    "The distribution is almost the same, the only difference is the volume of the data. \n",
    "Conclusion: This variable is not helpful alone."
   ]
  },
  {
   "cell_type": "code",
   "execution_count": 25,
   "id": "57543a11",
   "metadata": {
    "ExecuteTime": {
     "end_time": "2022-04-09T18:33:54.844129Z",
     "start_time": "2022-04-09T18:33:54.639326Z"
    },
    "cell_style": "center"
   },
   "outputs": [
    {
     "data": {
      "image/png": "[encoded data removed]",
      "text/plain": [
       "<Figure size 432x288 with 1 Axes>"
      ]
     },
     "metadata": {
      "needs_background": "light"
     },
     "output_type": "display_data"
    }
   ],
   "source": [
    "#drive license\n",
    "aux = df2[['driving_license','response']].groupby('response').sum().reset_index()\n",
    "\n",
    "ax = sns.barplot(x='response', y='driving_license', data=aux);\n",
    "ax.set_title('response by driving license ');\n",
    "ax.set_xticklabels(['No','Yes']);"
   ]
  },
  {
   "cell_type": "code",
   "execution_count": 26,
   "id": "b216bd56",
   "metadata": {
    "ExecuteTime": {
     "end_time": "2022-04-09T18:33:54.897856Z",
     "start_time": "2022-04-09T18:33:54.847731Z"
    },
    "cell_style": "center",
    "hide_input": true
   },
   "outputs": [
    {
     "data": {
      "text/html": [
       "<div>\n",
       "<style scoped>\n",
       "    .dataframe tbody tr th:only-of-type {\n",
       "        vertical-align: middle;\n",
       "    }\n",
       "\n",
       "    .dataframe tbody tr th {\n",
       "        vertical-align: top;\n",
       "    }\n",
       "\n",
       "    .dataframe thead th {\n",
       "        text-align: right;\n",
       "    }\n",
       "</style>\n",
       "<table border=\"1\" class=\"dataframe\">\n",
       "  <thead>\n",
       "    <tr style=\"text-align: right;\">\n",
       "      <th></th>\n",
       "      <th>response</th>\n",
       "      <th>driving_license</th>\n",
       "      <th>driving_license_perc</th>\n",
       "    </tr>\n",
       "  </thead>\n",
       "  <tbody>\n",
       "    <tr>\n",
       "      <th>0</th>\n",
       "      <td>0</td>\n",
       "      <td>333628</td>\n",
       "      <td>0.877283</td>\n",
       "    </tr>\n",
       "    <tr>\n",
       "      <th>1</th>\n",
       "      <td>1</td>\n",
       "      <td>46669</td>\n",
       "      <td>0.122717</td>\n",
       "    </tr>\n",
       "  </tbody>\n",
       "</table>\n",
       "</div>"
      ],
      "text/plain": [
       "   response  driving_license  driving_license_perc\n",
       "0         0           333628              0.877283\n",
       "1         1            46669              0.122717"
      ]
     },
     "execution_count": 26,
     "metadata": {},
     "output_type": "execute_result"
    }
   ],
   "source": [
    "aux['driving_license_perc'] = aux['driving_license'] / aux['driving_license'].sum()\n",
    "aux"
   ]
  },
  {
   "cell_type": "markdown",
   "id": "9a6398f7",
   "metadata": {},
   "source": [
    "This analysis is not helpful alone. It would work with other variables."
   ]
  },
  {
   "cell_type": "code",
   "execution_count": 27,
   "id": "60365742",
   "metadata": {
    "ExecuteTime": {
     "end_time": "2022-04-09T18:33:55.456944Z",
     "start_time": "2022-04-09T18:33:54.899195Z"
    }
   },
   "outputs": [
    {
     "data": {
      "image/png": "[encoded data removed]",
      "text/plain": [
       "<Figure size 648x432 with 1 Axes>"
      ]
     },
     "metadata": {
      "needs_background": "light"
     },
     "output_type": "display_data"
    }
   ],
   "source": [
    "#region code\n",
    "\n",
    "#region_code ; response; count\n",
    "aux = df2[['region_code', 'id', 'response']].groupby(['region_code','response']).count().reset_index()\n",
    "plt.figure(figsize=(9,6))\n",
    "sns.scatterplot(x='region_code', y='id', hue='response', data=aux);\n",
    "\n"
   ]
  },
  {
   "cell_type": "markdown",
   "id": "41918656",
   "metadata": {},
   "source": [
    "The most part of the distribution is similar, but it would be interested to check regions with much more one than other response"
   ]
  },
  {
   "cell_type": "code",
   "execution_count": 28,
   "id": "e10d7ca0",
   "metadata": {
    "ExecuteTime": {
     "end_time": "2022-04-09T18:33:55.695913Z",
     "start_time": "2022-04-09T18:33:55.458485Z"
    }
   },
   "outputs": [],
   "source": [
    "import seaborn as sns\n",
    "sns.scatterplot?\n"
   ]
  },
  {
   "cell_type": "code",
   "execution_count": 29,
   "id": "8a1c02fb",
   "metadata": {
    "ExecuteTime": {
     "end_time": "2022-04-09T18:33:56.681000Z",
     "start_time": "2022-04-09T18:33:55.697970Z"
    }
   },
   "outputs": [
    {
     "data": {
      "image/png": "[encoded data removed]",
      "text/plain": [
       "<Figure size 864x360 with 1 Axes>"
      ]
     },
     "metadata": {
      "needs_background": "light"
     },
     "output_type": "display_data"
    }
   ],
   "source": [
    "aux = df2[['region_code', 'response']].groupby('region_code').sum().reset_index()\n",
    "plt.figure(figsize=(12,5))\n",
    "sns.barplot(x='region_code',y='response',data=aux)\n",
    "plt.xticks(rotation=90);"
   ]
  },
  {
   "cell_type": "markdown",
   "id": "b15e6a2d",
   "metadata": {},
   "source": [
    "Investigate region code with high number of positive response"
   ]
  },
  {
   "cell_type": "code",
   "execution_count": 30,
   "id": "37f6ab8f",
   "metadata": {
    "ExecuteTime": {
     "end_time": "2022-04-09T18:33:56.730251Z",
     "start_time": "2022-04-09T18:33:56.682966Z"
    }
   },
   "outputs": [
    {
     "data": {
      "text/html": [
       "<div>\n",
       "<style scoped>\n",
       "    .dataframe tbody tr th:only-of-type {\n",
       "        vertical-align: middle;\n",
       "    }\n",
       "\n",
       "    .dataframe tbody tr th {\n",
       "        vertical-align: top;\n",
       "    }\n",
       "\n",
       "    .dataframe thead th {\n",
       "        text-align: right;\n",
       "    }\n",
       "</style>\n",
       "<table border=\"1\" class=\"dataframe\">\n",
       "  <thead>\n",
       "    <tr style=\"text-align: right;\">\n",
       "      <th></th>\n",
       "      <th>region_code</th>\n",
       "      <th>response</th>\n",
       "      <th>total_responses</th>\n",
       "      <th>perc</th>\n",
       "    </tr>\n",
       "  </thead>\n",
       "  <tbody>\n",
       "    <tr>\n",
       "      <th>2</th>\n",
       "      <td>28</td>\n",
       "      <td>19917</td>\n",
       "      <td>106415</td>\n",
       "      <td>0.187163</td>\n",
       "    </tr>\n",
       "    <tr>\n",
       "      <th>0</th>\n",
       "      <td>3</td>\n",
       "      <td>1181</td>\n",
       "      <td>9251</td>\n",
       "      <td>0.127662</td>\n",
       "    </tr>\n",
       "    <tr>\n",
       "      <th>3</th>\n",
       "      <td>29</td>\n",
       "      <td>1365</td>\n",
       "      <td>11065</td>\n",
       "      <td>0.123362</td>\n",
       "    </tr>\n",
       "    <tr>\n",
       "      <th>5</th>\n",
       "      <td>41</td>\n",
       "      <td>2224</td>\n",
       "      <td>18263</td>\n",
       "      <td>0.121776</td>\n",
       "    </tr>\n",
       "    <tr>\n",
       "      <th>6</th>\n",
       "      <td>46</td>\n",
       "      <td>2032</td>\n",
       "      <td>19749</td>\n",
       "      <td>0.102891</td>\n",
       "    </tr>\n",
       "    <tr>\n",
       "      <th>1</th>\n",
       "      <td>8</td>\n",
       "      <td>3257</td>\n",
       "      <td>33877</td>\n",
       "      <td>0.096142</td>\n",
       "    </tr>\n",
       "    <tr>\n",
       "      <th>4</th>\n",
       "      <td>30</td>\n",
       "      <td>900</td>\n",
       "      <td>12191</td>\n",
       "      <td>0.073825</td>\n",
       "    </tr>\n",
       "  </tbody>\n",
       "</table>\n",
       "</div>"
      ],
      "text/plain": [
       "   region_code  response  total_responses      perc\n",
       "2           28     19917           106415  0.187163\n",
       "0            3      1181             9251  0.127662\n",
       "3           29      1365            11065  0.123362\n",
       "5           41      2224            18263  0.121776\n",
       "6           46      2032            19749  0.102891\n",
       "1            8      3257            33877  0.096142\n",
       "4           30       900            12191  0.073825"
      ]
     },
     "execution_count": 30,
     "metadata": {},
     "output_type": "execute_result"
    }
   ],
   "source": [
    "aux1 = df2.loc[df2['region_code'].isin([3,8,28,29,30,41,46])][['response','region_code']]\n",
    "#sum of positive response\n",
    "aux2 = aux1[['response','region_code']].groupby('region_code').sum().reset_index()\n",
    "\n",
    "#count all responses\n",
    "aux3 = aux1[['response','region_code']].groupby('region_code').count().reset_index()\n",
    "\n",
    "#percentage of positive responses\n",
    "aux4 = aux2\n",
    "aux4['total_responses'] = aux3['response']\n",
    "aux4['perc'] = aux2['response']/aux3['response']\n",
    "aux4.sort_values('perc', ascending=False)\n"
   ]
  },
  {
   "cell_type": "markdown",
   "id": "6cb95a53",
   "metadata": {},
   "source": []
  },
  {
   "cell_type": "code",
   "execution_count": 31,
   "id": "c546fbae",
   "metadata": {
    "ExecuteTime": {
     "end_time": "2022-04-09T18:33:56.909619Z",
     "start_time": "2022-04-09T18:33:56.732176Z"
    }
   },
   "outputs": [],
   "source": [
    "#previously insurance\n",
    "aux = df2[['previously_insured','response']].groupby('previously_insured').sum().reset_index()\n",
    "positive_response = len(df2[df2['response']==1])\n",
    "aux['perc'] = aux['response']/positive_response\n"
   ]
  },
  {
   "cell_type": "markdown",
   "id": "76fc13c4",
   "metadata": {},
   "source": [
    "People who already have insurance don't seem to be interested in another.\n"
   ]
  },
  {
   "cell_type": "code",
   "execution_count": 32,
   "id": "1fd93627",
   "metadata": {
    "ExecuteTime": {
     "end_time": "2022-04-09T18:33:57.214060Z",
     "start_time": "2022-04-09T18:33:56.911751Z"
    }
   },
   "outputs": [
    {
     "data": {
      "image/png": "[encoded data removed]",
      "text/plain": [
       "<Figure size 432x288 with 1 Axes>"
      ]
     },
     "metadata": {
      "needs_background": "light"
     },
     "output_type": "display_data"
    }
   ],
   "source": [
    "#vehicle age\n",
    "df2[['vehicle_age', 'response']].head()\n",
    "aux = df2[['vehicle_age', 'response']].groupby('vehicle_age').sum().reset_index()\n",
    "ax =sns.barplot(x='vehicle_age', y='response', data=aux);\n",
    "ax.set_title('Response by vehicle age\\n');\n",
    "ax.set_xticklabels(['1-2 Years', '-1 Year', '+2 Years']);"
   ]
  },
  {
   "cell_type": "markdown",
   "id": "65b47c56",
   "metadata": {
    "ExecuteTime": {
     "end_time": "2022-03-10T17:17:15.880332Z",
     "start_time": "2022-03-10T17:17:15.753533Z"
    }
   },
   "source": [
    "The difference in this variable, but it would be nice to investigate correlation with other features."
   ]
  },
  {
   "cell_type": "code",
   "execution_count": 34,
   "id": "0488a49c",
   "metadata": {
    "ExecuteTime": {
     "end_time": "2022-04-09T18:33:59.549406Z",
     "start_time": "2022-04-09T18:33:59.489720Z"
    }
   },
   "outputs": [
    {
     "data": {
      "text/html": [
       "<div>\n",
       "<style scoped>\n",
       "    .dataframe tbody tr th:only-of-type {\n",
       "        vertical-align: middle;\n",
       "    }\n",
       "\n",
       "    .dataframe tbody tr th {\n",
       "        vertical-align: top;\n",
       "    }\n",
       "\n",
       "    .dataframe thead th {\n",
       "        text-align: right;\n",
       "    }\n",
       "</style>\n",
       "<table border=\"1\" class=\"dataframe\">\n",
       "  <thead>\n",
       "    <tr style=\"text-align: right;\">\n",
       "      <th></th>\n",
       "      <th>vehicle_age</th>\n",
       "      <th>response</th>\n",
       "      <th>0</th>\n",
       "    </tr>\n",
       "  </thead>\n",
       "  <tbody>\n",
       "    <tr>\n",
       "      <th>0</th>\n",
       "      <td>between_1_and_2_years</td>\n",
       "      <td>0</td>\n",
       "      <td>0.434285</td>\n",
       "    </tr>\n",
       "    <tr>\n",
       "      <th>2</th>\n",
       "      <td>between_1_and_2_years</td>\n",
       "      <td>1</td>\n",
       "      <td>0.091328</td>\n",
       "    </tr>\n",
       "    <tr>\n",
       "      <th>1</th>\n",
       "      <td>less_than_1_year</td>\n",
       "      <td>0</td>\n",
       "      <td>0.413488</td>\n",
       "    </tr>\n",
       "    <tr>\n",
       "      <th>4</th>\n",
       "      <td>less_than_1_year</td>\n",
       "      <td>1</td>\n",
       "      <td>0.018897</td>\n",
       "    </tr>\n",
       "    <tr>\n",
       "      <th>3</th>\n",
       "      <td>more_than_2_years</td>\n",
       "      <td>0</td>\n",
       "      <td>0.029663</td>\n",
       "    </tr>\n",
       "    <tr>\n",
       "      <th>5</th>\n",
       "      <td>more_than_2_years</td>\n",
       "      <td>1</td>\n",
       "      <td>0.012338</td>\n",
       "    </tr>\n",
       "  </tbody>\n",
       "</table>\n",
       "</div>"
      ],
      "text/plain": [
       "             vehicle_age  response         0\n",
       "0  between_1_and_2_years         0  0.434285\n",
       "2  between_1_and_2_years         1  0.091328\n",
       "1       less_than_1_year         0  0.413488\n",
       "4       less_than_1_year         1  0.018897\n",
       "3      more_than_2_years         0  0.029663\n",
       "5      more_than_2_years         1  0.012338"
      ]
     },
     "execution_count": 34,
     "metadata": {},
     "output_type": "execute_result"
    }
   ],
   "source": [
    "aux = df2[['vehicle_age','response']].value_counts(normalize=True).reset_index()\n",
    "aux.sort_values('vehicle_age')"
   ]
  },
  {
   "cell_type": "markdown",
   "id": "4c768174",
   "metadata": {
    "ExecuteTime": {
     "end_time": "2022-03-10T19:27:22.898927Z",
     "start_time": "2022-03-10T19:27:22.892124Z"
    }
   },
   "source": [
    "Cars with vehicle age of more than 2 years is bad for the model because there is no big difference between them."
   ]
  },
  {
   "cell_type": "code",
   "execution_count": 35,
   "id": "30c1a390",
   "metadata": {
    "ExecuteTime": {
     "end_time": "2022-04-09T18:34:00.993089Z",
     "start_time": "2022-04-09T18:33:59.804250Z"
    }
   },
   "outputs": [
    {
     "data": {
      "image/png": "[encoded data removed]",
      "text/plain": [
       "<Figure size 1728x864 with 1 Axes>"
      ]
     },
     "metadata": {
      "needs_background": "light"
     },
     "output_type": "display_data"
    }
   ],
   "source": [
    "\n",
    "aux = df2[['policy_sales_channel','response']].groupby('policy_sales_channel').sum().reset_index()\n",
    "plt.figure(figsize=(24,12));\n",
    "sns.barplot(x='response', y='policy_sales_channel', data =aux);"
   ]
  },
  {
   "cell_type": "code",
   "execution_count": 36,
   "id": "e0d9945c",
   "metadata": {
    "ExecuteTime": {
     "end_time": "2022-04-09T18:34:01.150852Z",
     "start_time": "2022-04-09T18:34:00.995132Z"
    }
   },
   "outputs": [
    {
     "data": {
      "text/plain": [
       "<AxesSubplot:xlabel='response', ylabel='vintage'>"
      ]
     },
     "execution_count": 36,
     "metadata": {},
     "output_type": "execute_result"
    },
    {
     "data": {
      "image/png": "[encoded data removed]",
      "text/plain": [
       "<Figure size 432x288 with 1 Axes>"
      ]
     },
     "metadata": {
      "needs_background": "light"
     },
     "output_type": "display_data"
    }
   ],
   "source": [
    "#vintage\n",
    "\n",
    "sns.boxplot(x='response', y='vintage', data=df2)"
   ]
  },
  {
   "cell_type": "code",
   "execution_count": 37,
   "id": "fbaf9726",
   "metadata": {
    "ExecuteTime": {
     "end_time": "2022-04-09T18:34:01.550226Z",
     "start_time": "2022-04-09T18:34:01.152841Z"
    },
    "cell_style": "split"
   },
   "outputs": [
    {
     "data": {
      "image/png": "[encoded data removed]",
      "text/plain": [
       "<Figure size 432x288 with 1 Axes>"
      ]
     },
     "metadata": {
      "needs_background": "light"
     },
     "output_type": "display_data"
    }
   ],
   "source": [
    "aux00 = df2.loc[df2['response']==0,'vintage']\n",
    "sns.histplot(aux00);"
   ]
  },
  {
   "cell_type": "code",
   "execution_count": 38,
   "id": "75b7f9e4",
   "metadata": {
    "ExecuteTime": {
     "end_time": "2022-04-09T18:34:01.765780Z",
     "start_time": "2022-04-09T18:34:01.552263Z"
    },
    "cell_style": "split"
   },
   "outputs": [
    {
     "data": {
      "image/png": "[encoded data removed]",
      "text/plain": [
       "<Figure size 432x288 with 1 Axes>"
      ]
     },
     "metadata": {
      "needs_background": "light"
     },
     "output_type": "display_data"
    }
   ],
   "source": [
    "aux00 = df2.loc[df2['response']==1,'vintage']\n",
    "sns.histplot(aux00);"
   ]
  },
  {
   "cell_type": "markdown",
   "id": "d96b5969",
   "metadata": {},
   "source": [
    "This feature seems to be unimportant"
   ]
  },
  {
   "cell_type": "markdown",
   "id": "ce21c157",
   "metadata": {},
   "source": [
    "## 3.2. Multivariable Analisys\n"
   ]
  },
  {
   "cell_type": "code",
   "execution_count": 39,
   "id": "fa5c6fc1",
   "metadata": {
    "ExecuteTime": {
     "end_time": "2022-04-09T18:34:02.651830Z",
     "start_time": "2022-04-09T18:34:01.768405Z"
    }
   },
   "outputs": [
    {
     "data": {
      "image/png": "[encoded data removed]",
      "text/plain": [
       "<Figure size 1080x1080 with 2 Axes>"
      ]
     },
     "metadata": {
      "needs_background": "light"
     },
     "output_type": "display_data"
    }
   ],
   "source": [
    "correlation = num_attributes.corr( method='pearson' )\n",
    "plt.figure(figsize=(15,15))\n",
    "sns.heatmap(correlation, annot=True);"
   ]
  },
  {
   "cell_type": "markdown",
   "id": "a157222e",
   "metadata": {},
   "source": [
    "# 4.0. Data Preparation"
   ]
  },
  {
   "cell_type": "code",
   "execution_count": 40,
   "id": "d7f60fbc",
   "metadata": {
    "ExecuteTime": {
     "end_time": "2022-04-09T18:34:02.896273Z",
     "start_time": "2022-04-09T18:34:02.653707Z"
    }
   },
   "outputs": [],
   "source": [
    "df3 = df2.copy()\n",
    "\n",
    "X = df3.drop('response', axis=1)\n",
    "y = df3['response'].copy()\n",
    "\n",
    "x_train, x_validation, y_train, y_validation = ms.train_test_split(X, y, test_size=0.2)\n",
    "\n",
    "df3 = pd.concat([x_train, y_train], axis=1)\n",
    "annual_premium_scaler = pickle.load(open('../webapp/features/annual_premium_scaler.pkl', 'rb'))\n",
    "age_scaler =  pickle.load(open('../webapp/features/age_scaler.pkl', 'rb'))\n",
    "vintage_scaler = pickle.load(open('../webapp/features/vintage_scaler.pkl', 'rb'))\n",
    "region_code_encode = pickle.load(open('../webapp/features/region_code_encode.pkl', 'rb'))\n",
    "policy_sales_channel_encode = pickle.load( open('../webapp/features/policy_sales_channel_encode.pkl', 'rb'))\n",
    "gender_encode = pickle.load(open('../webapp/features/gender_encode.pkl', 'rb'))"
   ]
  },
  {
   "cell_type": "markdown",
   "id": "41b2ca16",
   "metadata": {},
   "source": [
    "## Standardization"
   ]
  },
  {
   "cell_type": "code",
   "execution_count": 41,
   "id": "889d913e",
   "metadata": {
    "ExecuteTime": {
     "end_time": "2022-04-09T18:34:02.916711Z",
     "start_time": "2022-04-09T18:34:02.898013Z"
    }
   },
   "outputs": [],
   "source": [
    "\n",
    "\n",
    "#annual premium\n",
    "df3['annual_premium'] = annual_premium_scaler.transform(df3[['annual_premium']].values)\n"
   ]
  },
  {
   "cell_type": "markdown",
   "id": "0f50036b",
   "metadata": {},
   "source": [
    "## Rescaling"
   ]
  },
  {
   "cell_type": "code",
   "execution_count": 42,
   "id": "ff4b87a9",
   "metadata": {
    "ExecuteTime": {
     "end_time": "2022-04-09T18:34:03.074093Z",
     "start_time": "2022-04-09T18:34:02.919243Z"
    }
   },
   "outputs": [],
   "source": [
    "#age\n",
    "df3['age'] = age_scaler.transform(df3[['age']].values)\n",
    "\n",
    "#vintage\n",
    "df3['vintage'] = vintage_scaler.transform(df3[['vintage']].values)\n"
   ]
  },
  {
   "cell_type": "markdown",
   "id": "9805f7b3",
   "metadata": {},
   "source": [
    "## Encoder"
   ]
  },
  {
   "cell_type": "code",
   "execution_count": 43,
   "id": "21871c50",
   "metadata": {
    "ExecuteTime": {
     "end_time": "2022-04-09T18:34:03.241694Z",
     "start_time": "2022-04-09T18:34:03.075771Z"
    }
   },
   "outputs": [],
   "source": [
    "#vehicle age -- One Hot Encoding / Order Target Encoding / Frequency Encoding\n",
    "# df3 = pd.get_dummies(df3, prefix='vehicle_age', columns=['vehicle_age'])\n",
    "\n",
    "\n",
    "\n",
    "#region code -- Target Encoding / Weighted Target Encoding / Frequency Encoding\n",
    "df3.loc[:,'region_code'] = df3['region_code'].map(region_code_encode)\n",
    "# pickle.dump(target_encode_region_code, open(r'features/region_code_encode.pkl', 'wb'))\n",
    "\n",
    "#policy_sales_channel -- Target Encoding / Frequency Encoding\n",
    "df3.loc[:,'policy_sales_channel'] = df3['policy_sales_channel'].map(policy_sales_channel_encode)\n",
    "# pickle.dump(fe_policy_sales_channel, open(r'features/policy_sales_channel_encode.pkl', 'wb'))\n",
    "\n",
    "\n",
    "#gender -- Target Encoding\n",
    "df3.loc[:,'gender'] = df3['gender'].map(gender_encode)\n",
    "# pickle.dump(target_encode_gender, open(r'features/gender_encode.pkl', 'wb'))"
   ]
  },
  {
   "cell_type": "markdown",
   "id": "25c224c4",
   "metadata": {
    "ExecuteTime": {
     "end_time": "2022-03-10T22:40:11.093555Z",
     "start_time": "2022-03-10T22:40:11.078922Z"
    }
   },
   "source": [
    "## 4.4. Validation Preparation"
   ]
  },
  {
   "cell_type": "code",
   "execution_count": 44,
   "id": "3e257035",
   "metadata": {
    "ExecuteTime": {
     "end_time": "2022-04-09T18:34:03.415512Z",
     "start_time": "2022-04-09T18:34:03.243718Z"
    }
   },
   "outputs": [],
   "source": [
    "#vehicle age \n",
    "# x_validation = pd.get_dummies(x_validation, prefix='vehicle_age', columns=['vehicle_age'])\n",
    "\n",
    "#region code \n",
    "x_validation.loc[:,'region_code'] = x_validation.loc[:,'region_code'].map(region_code_encode)\n",
    "\n",
    "#policy_sales_channel \n",
    "x_validation.loc[:,'policy_sales_channel'] = x_validation.loc[:,'policy_sales_channel'].map(policy_sales_channel_encode)\n",
    "\n",
    "#gender \n",
    "x_validation.loc[:,'gender'] = x_validation.loc[:,'gender'].map(gender_encode)\n",
    "\n",
    "#age\n",
    "x_validation['age'] = age_scaler.transform(x_validation[['age']].values)\n",
    "\n",
    "#vintage\n",
    "x_validation['vintage'] = vintage_scaler.transform(x_validation[['vintage']].values)\n",
    "\n",
    "#annual premium\n",
    "x_validation['annual_premium'] = annual_premium_scaler.transform(x_validation[['annual_premium']].values)\n",
    "\n",
    "# fillna\n",
    "x_validation = x_validation.fillna( 0 )\n",
    "\n",
    "\n"
   ]
  },
  {
   "cell_type": "code",
   "execution_count": 45,
   "id": "b7b08b3d",
   "metadata": {
    "ExecuteTime": {
     "end_time": "2022-04-09T18:34:03.650795Z",
     "start_time": "2022-04-09T18:34:03.417283Z"
    }
   },
   "outputs": [],
   "source": [
    "#vehicle age \n",
    "x_train = pd.get_dummies(x_train, prefix='vehicle_age', columns=['vehicle_age'])\n",
    "\n",
    "#region code \n",
    "x_train.loc[:,'region_code'] = x_train.loc[:,'region_code'].map(region_code_encode)\n",
    "\n",
    "#policy_sales_channel \n",
    "x_train.loc[:,'policy_sales_channel'] = x_train.loc[:,'policy_sales_channel'].map(policy_sales_channel_encode)\n",
    "\n",
    "#gender \n",
    "x_train.loc[:,'gender'] = x_train.loc[:,'gender'].map(gender_encode)\n",
    "\n",
    "#age\n",
    "x_train['age'] = age_scaler.transform(x_train[['age']].values)\n",
    "\n",
    "#vintage\n",
    "x_train['vintage'] = vintage_scaler.transform(x_train[['vintage']].values)\n",
    "\n",
    "#annual premium\n",
    "x_train['annual_premium'] = annual_premium_scaler.transform(x_train[['annual_premium']].values)\n",
    "\n",
    "# fillna\n",
    "x_train = x_train.fillna( 0 )"
   ]
  },
  {
   "cell_type": "markdown",
   "id": "d33be0d9",
   "metadata": {
    "ExecuteTime": {
     "end_time": "2022-03-12T18:42:28.261745Z",
     "start_time": "2022-03-12T18:42:28.248318Z"
    }
   },
   "source": [
    "# 5.0. Feature Selection"
   ]
  },
  {
   "cell_type": "code",
   "execution_count": 46,
   "id": "06816fae",
   "metadata": {
    "ExecuteTime": {
     "end_time": "2022-04-09T18:34:03.730283Z",
     "start_time": "2022-04-09T18:34:03.652599Z"
    }
   },
   "outputs": [],
   "source": [
    "df4 = df3.copy()\n",
    "x_train_n = x_train.values\n",
    "y_train_n = y_train.values\n"
   ]
  },
  {
   "cell_type": "markdown",
   "id": "53ef831f",
   "metadata": {
    "ExecuteTime": {
     "end_time": "2022-03-12T18:55:27.915548Z",
     "start_time": "2022-03-12T18:55:27.907520Z"
    }
   },
   "source": [
    "## 5.2. Boruta as Feature Selector"
   ]
  },
  {
   "cell_type": "code",
   "execution_count": 47,
   "id": "c5cffb19",
   "metadata": {
    "ExecuteTime": {
     "end_time": "2022-04-09T18:34:03.859443Z",
     "start_time": "2022-04-09T18:34:03.732898Z"
    }
   },
   "outputs": [],
   "source": [
    "# #define Random Forest Regressor\n",
    "# rf = RandomForestRegressor(n_jobs=-1)\n",
    "\n",
    "# #define boruta\n",
    "# boruta = BorutaPy( rf, n_estimators='auto', verbose=2, random_state=42 ).fit(x_train_n, y_train_n )"
   ]
  },
  {
   "cell_type": "markdown",
   "id": "51a76b70",
   "metadata": {
    "ExecuteTime": {
     "end_time": "2022-03-12T19:15:19.789023Z",
     "start_time": "2022-03-12T19:15:19.767731Z"
    }
   },
   "source": [
    "## 5.3. Feature Importancia"
   ]
  },
  {
   "cell_type": "code",
   "execution_count": 48,
   "id": "c15c9b7b",
   "metadata": {
    "ExecuteTime": {
     "end_time": "2022-04-09T18:34:04.007007Z",
     "start_time": "2022-04-09T18:34:03.861095Z"
    }
   },
   "outputs": [],
   "source": [
    "# #model definition\n",
    "# forest = en.ExtraTreesClassifier(n_estimators=250, random_state=3, n_jobs=-1)\n",
    "\n",
    "\n",
    "# #data preparation\n",
    "# x_train_n = x_train.drop(['id'],axis=1)\n",
    "# y_train_n = y_train.values\n",
    "# forest.fit(x_train_n, y_train_n)"
   ]
  },
  {
   "cell_type": "code",
   "execution_count": 49,
   "id": "f8698f7e",
   "metadata": {
    "ExecuteTime": {
     "end_time": "2022-04-09T18:34:04.166175Z",
     "start_time": "2022-04-09T18:34:04.009371Z"
    }
   },
   "outputs": [],
   "source": [
    "# importances = forest.feature_importances_\n",
    "# std = np.std([tree.feature_importances_ for tree in forest.estimators_], axis=0)\n",
    "# indices = np.argsort(importances)[::-1]\n",
    "\n",
    "# #print the feature ranking\n",
    "# print('Feature ranking:')\n",
    "# df = pd.DataFrame()\n",
    "# for i, j in zip(x_train_n, forest.feature_importances_):\n",
    "#     aux = pd.DataFrame({'feature':i, 'importance': j},index=[0])\n",
    "#     df = pd.concat([df,aux],axis=0)\n",
    "    \n",
    "# print(df.sort_values('importance', ascending=False))\n",
    "\n",
    "# #Plot the impurity-based feature importances of the forest\n",
    "# plt.figure()\n",
    "# plt.title('Feature Importances')\n",
    "# plt.bar(range(x_train_n.shape[1]),importances[indices], color='r', yerr=std[indices], align='center')\n",
    "# plt.xticks(range(x_train_n.shape[1]),indices)\n",
    "# plt.xlim([-1, x_train_n.shape[1]])\n",
    "# plt.show();\n"
   ]
  },
  {
   "cell_type": "markdown",
   "id": "34932035",
   "metadata": {},
   "source": [
    "# 6.0. Machine Learning"
   ]
  },
  {
   "cell_type": "code",
   "execution_count": 51,
   "id": "4d09b9a4",
   "metadata": {
    "ExecuteTime": {
     "end_time": "2022-04-09T18:34:08.030769Z",
     "start_time": "2022-04-09T18:34:07.890944Z"
    }
   },
   "outputs": [],
   "source": [
    "#features selected\n",
    "\n",
    "cols_selected = ['vintage','annual_premium','age','region_code','vehicle_damage','policy_sales_channel','previously_insured']\n",
    "\n",
    "x_train = df3[cols_selected]\n",
    "x_val = x_validation[cols_selected]\n",
    "y_val = y_validation.copy()\n",
    "\n",
    "x_train = x_train.fillna( 0 )\n",
    "x_train.isnull().sum()\n",
    "\n",
    "knn_model = pickle.load(open('../webapp/model/knn_model.pkl', 'rb'))\n",
    "lr_model = pickle.load(open('../webapp/model/lr_model.pkl', 'rb'))\n",
    "xgb_model = pickle.load(open('../webapp/model/xgb_model.pkl', 'rb'))\n",
    "rf_model = pickle.load(open('../webapp/model/rf_model.pkl', 'rb'))\n"
   ]
  },
  {
   "cell_type": "markdown",
   "id": "ca611d15",
   "metadata": {
    "ExecuteTime": {
     "start_time": "2022-03-12T20:14:12.192Z"
    },
    "heading_collapsed": true
   },
   "source": [
    "## 6.1. KNN"
   ]
  },
  {
   "cell_type": "code",
   "execution_count": 52,
   "id": "542eba45",
   "metadata": {
    "ExecuteTime": {
     "end_time": "2022-04-09T18:34:17.269138Z",
     "start_time": "2022-04-09T18:34:08.744114Z"
    },
    "hidden": true
   },
   "outputs": [],
   "source": [
    "#model definition\n",
    "# knn_model = nh.KNeighborsClassifier(n_neighbors=9)\n",
    "\n",
    "#model training\n",
    "knn_model.fit(x_train,y_train)\n",
    "\n",
    "#model prediction - Poder de generalização\n",
    "yhat_knn = knn_model.predict_proba(x_val)\n",
    "\n",
    "# pickle.dump(knn_model, open('../webapp/model/knn_model.pkl', 'wb'))\n"
   ]
  },
  {
   "cell_type": "code",
   "execution_count": 53,
   "id": "b59fbee3",
   "metadata": {
    "ExecuteTime": {
     "end_time": "2022-04-09T18:34:17.442858Z",
     "start_time": "2022-04-09T18:34:17.271492Z"
    },
    "cell_style": "split",
    "hidden": true,
    "hide_input": true
   },
   "outputs": [
    {
     "data": {
      "image/png": "[encoded data removed]",
      "text/plain": [
       "<Figure size 432x288 with 1 Axes>"
      ]
     },
     "metadata": {
      "needs_background": "light"
     },
     "output_type": "display_data"
    }
   ],
   "source": [
    "#Accumulative gain\n",
    "skplt.metrics.plot_cumulative_gain(y_val,yhat_knn);"
   ]
  },
  {
   "cell_type": "code",
   "execution_count": 54,
   "id": "4111cb5f",
   "metadata": {
    "ExecuteTime": {
     "end_time": "2022-04-09T18:34:17.803209Z",
     "start_time": "2022-04-09T18:34:17.445364Z"
    },
    "cell_style": "split",
    "hidden": true,
    "hide_input": true
   },
   "outputs": [
    {
     "data": {
      "image/png": "[encoded data removed]",
      "text/plain": [
       "<Figure size 432x288 with 1 Axes>"
      ]
     },
     "metadata": {
      "needs_background": "light"
     },
     "output_type": "display_data"
    }
   ],
   "source": [
    "#Lift curve\n",
    "skplt.metrics.plot_lift_curve(y_val,yhat_knn);"
   ]
  },
  {
   "cell_type": "code",
   "execution_count": 55,
   "id": "41fd214f",
   "metadata": {
    "ExecuteTime": {
     "end_time": "2022-04-09T18:34:17.958962Z",
     "start_time": "2022-04-09T18:34:17.805351Z"
    },
    "cell_style": "split",
    "hidden": true
   },
   "outputs": [
    {
     "data": {
      "image/png": "[encoded data removed]",
      "text/plain": [
       "<Figure size 432x288 with 1 Axes>"
      ]
     },
     "metadata": {
      "needs_background": "light"
     },
     "output_type": "display_data"
    }
   ],
   "source": [
    "skplt.metrics.plot_lift_curve( y_val, yhat_knn );"
   ]
  },
  {
   "cell_type": "code",
   "execution_count": 56,
   "id": "25023068",
   "metadata": {
    "ExecuteTime": {
     "end_time": "2022-04-09T18:34:18.128743Z",
     "start_time": "2022-04-09T18:34:17.960831Z"
    },
    "cell_style": "split",
    "hidden": true
   },
   "outputs": [
    {
     "data": {
      "image/png": "[encoded data removed]",
      "text/plain": [
       "<Figure size 432x288 with 1 Axes>"
      ]
     },
     "metadata": {
      "needs_background": "light"
     },
     "output_type": "display_data"
    }
   ],
   "source": [
    "#Accumulative gain\n",
    "skplt.metrics.plot_cumulative_gain(y_val,yhat_knn);"
   ]
  },
  {
   "cell_type": "code",
   "execution_count": 57,
   "id": "c7752f9b",
   "metadata": {
    "ExecuteTime": {
     "end_time": "2022-04-09T18:34:18.174922Z",
     "start_time": "2022-04-09T18:34:18.131347Z"
    },
    "hidden": true
   },
   "outputs": [
    {
     "data": {
      "text/html": [
       "<div>\n",
       "<style scoped>\n",
       "    .dataframe tbody tr th:only-of-type {\n",
       "        vertical-align: middle;\n",
       "    }\n",
       "\n",
       "    .dataframe tbody tr th {\n",
       "        vertical-align: top;\n",
       "    }\n",
       "\n",
       "    .dataframe thead th {\n",
       "        text-align: right;\n",
       "    }\n",
       "</style>\n",
       "<table border=\"1\" class=\"dataframe\">\n",
       "  <thead>\n",
       "    <tr style=\"text-align: right;\">\n",
       "      <th></th>\n",
       "      <th>Precision_at_k</th>\n",
       "      <th>Recall_at_k</th>\n",
       "    </tr>\n",
       "  </thead>\n",
       "  <tbody>\n",
       "    <tr>\n",
       "      <th>KNN</th>\n",
       "      <td>0.296</td>\n",
       "      <td>0.627</td>\n",
       "    </tr>\n",
       "  </tbody>\n",
       "</table>\n",
       "</div>"
      ],
      "text/plain": [
       "    Precision_at_k Recall_at_k\n",
       "KNN          0.296       0.627"
      ]
     },
     "execution_count": 57,
     "metadata": {},
     "output_type": "execute_result"
    }
   ],
   "source": [
    "at_k_metrics( 'KNN', x_validation, y_validation, yhat_knn, k=20000 )"
   ]
  },
  {
   "cell_type": "markdown",
   "id": "da8fc469",
   "metadata": {
    "hidden": true
   },
   "source": [
    "### KNN Cross Validation"
   ]
  },
  {
   "cell_type": "code",
   "execution_count": 58,
   "id": "fca45f7f",
   "metadata": {
    "ExecuteTime": {
     "end_time": "2022-04-09T18:34:52.248869Z",
     "start_time": "2022-04-09T18:34:18.176832Z"
    },
    "hidden": true
   },
   "outputs": [
    {
     "data": {
      "text/html": [
       "<div>\n",
       "<style scoped>\n",
       "    .dataframe tbody tr th:only-of-type {\n",
       "        vertical-align: middle;\n",
       "    }\n",
       "\n",
       "    .dataframe tbody tr th {\n",
       "        vertical-align: top;\n",
       "    }\n",
       "\n",
       "    .dataframe thead th {\n",
       "        text-align: right;\n",
       "    }\n",
       "</style>\n",
       "<table border=\"1\" class=\"dataframe\">\n",
       "  <thead>\n",
       "    <tr style=\"text-align: right;\">\n",
       "      <th></th>\n",
       "      <th>Precision_at_k</th>\n",
       "      <th>Recall_at_k</th>\n",
       "    </tr>\n",
       "  </thead>\n",
       "  <tbody>\n",
       "    <tr>\n",
       "      <th>KNN</th>\n",
       "      <td>0.28 +/- 0.0</td>\n",
       "      <td>0.75 +/- 0.0</td>\n",
       "    </tr>\n",
       "  </tbody>\n",
       "</table>\n",
       "</div>"
      ],
      "text/plain": [
       "    Precision_at_k   Recall_at_k\n",
       "KNN   0.28 +/- 0.0  0.75 +/- 0.0"
      ]
     },
     "execution_count": 58,
     "metadata": {},
     "output_type": "execute_result"
    }
   ],
   "source": [
    "knn_cv = cross_validation('KNN', knn_model, x_train, y_train)\n",
    "knn_cv"
   ]
  },
  {
   "cell_type": "markdown",
   "id": "89465806",
   "metadata": {
    "ExecuteTime": {
     "start_time": "2022-03-12T20:14:12.192Z"
    },
    "heading_collapsed": true
   },
   "source": [
    "## 6.2. Logistic Regressor"
   ]
  },
  {
   "cell_type": "code",
   "execution_count": 59,
   "id": "828507b8",
   "metadata": {
    "ExecuteTime": {
     "end_time": "2022-04-09T18:34:53.972097Z",
     "start_time": "2022-04-09T18:34:52.250516Z"
    },
    "cell_style": "center",
    "hidden": true,
    "hide_input": false,
    "scrolled": false
   },
   "outputs": [],
   "source": [
    "#model definition\n",
    "# lr_model = lm.LogisticRegression(random_state=5)\n",
    "\n",
    "#model training\n",
    "\n",
    "lr_model.fit(x_train,y_train)\n",
    "\n",
    "#model prediction\n",
    "yhat_lr = lr_model.predict_proba(x_val)\n",
    "\n",
    "# pickle.dump(lr_model, open('../webapp/model/lr_model.pkl', 'wb'))\n",
    "\n"
   ]
  },
  {
   "cell_type": "code",
   "execution_count": 60,
   "id": "f0cbfc08",
   "metadata": {
    "ExecuteTime": {
     "end_time": "2022-04-09T18:34:54.209779Z",
     "start_time": "2022-04-09T18:34:53.974966Z"
    },
    "cell_style": "split",
    "hidden": true,
    "hide_input": true,
    "scrolled": true
   },
   "outputs": [
    {
     "data": {
      "image/png": "[encoded data removed]",
      "text/plain": [
       "<Figure size 432x288 with 1 Axes>"
      ]
     },
     "metadata": {
      "needs_background": "light"
     },
     "output_type": "display_data"
    }
   ],
   "source": [
    "skplt.metrics.plot_lift_curve( y_val, yhat_lr );"
   ]
  },
  {
   "cell_type": "code",
   "execution_count": 61,
   "id": "12da1768",
   "metadata": {
    "ExecuteTime": {
     "end_time": "2022-04-09T18:34:54.376040Z",
     "start_time": "2022-04-09T18:34:54.212361Z"
    },
    "cell_style": "center",
    "hidden": true
   },
   "outputs": [
    {
     "data": {
      "image/png": "[encoded data removed]",
      "text/plain": [
       "<Figure size 432x288 with 1 Axes>"
      ]
     },
     "metadata": {
      "needs_background": "light"
     },
     "output_type": "display_data"
    }
   ],
   "source": [
    "skplt.metrics.plot_lift_curve( y_val, yhat_lr );"
   ]
  },
  {
   "cell_type": "code",
   "execution_count": 62,
   "id": "9f82fafc",
   "metadata": {
    "ExecuteTime": {
     "end_time": "2022-04-09T18:34:54.539196Z",
     "start_time": "2022-04-09T18:34:54.377848Z"
    },
    "cell_style": "center",
    "hidden": true
   },
   "outputs": [
    {
     "data": {
      "image/png": "[encoded data removed]",
      "text/plain": [
       "<Figure size 432x288 with 1 Axes>"
      ]
     },
     "metadata": {
      "needs_background": "light"
     },
     "output_type": "display_data"
    }
   ],
   "source": [
    "#Accumulative gain\n",
    "skplt.metrics.plot_cumulative_gain(y_val,yhat_lr);"
   ]
  },
  {
   "cell_type": "code",
   "execution_count": 63,
   "id": "5ca65348",
   "metadata": {
    "ExecuteTime": {
     "end_time": "2022-04-09T18:34:54.580496Z",
     "start_time": "2022-04-09T18:34:54.540844Z"
    },
    "hidden": true
   },
   "outputs": [
    {
     "data": {
      "text/html": [
       "<div>\n",
       "<style scoped>\n",
       "    .dataframe tbody tr th:only-of-type {\n",
       "        vertical-align: middle;\n",
       "    }\n",
       "\n",
       "    .dataframe tbody tr th {\n",
       "        vertical-align: top;\n",
       "    }\n",
       "\n",
       "    .dataframe thead th {\n",
       "        text-align: right;\n",
       "    }\n",
       "</style>\n",
       "<table border=\"1\" class=\"dataframe\">\n",
       "  <thead>\n",
       "    <tr style=\"text-align: right;\">\n",
       "      <th></th>\n",
       "      <th>Precision_at_k</th>\n",
       "      <th>Recall_at_k</th>\n",
       "    </tr>\n",
       "  </thead>\n",
       "  <tbody>\n",
       "    <tr>\n",
       "      <th>Logistic Regressor</th>\n",
       "      <td>0.288</td>\n",
       "      <td>0.609</td>\n",
       "    </tr>\n",
       "  </tbody>\n",
       "</table>\n",
       "</div>"
      ],
      "text/plain": [
       "                   Precision_at_k Recall_at_k\n",
       "Logistic Regressor          0.288       0.609"
      ]
     },
     "execution_count": 63,
     "metadata": {},
     "output_type": "execute_result"
    }
   ],
   "source": [
    "at_k_metrics( 'Logistic Regressor', x_validation, y_validation, yhat_lr, k=20000 )"
   ]
  },
  {
   "cell_type": "code",
   "execution_count": 64,
   "id": "44f25d2b",
   "metadata": {
    "ExecuteTime": {
     "end_time": "2022-04-09T18:34:54.827320Z",
     "start_time": "2022-04-09T18:34:54.582467Z"
    },
    "cell_style": "split",
    "hidden": true,
    "hide_input": true,
    "scrolled": true
   },
   "outputs": [
    {
     "data": {
      "image/png": "[encoded data removed]",
      "text/plain": [
       "<Figure size 432x288 with 1 Axes>"
      ]
     },
     "metadata": {
      "needs_background": "light"
     },
     "output_type": "display_data"
    }
   ],
   "source": [
    "skplt.metrics.plot_lift_curve( y_val, yhat_lr );"
   ]
  },
  {
   "cell_type": "markdown",
   "id": "f4febca7",
   "metadata": {
    "hidden": true
   },
   "source": [
    "### Logistic Regressor Cross Validation"
   ]
  },
  {
   "cell_type": "code",
   "execution_count": 65,
   "id": "83e6e054",
   "metadata": {
    "ExecuteTime": {
     "end_time": "2022-04-09T18:35:01.311319Z",
     "start_time": "2022-04-09T18:34:54.829490Z"
    },
    "hidden": true
   },
   "outputs": [
    {
     "data": {
      "text/html": [
       "<div>\n",
       "<style scoped>\n",
       "    .dataframe tbody tr th:only-of-type {\n",
       "        vertical-align: middle;\n",
       "    }\n",
       "\n",
       "    .dataframe tbody tr th {\n",
       "        vertical-align: top;\n",
       "    }\n",
       "\n",
       "    .dataframe thead th {\n",
       "        text-align: right;\n",
       "    }\n",
       "</style>\n",
       "<table border=\"1\" class=\"dataframe\">\n",
       "  <thead>\n",
       "    <tr style=\"text-align: right;\">\n",
       "      <th></th>\n",
       "      <th>Precision_at_k</th>\n",
       "      <th>Recall_at_k</th>\n",
       "    </tr>\n",
       "  </thead>\n",
       "  <tbody>\n",
       "    <tr>\n",
       "      <th>Logistic Regressor</th>\n",
       "      <td>0.28 +/- 0.0</td>\n",
       "      <td>0.74 +/- 0.0</td>\n",
       "    </tr>\n",
       "  </tbody>\n",
       "</table>\n",
       "</div>"
      ],
      "text/plain": [
       "                   Precision_at_k   Recall_at_k\n",
       "Logistic Regressor   0.28 +/- 0.0  0.74 +/- 0.0"
      ]
     },
     "execution_count": 65,
     "metadata": {},
     "output_type": "execute_result"
    }
   ],
   "source": [
    "lr_cv = cross_validation('Logistic Regressor', lr_model, x_train, y_train)\n",
    "lr_cv"
   ]
  },
  {
   "cell_type": "markdown",
   "id": "88c3fd53",
   "metadata": {
    "ExecuteTime": {
     "start_time": "2022-03-12T20:14:12.192Z"
    }
   },
   "source": [
    "## 6.3. XBoost Classifier"
   ]
  },
  {
   "cell_type": "code",
   "execution_count": 66,
   "id": "f8145b5c",
   "metadata": {
    "ExecuteTime": {
     "end_time": "2022-04-09T18:36:27.212631Z",
     "start_time": "2022-04-09T18:35:01.314340Z"
    },
    "cell_style": "center",
    "hide_input": false,
    "scrolled": false
   },
   "outputs": [
    {
     "name": "stderr",
     "output_type": "stream",
     "text": [
      "/home/heitor/repos/health_insurance_cross_sale/venv/lib/python3.8/site-packages/xgboost/sklearn.py:1224: UserWarning: The use of label encoder in XGBClassifier is deprecated and will be removed in a future release. To remove this warning, do the following: 1) Pass option use_label_encoder=False when constructing XGBClassifier object; and 2) Encode your labels (y) as integers starting with 0, i.e. 0, 1, 2, ..., [num_class - 1].\n",
      "  warnings.warn(label_encoder_deprecation_msg, UserWarning)\n",
      "/home/heitor/repos/health_insurance_cross_sale/venv/lib/python3.8/site-packages/xgboost/data.py:262: FutureWarning: pandas.Int64Index is deprecated and will be removed from pandas in a future version. Use pandas.Index with the appropriate dtype instead.\n",
      "  elif isinstance(data.columns, (pd.Int64Index, pd.RangeIndex)):\n"
     ]
    },
    {
     "name": "stdout",
     "output_type": "stream",
     "text": [
      "[15:35:02] WARNING: ../src/learner.cc:1115: Starting in XGBoost 1.3.0, the default evaluation metric used with the objective 'binary:logistic' was changed from 'error' to 'logloss'. Explicitly set eval_metric if you'd like to restore the old behavior.\n"
     ]
    }
   ],
   "source": [
    "#model definition\n",
    "# xgb_model = XGBClassifier(n_estimators = 1500,\n",
    "#                           eta = 0.03,\n",
    "#                           max_depth = 3,\n",
    "#                           subsample = 0.7,\n",
    "#                           colsample_bytree = 0.9,\n",
    "#                           min_child_weight = 3)\n",
    "\n",
    "#model training\n",
    "xgb_model.fit(x_train,y_train)\n",
    "\n",
    "#model prediction\n",
    "yhat_xgb = xgb_model.predict_proba(x_val)\n",
    "\n"
   ]
  },
  {
   "cell_type": "code",
   "execution_count": 67,
   "id": "99a885ec",
   "metadata": {
    "ExecuteTime": {
     "end_time": "2022-04-09T18:36:27.224132Z",
     "start_time": "2022-04-09T18:36:27.214576Z"
    }
   },
   "outputs": [],
   "source": [
    "# pickle.dump(xgb_model, open(r'/src/model/xgb_model.pkl', 'wb'))"
   ]
  },
  {
   "cell_type": "code",
   "execution_count": 68,
   "id": "c4c76ce5",
   "metadata": {
    "ExecuteTime": {
     "end_time": "2022-04-09T18:36:27.633881Z",
     "start_time": "2022-04-09T18:36:27.226450Z"
    },
    "cell_style": "split",
    "hide_input": false,
    "scrolled": true
   },
   "outputs": [
    {
     "data": {
      "image/png": "[encoded data removed]",
      "text/plain": [
       "<Figure size 432x288 with 1 Axes>"
      ]
     },
     "metadata": {
      "needs_background": "light"
     },
     "output_type": "display_data"
    }
   ],
   "source": [
    "skplt.metrics.plot_lift_curve( y_val, yhat_xgb );"
   ]
  },
  {
   "cell_type": "code",
   "execution_count": 69,
   "id": "7a6f4893",
   "metadata": {
    "ExecuteTime": {
     "end_time": "2022-04-09T18:36:27.808560Z",
     "start_time": "2022-04-09T18:36:27.636147Z"
    },
    "cell_style": "split",
    "hide_input": false,
    "scrolled": true
   },
   "outputs": [
    {
     "data": {
      "image/png": "[encoded data removed]",
      "text/plain": [
       "<Figure size 432x288 with 1 Axes>"
      ]
     },
     "metadata": {
      "needs_background": "light"
     },
     "output_type": "display_data"
    }
   ],
   "source": [
    "#Accumulative gain\n",
    "skplt.metrics.plot_cumulative_gain(y_val,yhat_xgb);"
   ]
  },
  {
   "cell_type": "code",
   "execution_count": 70,
   "id": "f05ddd49",
   "metadata": {
    "ExecuteTime": {
     "end_time": "2022-04-09T18:36:27.868359Z",
     "start_time": "2022-04-09T18:36:27.810136Z"
    }
   },
   "outputs": [
    {
     "data": {
      "text/html": [
       "<div>\n",
       "<style scoped>\n",
       "    .dataframe tbody tr th:only-of-type {\n",
       "        vertical-align: middle;\n",
       "    }\n",
       "\n",
       "    .dataframe tbody tr th {\n",
       "        vertical-align: top;\n",
       "    }\n",
       "\n",
       "    .dataframe thead th {\n",
       "        text-align: right;\n",
       "    }\n",
       "</style>\n",
       "<table border=\"1\" class=\"dataframe\">\n",
       "  <thead>\n",
       "    <tr style=\"text-align: right;\">\n",
       "      <th></th>\n",
       "      <th>Precision_at_k</th>\n",
       "      <th>Recall_at_k</th>\n",
       "    </tr>\n",
       "  </thead>\n",
       "  <tbody>\n",
       "    <tr>\n",
       "      <th>XGBoost Classifier</th>\n",
       "      <td>0.448</td>\n",
       "      <td>0.01</td>\n",
       "    </tr>\n",
       "  </tbody>\n",
       "</table>\n",
       "</div>"
      ],
      "text/plain": [
       "                   Precision_at_k Recall_at_k\n",
       "XGBoost Classifier          0.448        0.01"
      ]
     },
     "execution_count": 70,
     "metadata": {},
     "output_type": "execute_result"
    }
   ],
   "source": [
    "at_k_metrics( 'XGBoost Classifier', x_validation, y_validation, yhat_xgb, k=200 )"
   ]
  },
  {
   "cell_type": "markdown",
   "id": "429a64db",
   "metadata": {},
   "source": [
    "### XGBoost Regressor Cross Validation"
   ]
  },
  {
   "cell_type": "code",
   "execution_count": null,
   "id": "98bcb34b",
   "metadata": {
    "ExecuteTime": {
     "end_time": "2022-04-09T19:14:15.712942Z",
     "start_time": "2022-04-09T19:14:15.712931Z"
    },
    "scrolled": true
   },
   "outputs": [],
   "source": [
    "xgb_cv = cross_validation('XGBoost Classifier', xgb_model, x_train, y_train)\n",
    "xgb_cv\n"
   ]
  },
  {
   "cell_type": "code",
   "execution_count": null,
   "id": "b11387de",
   "metadata": {
    "ExecuteTime": {
     "end_time": "2022-04-09T18:42:54.592361Z",
     "start_time": "2022-04-09T18:42:54.008067Z"
    }
   },
   "outputs": [],
   "source": [
    "# pickle.dump(xgb_model, open(r'/src/model/xgb_model.pkl', 'wb'))"
   ]
  },
  {
   "cell_type": "code",
   "execution_count": null,
   "id": "b363e880",
   "metadata": {
    "ExecuteTime": {
     "end_time": "2022-04-09T18:43:15.992520Z",
     "start_time": "2022-04-09T18:43:15.822686Z"
    },
    "cell_style": "split",
    "hide_input": false,
    "scrolled": true
   },
   "outputs": [],
   "source": [
    "skplt.metrics.plot_lift_curve( y_val, yhat_xgb );"
   ]
  },
  {
   "cell_type": "code",
   "execution_count": null,
   "id": "92b3af85",
   "metadata": {
    "ExecuteTime": {
     "end_time": "2022-04-09T18:43:19.888247Z",
     "start_time": "2022-04-09T18:43:19.714577Z"
    },
    "cell_style": "split",
    "hide_input": false,
    "scrolled": true
   },
   "outputs": [],
   "source": [
    "#Accumulative gain\n",
    "skplt.metrics.plot_cumulative_gain(y_val,yhat_xgb);"
   ]
  },
  {
   "cell_type": "code",
   "execution_count": null,
   "id": "7dcc13e3",
   "metadata": {
    "ExecuteTime": {
     "end_time": "2022-04-09T18:43:20.550538Z",
     "start_time": "2022-04-09T18:43:20.493651Z"
    }
   },
   "outputs": [],
   "source": [
    "at_k_metrics( 'XGBoost Classifier', x_validation, y_validation, yhat_xgb, k=200 )"
   ]
  },
  {
   "cell_type": "markdown",
   "id": "3f6136fe",
   "metadata": {},
   "source": [
    "### XGBoost Cross Validation"
   ]
  },
  {
   "cell_type": "code",
   "execution_count": null,
   "id": "4f36dbae",
   "metadata": {
    "ExecuteTime": {
     "end_time": "2022-04-09T18:45:45.122610Z",
     "start_time": "2022-04-09T18:43:23.924766Z"
    },
    "scrolled": true
   },
   "outputs": [],
   "source": [
    "xgb_cv = cross_validation('XGBoost Classifier', xgb_model, x_train, y_train)\n",
    "xgb_cv"
   ]
  },
  {
   "cell_type": "markdown",
   "id": "087e5fad",
   "metadata": {
    "ExecuteTime": {
     "end_time": "2022-03-14T19:20:40.834240Z",
     "start_time": "2022-03-14T19:20:40.797018Z"
    }
   },
   "source": [
    "# 8.0 Hyperparameter Fine Tunning"
   ]
  },
  {
   "cell_type": "code",
   "execution_count": null,
   "id": "1f57aa57",
   "metadata": {
    "ExecuteTime": {
     "end_time": "2022-04-09T18:41:34.906500Z",
     "start_time": "2022-04-09T18:41:34.906480Z"
    }
   },
   "outputs": [],
   "source": [
    "# import random\n",
    "\n",
    "# param = {\n",
    "# 'n_estimators': [1500, 1700, 2500, 3000, 3500],\n",
    "# 'eta': [0.01, 0.03],\n",
    "# 'max_depth': [3, 5, 9],\n",
    "# 'subsample': [0.1, 0.5, 0.7],\n",
    "# 'colsample_bytree': [0.3, 0.7, 0.9],\n",
    "# 'min_child_weight': [3, 8, 15]\n",
    "# }\n",
    "\n",
    "# MAX_EVAL = 5\n",
    "\n",
    "# final_result = pd.DataFrame()\n",
    "\n",
    "# for i in range( MAX_EVAL ):\n",
    "\n",
    "# # choose values for parameters randomly\n",
    "\n",
    "#     hp = { k: random.sample( v, 1 )[0] for k, v in param.items() }\n",
    "#     print( hp )\n",
    "#     # model\n",
    "\n",
    "#     model_xgb = XGBClassifier( objective='reg:squarederror',\n",
    "#     n_estimators=hp['n_estimators'],\n",
    "#     eta=hp['eta'],\n",
    "#     max_depth=hp['max_depth'],\n",
    "#     subsample=hp['subsample'],\n",
    "#     colsample_bytee=hp['colsample_bytree'],\n",
    "#     min_child_weight=hp['min_child_weight'] )\n",
    "\n",
    "\n",
    "#     # performance\n",
    "#     result = cross_validation('XGBoost Classifier', xgb_model, x_train, y_train)\n",
    "#     final_result = pd.concat( [final_result, result] )\n",
    "# #\n",
    "# #final_result"
   ]
  },
  {
   "cell_type": "code",
   "execution_count": 95,
   "id": "8d304c70",
   "metadata": {
    "ExecuteTime": {
     "end_time": "2022-04-09T22:09:37.473308Z",
     "start_time": "2022-04-09T22:09:37.457173Z"
    }
   },
   "outputs": [
    {
     "ename": "NameError",
     "evalue": "name 'xgb_cv' is not defined",
     "output_type": "error",
     "traceback": [
      "\u001b[0;31m---------------------------------------------------------------------------\u001b[0m",
      "\u001b[0;31mNameError\u001b[0m                                 Traceback (most recent call last)",
      "Input \u001b[0;32mIn [95]\u001b[0m, in \u001b[0;36m<cell line: 1>\u001b[0;34m()\u001b[0m\n\u001b[0;32m----> 1\u001b[0m results_cv \u001b[38;5;241m=\u001b[39m pd\u001b[38;5;241m.\u001b[39mconcat([knn_cv, lr_cv, \u001b[43mxgb_cv\u001b[49m, rf_cv])\n\u001b[1;32m      2\u001b[0m results_cv\n",
      "\u001b[0;31mNameError\u001b[0m: name 'xgb_cv' is not defined"
     ]
    }
   ],
   "source": [
    "results_cv = pd.concat([knn_cv, lr_cv, xgb_cv, rf_cv])\n",
    "results_cv"
   ]
  },
  {
   "cell_type": "markdown",
   "id": "bbddc3ba",
   "metadata": {},
   "source": [
    "# 9.0 Deploy to Production"
   ]
  },
  {
   "cell_type": "markdown",
   "id": "87d36809",
   "metadata": {},
   "source": [
    "## 9.1. Class HealthInsurance"
   ]
  },
  {
   "cell_type": "code",
   "execution_count": null,
   "id": "1fbc662d",
   "metadata": {
    "ExecuteTime": {
     "end_time": "2022-03-17T21:04:51.203763Z",
     "start_time": "2022-03-17T21:04:51.203747Z"
    }
   },
   "outputs": [],
   "source": [
    "class HealthInsurance():\n",
    "    def __init__(self):\n",
    "        #paths\n",
    "        self.path = '/home/heitor/repos/health_insurance_cross_sale/'\n",
    "        self.annual_premium_scaler = pickle.load(ss, open(self.path + r'../src/features/annual_premium_scaler.pkl', 'rb'))\n",
    "        self.age_scaler =  pickle.load(mms_age, open(self.path + r'../src/features/age_scaler.pkl', 'rb'))\n",
    "        self.vintage_scaler = pickle.load(mms_vintage, open(self.path + r'../src/features/vintage_scaler.pkl', 'rb'))\n",
    "        self.region_code_encode = pickle.load(target_encode_region_code, open(self.path + r'../src/features/region_code_encode.pkl', 'rb'))\n",
    "        self.policy_sales_channel_encode = pickle.load(fe_policy_sales_channel, open(self.path + r'../src/features/policy_sales_channel_encode.pkl', 'rb'))\n",
    "        self.gender_encode = pickle.load(target_encode_gender, open(self.path + r'../src/features/gender_encode.pkl', 'rb'))\n",
    "        \n",
    "                                                                                    \n",
    "    def data_cleaning(data):\n",
    "                                                                                     #Rename columns\n",
    "        old_cols = ['id', 'Gender', 'Age', 'DrivingLicense', 'RegionCode','PreviouslyInsured', 'Vehicle_Age', 'VehicleDamage', 'AnnualPremium','PolicySalesChannel', 'Vintage', 'Response']\n",
    "        snakecase = lambda x: inflection.underscore(x)\n",
    "\n",
    "        new_cols = list(map(snakecase, old_cols))\n",
    "        data.columns = new_cols\n",
    "\n",
    "        #changing types\n",
    "\n",
    "        data['vehicle_damage'] = data['vehicle_damage'].apply(lambda x: 1 if x == 'Yes' else 0)\n",
    "        data['policy_sales_channel'] = data['policy_sales_channel'].astype(int)\n",
    "        data['annual_premium'] = data['annual_premium'].astype(int)\n",
    "        data['region_code'] = data['region_code'].astype(int)\n",
    "        data['vehicle_damage'] = data['vehicle_damage'].astype(int)\n",
    "        return data\n",
    "                                                                                     \n",
    "                                                                                     \n",
    "    def feature_engineering(data):\n",
    "        data['vehicle_age'] = data['vehicle_age'].apply(lambda x: 'less_than_1_year' if x =='< 1 Year' else\n",
    "                                                                  'more_than_2_years' if x== '> 2 Years' else\n",
    "                                                                  'between_1_and_2_years' )\n",
    "        return data\n",
    "                                                                                     \n",
    "    def data_preparation(data):\n",
    "        X = data.drop('response', axis=1)\n",
    "        y = data['response'].copy()\n",
    "        x_train, x_validation, y_train, y_validation = ms.train_test_split(X, y, test_size=0.2)\n",
    "        data = pd.concat([x_train, y_train], axis=1)\n",
    "\n",
    "        #annual premium\n",
    "        df3['annual_premium'] = self.annual_premium_scaler.transform(df3[['annual_premium']].values)\n",
    "\n",
    "        #age\n",
    "        data['age'] = self.age_scaler.transform(data[['age']].values)\n",
    "\n",
    "        #vintage\n",
    "        data['vintage'] = self.vintage_scaler.transform(data[['vintage']].values)\n",
    "\n",
    "        #vehicle age -- One Hot Encoding / Order Target Encoding / Frequency Encoding\n",
    "        data = pd.get_dummies(data, prefix='vehicle_age', columns=['vehicle_age'])\n",
    "\n",
    "        #region code -- Target Encoding / Weighted Target Encoding / Frequency Encoding\n",
    "        data.loc[:,'region_code'] = data['region_code'].map(self.region_code_encode)\n",
    "\n",
    "        #policy_sales_channel -- Target Encoding / Frequency Encoding\n",
    "        data.loc[:,'policy_sales_channel'] = data['policy_sales_channel'].map(policy_sales_channel_encode)\n",
    "\n",
    "        #gender -- Target Encoding\n",
    "        data.loc[:,'gender'] = data['gender'].map(self.gender_encode)\n",
    "\n",
    "        #features selected\n",
    "        cols_selected = ['vintage','annual_premium','age','region_code','vehicle_damage','policy_sales_channel','previously_insured']\n",
    "        \n",
    "\n",
    "        return data[cols_selected]\n",
    "       \n",
    "    def get_prediction(self, model, original_data, test_data):\n",
    "        #model prediction\n",
    "        pred = mode.predict_proba(test_data)\n",
    "        \n",
    "        #join prediction into original data\n",
    "        original_data['score'] = pred\n",
    "        \n",
    "        return original_data.to_json(orient='records',data_format='iso')"
   ]
  },
  {
   "cell_type": "markdown",
   "id": "0a259be6",
   "metadata": {},
   "source": [
    "## 9.2. API Handler"
   ]
  },
  {
   "cell_type": "code",
   "execution_count": null,
   "id": "1a41c9de",
   "metadata": {
    "ExecuteTime": {
     "end_time": "2022-03-17T21:04:51.205139Z",
     "start_time": "2022-03-17T21:04:51.205122Z"
    }
   },
   "outputs": [],
   "source": [
    "from healthinsurance import HealthInsurance\n",
    "import pickle\n",
    "import pandas as pd\n",
    "from flask import Flask, request, Response\n",
    "import os\n",
    "\n",
    "#loading model\n",
    "model = pickle.load(xgb_model_tunned, open(r'../src/model/xgb_model.pkl', 'rb'))\n",
    "\n",
    "#initialize API\n",
    "app = Flask(__name__)\n",
    "\n",
    "@app.route('/predict', methods=['POST'])\n",
    "def healthinsurance_predict():\n",
    "    test_json = request.get_json()\n",
    "    if test_json: #there is data\n",
    "        if isinstance(test_jason, dict):  #unique example \n",
    "            test_raw = pd.DataFrame(test_json, index=[0])\n",
    "        \n",
    "        else:                             #multiple example\n",
    "            test_raw = pd.DataFrame(test_json, columns = test_json[0].keys())\n",
    "            \n",
    "            #Initialize HealthInsurance Class\n",
    "            pipeline = HealthInsurance()\n",
    "            \n",
    "            #data cleaning\n",
    "            data = data_cleaning(test_raw)\n",
    "            \n",
    "            #feature engineering\n",
    "            data = feature_engineering(data)\n",
    "            \n",
    "            #data preparation\n",
    "            data = data_preparation(data)\n",
    "            \n",
    "            #prediction\n",
    "            df_response = get_prediction(model, test_raw, data)\n",
    "            \n",
    "            return df_response\n",
    "        \n",
    "    \n",
    "    else:\n",
    "        return Response('{}', status = 200, mimetype = 'application/json')\n",
    "\n",
    "if __name__ == 'main':\n",
    "    port = os.environ.get('PORT', 5000)\n",
    "    app.run('0.0.0.0', port=port)\n",
    "    \n",
    "            \n",
    "            \n",
    "            \n",
    "\n",
    "\n"
   ]
  },
  {
   "cell_type": "markdown",
   "id": "b5019cfb",
   "metadata": {
    "ExecuteTime": {
     "end_time": "2022-03-16T20:56:37.666918Z",
     "start_time": "2022-03-16T20:56:37.660445Z"
    }
   },
   "source": [
    "## 9.3. API Tester"
   ]
  },
  {
   "cell_type": "code",
   "execution_count": null,
   "id": "ca85c1a1",
   "metadata": {
    "ExecuteTime": {
     "end_time": "2022-03-17T21:04:51.206659Z",
     "start_time": "2022-03-17T21:04:51.206639Z"
    }
   },
   "outputs": [],
   "source": [
    "import requests\n",
    "# import json"
   ]
  },
  {
   "cell_type": "code",
   "execution_count": null,
   "id": "4a3b8f71",
   "metadata": {
    "ExecuteTime": {
     "end_time": "2022-03-17T21:04:51.208338Z",
     "start_time": "2022-03-17T21:04:51.208321Z"
    }
   },
   "outputs": [],
   "source": [
    "df_test = x_validation"
   ]
  },
  {
   "cell_type": "code",
   "execution_count": null,
   "id": "0ca28998",
   "metadata": {
    "ExecuteTime": {
     "end_time": "2022-03-17T21:04:51.209537Z",
     "start_time": "2022-03-17T21:04:51.209521Z"
    }
   },
   "outputs": [],
   "source": [
    "df_test = df_test.sample(10)"
   ]
  },
  {
   "cell_type": "code",
   "execution_count": null,
   "id": "4338ca3c",
   "metadata": {
    "ExecuteTime": {
     "end_time": "2022-03-17T21:04:51.210889Z",
     "start_time": "2022-03-17T21:04:51.210873Z"
    }
   },
   "outputs": [],
   "source": [
    "#convert dataframe to json\n",
    "data = json.dumps(df_test.to_dict(orient='records'))"
   ]
  },
  {
   "cell_type": "code",
   "execution_count": null,
   "id": "efef4714",
   "metadata": {
    "ExecuteTime": {
     "end_time": "2022-03-17T21:04:51.212023Z",
     "start_time": "2022-03-17T21:04:51.212008Z"
    }
   },
   "outputs": [],
   "source": [
    "#API Call\n",
    "url = 'https://health-insurance-cross2.herokuapp.com/predict'\n",
    "header = { 'Content-type': 'application/json' }\n",
    "\n",
    "\n",
    "r = requests.post( url, data=data, headers=header )\n",
    "print( 'Status Code: {}'.format( r.status_code ) )"
   ]
  },
  {
   "cell_type": "code",
   "execution_count": null,
   "id": "7309a3cb",
   "metadata": {
    "ExecuteTime": {
     "end_time": "2022-03-17T21:04:51.213391Z",
     "start_time": "2022-03-17T21:04:51.213374Z"
    }
   },
   "outputs": [],
   "source": [
    "d1 = pd.DataFrame( r.json(), columns=r.json()[0].keys() )\n",
    "d1.sort_values( 'score', ascending=False ).head()"
   ]
  },
  {
   "cell_type": "markdown",
   "id": "0c35e7a5",
   "metadata": {
    "ExecuteTime": {
     "end_time": "2022-03-17T21:04:51.214620Z",
     "start_time": "2022-03-17T21:04:51.214603Z"
    }
   },
   "source": [
    "# 10.0. Relatório "
   ]
  },
  {
   "cell_type": "markdown",
   "id": "a540d806",
   "metadata": {
    "ExecuteTime": {
     "end_time": "2022-04-09T22:11:35.719594Z",
     "start_time": "2022-04-09T22:11:35.711062Z"
    }
   },
   "source": [
    "* Principais Insights sobre os atributos mais relevantes de clientes interessados em adquirir um seguro de automóvel.\n"
   ]
  },
  {
   "cell_type": "markdown",
   "id": "2c2677a5",
   "metadata": {},
   "source": [
    "## 10.1. Insights da EDA"
   ]
  },
  {
   "cell_type": "markdown",
   "id": "d5f3062a",
   "metadata": {},
   "source": [
    "### I"
   ]
  },
  {
   "cell_type": "markdown",
   "id": "4d4911a7",
   "metadata": {},
   "source": [
    "##### Features que mais impactam nessa decisão segundo o Extra Trees Classifier em ordem descrescente de importância\n",
    "\n",
    "1. vintage - tempo que usa seguro\n",
    "2. annual_premium - valor gasto anualmente com a empresa\n",
    "3. age - idade\n",
    "4. region_code - código da região \n",
    "5. vehicle_damage - condição se já danificou o veículo \n",
    "6. policy_sales_channel - canal de comunicação\n",
    "7. previously_insured - se já possui \n"
   ]
  },
  {
   "cell_type": "markdown",
   "id": "2d75eeba",
   "metadata": {},
   "source": [
    "* Qual a porcentagem de clientes interessados em adquirir um seguro de automóvel, o time de vendas conseguirá contatar fazendo 20.000 ligações?\n"
   ]
  },
  {
   "cell_type": "code",
   "execution_count": 126,
   "id": "16d79683",
   "metadata": {
    "ExecuteTime": {
     "end_time": "2022-04-09T22:22:06.708401Z",
     "start_time": "2022-04-09T22:22:06.703777Z"
    }
   },
   "outputs": [
    {
     "name": "stdout",
     "output_type": "stream",
     "text": [
      "20.000 representa 26.24% da base de validação\n"
     ]
    }
   ],
   "source": [
    "perc = 100*20000/len(y_val)\n",
    "\n",
    "\n",
    "print('20.000 representa {:.2f}% da base de validação'.format(perc))\n",
    "\n"
   ]
  },
  {
   "cell_type": "code",
   "execution_count": 130,
   "id": "6ded7ef6",
   "metadata": {
    "ExecuteTime": {
     "end_time": "2022-04-09T22:27:10.083133Z",
     "start_time": "2022-04-09T22:27:09.916981Z"
    }
   },
   "outputs": [
    {
     "data": {
      "image/png": "[encoded data removed]",
      "text/plain": [
       "<Figure size 432x288 with 1 Axes>"
      ]
     },
     "metadata": {
      "needs_background": "light"
     },
     "output_type": "display_data"
    }
   ],
   "source": [
    "#Accumulative gain\n",
    "skplt.metrics.plot_cumulative_gain(y_val,yhat_xgb);\n",
    "\n"
   ]
  },
  {
   "cell_type": "markdown",
   "id": "342a9cd5",
   "metadata": {},
   "source": [
    "Ao analisar o ganho acumulado para 26% da base, alcançaremos aproximadamente 80% dos clientes interessados.\n",
    "\n"
   ]
  },
  {
   "cell_type": "markdown",
   "id": "18561e2e",
   "metadata": {},
   "source": [
    "* E se a capacidade do time de vendas aumentar para 40.000 ligações, qual a porcentagem de clientes interessados em adquirir um seguro de automóvel o time de vendas conseguirá contatar?\n"
   ]
  },
  {
   "cell_type": "code",
   "execution_count": 133,
   "id": "38c9f816",
   "metadata": {
    "ExecuteTime": {
     "end_time": "2022-04-09T22:27:44.614943Z",
     "start_time": "2022-04-09T22:27:44.610128Z"
    }
   },
   "outputs": [
    {
     "name": "stdout",
     "output_type": "stream",
     "text": [
      "40.000 representa 52.48% da base de validação\n",
      "Ao analisar o ganho acumulado para 52.48% da base, alcançaremos aproximadamente 100% dos clientes interessados.\n"
     ]
    }
   ],
   "source": [
    "perc = 100*40000/len(y_val)\n",
    "\n",
    "\n",
    "print('40.000 representa {:.2f}% da base de validação'.format(perc))\n",
    "print('Ao analisar o ganho acumulado para {:.2f}% da base, alcançaremos aproximadamente 100% dos clientes interessados.'.format(perc))\n"
   ]
  },
  {
   "cell_type": "code",
   "execution_count": null,
   "id": "37a50d6a",
   "metadata": {},
   "outputs": [],
   "source": []
  }
 ],
 "metadata": {
  "kernelspec": {
   "display_name": "Python 3 (ipykernel)",
   "language": "python",
   "name": "python3"
  },
  "language_info": {
   "codemirror_mode": {
    "name": "ipython",
    "version": 3
   },
   "file_extension": ".py",
   "mimetype": "text/x-python",
   "name": "python",
   "nbconvert_exporter": "python",
   "pygments_lexer": "ipython3",
   "version": "3.8.10"
  }
 },
 "nbformat": 4,
 "nbformat_minor": 5
}
