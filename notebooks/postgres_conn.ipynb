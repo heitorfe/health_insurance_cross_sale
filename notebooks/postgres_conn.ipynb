{
 "cells": [
  {
   "cell_type": "markdown",
   "id": "32543eb2",
   "metadata": {},
   "source": [
    "# 0.0. Imports"
   ]
  },
  {
   "cell_type": "code",
   "execution_count": 1,
   "id": "5aef1504",
   "metadata": {
    "ExecuteTime": {
     "end_time": "2022-06-21T21:19:11.782928Z",
     "start_time": "2022-06-21T21:18:58.886784Z"
    }
   },
   "outputs": [
    {
     "name": "stderr",
     "output_type": "stream",
     "text": [
      "/home/heitor/repos/health_insurance_cross_sale/venv/lib/python3.8/site-packages/xgboost/compat.py:36: FutureWarning: pandas.Int64Index is deprecated and will be removed from pandas in a future version. Use pandas.Index with the appropriate dtype instead.\n",
      "  from pandas import MultiIndex, Int64Index\n"
     ]
    }
   ],
   "source": [
    "#Requirements\n",
    "from matplotlib import pyplot         as plt\n",
    "\n",
    "#Machine Learning\n",
    "from sklearn import preprocessing     as pp\n",
    "from sklearn import model_selection   as ms\n",
    "from sklearn import neighbors         as nh\n",
    "from sklearn import linear_model      as lm\n",
    "from sklearn import ensemble          as en\n",
    "from sklearn.svm import SVC\n",
    "import lightgbm as lgb\n",
    "from sklearn.ensemble import RandomForestClassifier\n",
    "from xgboost          import XGBClassifier \n",
    " \n",
    "#Data Extraction & Proccessing\n",
    "import pandas     as pd\n",
    "import numpy      as np\n",
    "from sqlalchemy import create_engine\n",
    "import psycopg2 as pg\n",
    "import pandas.io.sql as psql\n",
    "\n",
    "#Data analisys\n",
    "import seaborn    as sns\n",
    "import scikitplot as skplt\n",
    "import sklearn.metrics  as metrics\n",
    "\n",
    "#Others\n",
    "import warnings\n",
    "import inflection\n",
    "import pickle\n",
    "import os\n",
    "from dotenv import load_dotenv, find_dotenv\n",
    "\n"
   ]
  },
  {
   "cell_type": "markdown",
   "id": "8375449d",
   "metadata": {},
   "source": [
    "## 0.1. Helper Functions"
   ]
  },
  {
   "cell_type": "code",
   "execution_count": 3,
   "id": "d6eeecd7",
   "metadata": {
    "ExecuteTime": {
     "end_time": "2022-06-21T21:19:23.266246Z",
     "start_time": "2022-06-21T21:19:23.244858Z"
    }
   },
   "outputs": [],
   "source": [
    "# def jupyter_settings():\n",
    "#     %matplotlib inline\n",
    "#     %pylab inline\n",
    "#     plt.style.use( 'bmh' )\n",
    "#     plt.rcParams['figure.figsize'] = [25, 12]\n",
    "#     plt.rcParams['font.size'] = 24\n",
    "#     display( HTML( '<style>.container { width:100% !important; }</style>') )\n",
    "#     pd.options.display.max_columns = None\n",
    "#     pd.options.display.max_rows = None\n",
    "#     pd.set_option( 'display.expand_frame_repr', False )\n",
    "#     sns.set()\n",
    "    \n",
    "# jupyter_settings()\n",
    "\n",
    "warnings.simplefilter(\"ignore\")\n",
    "\n",
    "def num_attributes(df1):\n",
    "    num_attributes = df1.select_dtypes(['int64','float64'])\n",
    "    #Central Tendency - Median, Mean\n",
    "    mean = pd.DataFrame(num_attributes.apply(np.mean)).T\n",
    "    median = pd.DataFrame(num_attributes.apply(np.median)).T\n",
    "\n",
    "    #Dispersion - std, min, max, range, skew, kurtosis\n",
    "    std = pd.DataFrame(num_attributes.apply(np.std)).T\n",
    "    min_ = pd.DataFrame(num_attributes.apply(min)).T\n",
    "    max_ = pd.DataFrame(num_attributes.apply(max)).T\n",
    "    range_ = pd.DataFrame(num_attributes.apply(lambda x: x.max() - x.min())).T\n",
    "    skew = pd.DataFrame(num_attributes.apply(lambda x: x.skew())).T\n",
    "    kurtosis =  pd.DataFrame(num_attributes.apply(lambda x: x.kurtosis())).T\n",
    "\n",
    "    m = pd.concat([min_, max_, range_, mean, median, std, skew, kurtosis]).T.reset_index()\n",
    "    m.columns = ['attributes','min', 'max', 'range', 'mean', 'median', 'std', 'skew', 'kurtosis']\n",
    "    return m\n",
    "\n",
    "# prepare dataset for function precision and recall at k\n",
    "def concat_order_data( x_val, y_val, yhat ):\n",
    "    \n",
    "    # copy data\n",
    "    data = x_val.copy()\n",
    "    data['response'] = y_val.copy()\n",
    "\n",
    "    # propensity score\n",
    "    data['score'] = yhat[:, 1].tolist()\n",
    "\n",
    "    # sorted clients by propensity score\n",
    "    data = data.sort_values( 'score', ascending=False )\n",
    "    \n",
    "    return data\n",
    "\n",
    "def precision_at_k( data, k=20000 ):\n",
    "    # reset index\n",
    "    data = data.reset_index( drop=True )\n",
    "\n",
    "    # create ranking order\n",
    "    data['ranking'] = data.index + 1 \n",
    "\n",
    "    data['precision_at_k'] = data['response'].cumsum() / data['ranking']\n",
    "\n",
    "    return data.loc[k, 'precision_at_k']\n",
    "\n",
    "\n",
    "def recall_at_k( data, k=20000 ):\n",
    "    # reset index\n",
    "    data = data.reset_index( drop=True )\n",
    "\n",
    "    # create ranking order\n",
    "    data['ranking'] = data.index + 1 \n",
    "\n",
    "    data['recall_at_k'] = data['response'].cumsum() / data['response'].sum()\n",
    "\n",
    "    return data.loc[k, 'recall_at_k']\n",
    "\n",
    "# all at k metrics as dataframe\n",
    "def at_k_metrics( model_name, x_val, y_val, yhat, k=20000 ):\n",
    "    data = concat_order_data( x_val, y_val, yhat )\n",
    "    \n",
    "    pr = precision_at_k( data, k )\n",
    "    re = recall_at_k( data, k )\n",
    "    \n",
    "    return pd.DataFrame({\"Precision_at_k\": \"{}\".format(np.round(pr,3)),\n",
    "                         \"Recall_at_k\": \"{}\".format(np.round(re,3))}, index=[model_name])\n",
    "\n",
    "# stratified cross validation\n",
    "def cross_validation(model_name, model, x_train, y_train, k=20000 ):\n",
    "    \n",
    "    precision_at_k_list = []\n",
    "    recall_at_k_list = []\n",
    "\n",
    "    skf = ms.StratifiedKFold(n_splits=5, shuffle=True, random_state=5)\n",
    "    \n",
    "    for train_index, test_index in skf.split(x_train, y_train):\n",
    "        \n",
    "        x_train_cv = x_train.iloc[train_index]\n",
    "        y_train_cv = y_train.iloc[train_index]\n",
    "        \n",
    "        x_test_cv = x_train.iloc[test_index]\n",
    "        y_test_cv = y_train.iloc[test_index]\n",
    "        \n",
    "        # model training\n",
    "        model.fit(x_train_cv, y_train_cv)\n",
    "        \n",
    "        # prediction\n",
    "        pred = model.predict_proba(x_test_cv)\n",
    "        \n",
    "        # concat\n",
    "        data = x_test_cv.copy()\n",
    "        data['response'] = y_test_cv.copy()\n",
    "        \n",
    "        data['score'] = pred[:, 1].tolist()\n",
    "        \n",
    "        data = data.sort_values( 'score', ascending=False )\n",
    "        \n",
    "        # measuring at k metrics\n",
    "        precision_at_k_list.append( precision_at_k( data, k ) )\n",
    "        recall_at_k_list.append(recall_at_k( data, k ) )\n",
    "        \n",
    "    \n",
    "    precision_at_k_mean, precision_at_k_std = np.round( np.mean( precision_at_k_list ), 2 ), np.round( np.std( precision_at_k_list ), 2 )\n",
    "    recall_at_k_mean, recall_at_k_std = np.round( np.mean( recall_at_k_list ), 2 ), np.round( np.std( recall_at_k_list ), 2 )\n",
    "   \n",
    "    \n",
    "    return pd.DataFrame({\"Precision_at_k\": \"{} +/- {}\".format(precision_at_k_mean, precision_at_k_std),\n",
    "                         \"Recall_at_k\": \"{} +/- {}\".format(recall_at_k_mean, recall_at_k_std)}, index=[model_name])\n",
    "\n",
    "\n",
    "def conn():\n",
    "    connection = pg.connect(                                                  \n",
    "        user = os.getenv(\"DATABASE_USERNAME\"),                                      \n",
    "        password = os.getenv(\"DATABASE_PASSWORD\"),                                  \n",
    "        host = os.getenv(\"DATABASE_IP\"),                                            \n",
    "        port = os.getenv(\"DATABASE_PORT\"),                                          \n",
    "        database = os.getenv(\"DATABASE_NAME\")                                       \n",
    "    )           \n",
    "    return connection"
   ]
  },
  {
   "cell_type": "markdown",
   "id": "fd6901bd",
   "metadata": {},
   "source": [
    "## 0.2. Collect Data"
   ]
  },
  {
   "cell_type": "markdown",
   "id": "741458b0",
   "metadata": {},
   "source": [
    "### 0.2.1. CSV"
   ]
  },
  {
   "cell_type": "code",
   "execution_count": 10,
   "id": "3663e5a8",
   "metadata": {
    "ExecuteTime": {
     "end_time": "2022-06-20T22:20:21.057304Z",
     "start_time": "2022-06-20T22:20:20.755500Z"
    }
   },
   "outputs": [],
   "source": [
    "df_raw = pd.read_csv('../datasets/train.csv')"
   ]
  },
  {
   "cell_type": "markdown",
   "id": "852bcbb5",
   "metadata": {},
   "source": [
    "### 0.2.2. Psycopg2"
   ]
  },
  {
   "cell_type": "code",
   "execution_count": 11,
   "id": "275a39ec",
   "metadata": {
    "ExecuteTime": {
     "end_time": "2022-06-20T22:20:23.120594Z",
     "start_time": "2022-06-20T22:20:21.361674Z"
    }
   },
   "outputs": [
    {
     "name": "stdout",
     "output_type": "stream",
     "text": [
      "[('users',), ('vehicle',), ('insurance',)]\n"
     ]
    }
   ],
   "source": [
    "#load credentials from dot-env\n",
    "load_dotenv()\n",
    "\n",
    "\n",
    "\n",
    "\n",
    "#connect\n",
    "connection = conn()\n",
    "cursor = connection.cursor()\n",
    "\n",
    "#get table names\n",
    "query = \"\"\"\n",
    "SELECT tablename\n",
    "FROM pg_tables\n",
    "WHERE schemaname = 'pa004'\n",
    "\"\"\"\n",
    "\n",
    "#execute query\n",
    "cursor.execute(query)\n",
    "records = cursor.fetchall()\n",
    "print(records)\n",
    "\n",
    "#close\n",
    "cursor.close()\n",
    "connection.close()"
   ]
  },
  {
   "cell_type": "code",
   "execution_count": 12,
   "id": "fb9d5e71",
   "metadata": {
    "ExecuteTime": {
     "end_time": "2022-06-20T22:20:25.810904Z",
     "start_time": "2022-06-20T22:20:25.806472Z"
    }
   },
   "outputs": [],
   "source": [
    "def df_get_table(query):\n",
    "    #connect\n",
    "    connection = conn()\n",
    "    cursor = connection.cursor()\n",
    "    \n",
    "    cursor.execute(query)\n",
    "    df = psql.read_sql(query, connection)\n",
    "    return df\n"
   ]
  },
  {
   "cell_type": "code",
   "execution_count": 13,
   "id": "f4e51263",
   "metadata": {
    "ExecuteTime": {
     "end_time": "2022-06-20T22:20:40.517215Z",
     "start_time": "2022-06-20T22:20:26.898677Z"
    }
   },
   "outputs": [],
   "source": [
    "#connect\n",
    "connection = conn()\n",
    "cursor = connection.cursor()\n",
    "\n",
    "#queries\n",
    "query_users = \"\"\"\n",
    "SELECT *\n",
    "FROM pa004.users\n",
    "\"\"\"\n",
    "\n",
    "query_vehicle = \"\"\"\n",
    "SELECT *\n",
    "FROM pa004.vehicle\n",
    "\"\"\"\n",
    "\n",
    "query_insurance = \"\"\"\n",
    "SELECT *\n",
    "FROM pa004.insurance\n",
    "\"\"\"\n",
    "\n",
    "df_users = df_get_table(query_users)\n",
    "\n",
    "\n",
    "\n",
    "df_vehicle = df_get_table(query_vehicle)\n",
    "\n",
    "\n",
    "\n",
    "df_insurance = df_get_table(query_insurance)\n",
    "\n",
    "connection.close()\n",
    "cursor.close()\n",
    "\n",
    "df_raw = pd.merge(df_users, df_vehicle, on='id', how='left')\n",
    "df_raw = pd.merge(df_raw, df_insurance, on='id', how='left')\n",
    "\n",
    "\n",
    "df_raw.head()"
   ]
  },
  {
   "cell_type": "markdown",
   "id": "1aa7db3a",
   "metadata": {},
   "source": [
    "#### 0.2.3.  SQL Alchemy"
   ]
  },
  {
   "cell_type": "code",
   "execution_count": 45,
   "id": "9f92e310",
   "metadata": {
    "ExecuteTime": {
     "end_time": "2022-06-21T21:38:12.838992Z",
     "start_time": "2022-06-21T21:38:12.830099Z"
    }
   },
   "outputs": [],
   "source": [
    "#queries\n",
    "query_users = \"\"\"\n",
    "SELECT *\n",
    "FROM pa004.users\n",
    "\"\"\"\n",
    "\n",
    "query_vehicle = \"\"\"\n",
    "SELECT *\n",
    "FROM pa004.vehicle\n",
    "\"\"\"\n",
    "\n",
    "query_insurance = \"\"\"\n",
    "SELECT *\n",
    "FROM pa004.insurance\n",
    "\"\"\"\n",
    "\n",
    "#load credentials from dot-env\n",
    "load_dotenv()\n",
    "\n",
    "\n",
    "user = os.getenv(\"DATABASE_USERNAME\"),                                      \n",
    "password = os.getenv(\"DATABASE_PASSWORD\"),                                  \n",
    "host = os.getenv(\"DATABASE_IP\"),                                            \n",
    "port = os.getenv(\"DATABASE_PORT\"),                                          \n",
    "database = os.getenv(\"DATABASE_NAME\") \n",
    "\n",
    "url = f'postgresql://{user[0]}:{password[0]}@{host[0]}:{port[0]}/{database}'\n",
    "\n",
    "engine = create_engine(url=url)\n",
    "\n",
    "#connect to db\n",
    "\n",
    "with engine.connect() as connection:\n",
    "    records = connection.execute(query_users)\n",
    "    records = records.fetchall()\n",
    "\n",
    "    df_users = psql.read_sql(query_users, connection)\n",
    "    df_vehicle = psql.read_sql(query_vehicle, connection)\n",
    "    df_insurance = psql.read_sql(query_insurance, connection)"
   ]
  },
  {
   "cell_type": "markdown",
   "id": "5869b1fc",
   "metadata": {},
   "source": [
    "# 1.0. Data Description"
   ]
  },
  {
   "cell_type": "code",
   "execution_count": 21,
   "id": "75a7bcb9",
   "metadata": {
    "ExecuteTime": {
     "end_time": "2022-06-20T23:00:08.670646Z",
     "start_time": "2022-06-20T23:00:08.632695Z"
    }
   },
   "outputs": [],
   "source": [
    "df1 = df_raw.copy()"
   ]
  },
  {
   "cell_type": "markdown",
   "id": "6cb8a9e2",
   "metadata": {},
   "source": [
    "## 1.1. Data Dimension"
   ]
  },
  {
   "cell_type": "code",
   "execution_count": 22,
   "id": "9b5ccdf7",
   "metadata": {
    "ExecuteTime": {
     "end_time": "2022-06-20T23:00:08.907181Z",
     "start_time": "2022-06-20T23:00:08.903091Z"
    }
   },
   "outputs": [
    {
     "name": "stdout",
     "output_type": "stream",
     "text": [
      "Number of cols: 12\n",
      "Number of rows: 381109\n"
     ]
    }
   ],
   "source": [
    "print(f'Number of cols: {df1.shape[1]}')\n",
    "print(f'Number of rows: {df1.shape[0]}')"
   ]
  },
  {
   "cell_type": "markdown",
   "id": "b8bdb43a",
   "metadata": {},
   "source": [
    "## 1.2. Data Types"
   ]
  },
  {
   "cell_type": "code",
   "execution_count": 23,
   "id": "2ee59b5f",
   "metadata": {
    "ExecuteTime": {
     "end_time": "2022-06-20T23:00:10.044738Z",
     "start_time": "2022-06-20T23:00:10.034075Z"
    }
   },
   "outputs": [
    {
     "data": {
      "text/plain": [
       "id                        int64\n",
       "gender                   object\n",
       "age                       int64\n",
       "region_code             float64\n",
       "policy_sales_channel    float64\n",
       "driving_license           int64\n",
       "vehicle_age              object\n",
       "vehicle_damage           object\n",
       "previously_insured        int64\n",
       "annual_premium          float64\n",
       "vintage                   int64\n",
       "response                  int64\n",
       "dtype: object"
      ]
     },
     "execution_count": 23,
     "metadata": {},
     "output_type": "execute_result"
    }
   ],
   "source": [
    "df1.dtypes"
   ]
  },
  {
   "cell_type": "code",
   "execution_count": 24,
   "id": "493bd1a4",
   "metadata": {
    "ExecuteTime": {
     "end_time": "2022-06-20T23:00:10.223124Z",
     "start_time": "2022-06-20T23:00:10.129200Z"
    }
   },
   "outputs": [],
   "source": [
    "#Rename columns\n",
    "old_cols = ['id', 'Gender', 'Age', 'DrivingLicense', 'RegionCode',\n",
    "       'PreviouslyInsured', 'Vehicle_Age', 'VehicleDamage', 'AnnualPremium',\n",
    "       'PolicySalesChannel', 'Vintage', 'Response']\n",
    "snakecase = lambda x: inflection.underscore(x)\n",
    "\n",
    "new_cols = list(map(snakecase, old_cols))\n",
    "df1.columns = new_cols"
   ]
  },
  {
   "cell_type": "code",
   "execution_count": 25,
   "id": "43dcd456",
   "metadata": {
    "ExecuteTime": {
     "end_time": "2022-06-20T23:00:10.508621Z",
     "start_time": "2022-06-20T23:00:10.258231Z"
    }
   },
   "outputs": [
    {
     "data": {
      "text/plain": [
       "id                        int64\n",
       "gender                   object\n",
       "age                       int64\n",
       "driving_license         float64\n",
       "region_code               int64\n",
       "previously_insured        int64\n",
       "vehicle_age              object\n",
       "vehicle_damage            int64\n",
       "annual_premium            int64\n",
       "policy_sales_channel      int64\n",
       "vintage                   int64\n",
       "response                  int64\n",
       "dtype: object"
      ]
     },
     "execution_count": 25,
     "metadata": {},
     "output_type": "execute_result"
    }
   ],
   "source": [
    "#changing types\n",
    "\n",
    "df1['vehicle_damage'] = df1['vehicle_damage'].apply(lambda x: 1 if x == 'Yes' else 0)\n",
    "df1['policy_sales_channel'] = df1['policy_sales_channel'].astype(int)\n",
    "df1['annual_premium'] = df1['annual_premium'].astype(int)\n",
    "df1['region_code'] = df1['region_code'].astype(int)\n",
    "df1['vehicle_damage'] = df1['vehicle_damage'].astype(int)\n",
    "\n",
    "df1.dtypes"
   ]
  },
  {
   "cell_type": "markdown",
   "id": "0084ee8f",
   "metadata": {
    "ExecuteTime": {
     "end_time": "2022-03-06T18:55:50.557098Z",
     "start_time": "2022-03-06T18:55:50.427601Z"
    }
   },
   "source": [
    "## 1.3. Checking NAs\n"
   ]
  },
  {
   "cell_type": "code",
   "execution_count": 26,
   "id": "ce5ebb2f",
   "metadata": {
    "ExecuteTime": {
     "end_time": "2022-06-20T23:00:10.664520Z",
     "start_time": "2022-06-20T23:00:10.551868Z"
    }
   },
   "outputs": [
    {
     "data": {
      "text/plain": [
       "id                      0\n",
       "gender                  0\n",
       "age                     0\n",
       "driving_license         0\n",
       "region_code             0\n",
       "previously_insured      0\n",
       "vehicle_age             0\n",
       "vehicle_damage          0\n",
       "annual_premium          0\n",
       "policy_sales_channel    0\n",
       "vintage                 0\n",
       "response                0\n",
       "dtype: int64"
      ]
     },
     "execution_count": 26,
     "metadata": {},
     "output_type": "execute_result"
    }
   ],
   "source": [
    "df1.isna().sum()"
   ]
  },
  {
   "cell_type": "markdown",
   "id": "fe9fc491",
   "metadata": {},
   "source": [
    "## 1.4. Data Descriptive "
   ]
  },
  {
   "cell_type": "code",
   "execution_count": 27,
   "id": "3bba0e2b",
   "metadata": {
    "ExecuteTime": {
     "end_time": "2022-06-20T23:00:11.115053Z",
     "start_time": "2022-06-20T23:00:11.111298Z"
    }
   },
   "outputs": [],
   "source": [
    "num_attributes = df1.select_dtypes(['int64','float64'])\n",
    "cat_attributes = df1.select_dtypes(['int64','float64','datetime64[ns]'])"
   ]
  },
  {
   "cell_type": "code",
   "execution_count": 28,
   "id": "6487a5c9",
   "metadata": {
    "ExecuteTime": {
     "end_time": "2022-06-20T23:00:11.307519Z",
     "start_time": "2022-06-20T23:00:11.236640Z"
    }
   },
   "outputs": [],
   "source": [
    "# #Central Tendency - Median, Mean\n",
    "# mean = pd.DataFrame(num_attributes.apply(np.mean)).T\n",
    "# median = pd.DataFrame(num_attributes.apply(np.median)).T\n",
    "\n",
    "# #Dispersion - std, min, max, range, skew, kurtosis\n",
    "# std = pd.DataFrame(num_attributes.apply(np.std)).T\n",
    "# min_ = pd.DataFrame(num_attributes.apply(min)).T\n",
    "# max_ = pd.DataFrame(num_attributes.apply(max)).T\n",
    "# range_ = pd.DataFrame(num_attributes.apply(lambda x: x.max() - x.min())).T\n",
    "# skew = pd.DataFrame(num_attributes.apply(lambda x: x.skew())).T\n",
    "# kurtosis =  pd.DataFrame(num_attributes.apply(lambda x: x.kurtosis())).T\n",
    "                      \n",
    "# m = pd.concat([min_, max_, range_, mean, median, std, skew, kurtosis]).T.reset_index()\n",
    "# m.columns = ['attributes','min', 'max', 'range', 'mean', 'median', 'std', 'skew', 'kurtosis']\n",
    "# m"
   ]
  },
  {
   "cell_type": "markdown",
   "id": "e907e0c4",
   "metadata": {},
   "source": [
    "# 2.0. Feature Engineering "
   ]
  },
  {
   "cell_type": "code",
   "execution_count": 29,
   "id": "a0e2921a",
   "metadata": {
    "ExecuteTime": {
     "end_time": "2022-06-20T23:00:11.538071Z",
     "start_time": "2022-06-20T23:00:11.503092Z"
    }
   },
   "outputs": [],
   "source": [
    "df2 = df1.copy()"
   ]
  },
  {
   "cell_type": "code",
   "execution_count": 30,
   "id": "a8435ce1",
   "metadata": {
    "ExecuteTime": {
     "end_time": "2022-06-20T23:00:11.678548Z",
     "start_time": "2022-06-20T23:00:11.673232Z"
    }
   },
   "outputs": [
    {
     "data": {
      "text/plain": [
       "Index(['id', 'gender', 'age', 'driving_license', 'region_code',\n",
       "       'previously_insured', 'vehicle_age', 'vehicle_damage', 'annual_premium',\n",
       "       'policy_sales_channel', 'vintage', 'response'],\n",
       "      dtype='object')"
      ]
     },
     "execution_count": 30,
     "metadata": {},
     "output_type": "execute_result"
    }
   ],
   "source": [
    "df2.columns\n"
   ]
  },
  {
   "cell_type": "code",
   "execution_count": 31,
   "id": "ad2277cc",
   "metadata": {
    "ExecuteTime": {
     "end_time": "2022-06-20T23:00:11.865033Z",
     "start_time": "2022-06-20T23:00:11.792203Z"
    }
   },
   "outputs": [
    {
     "data": {
      "text/plain": [
       "array(['> 2 Years', '1-2 Year', '< 1 Year'], dtype=object)"
      ]
     },
     "execution_count": 31,
     "metadata": {},
     "output_type": "execute_result"
    }
   ],
   "source": [
    "df2['vehicle_age'].unique()"
   ]
  },
  {
   "cell_type": "code",
   "execution_count": 32,
   "id": "f6be6d05",
   "metadata": {
    "ExecuteTime": {
     "end_time": "2022-06-20T23:00:12.068153Z",
     "start_time": "2022-06-20T23:00:11.878363Z"
    }
   },
   "outputs": [
    {
     "data": {
      "text/plain": [
       "array(['more_than_2_years', 'between_1_and_2_years', 'less_than_1_year'],\n",
       "      dtype=object)"
      ]
     },
     "execution_count": 32,
     "metadata": {},
     "output_type": "execute_result"
    }
   ],
   "source": [
    "df2['vehicle_age'] = df2['vehicle_age'].apply(lambda x: 'less_than_1_year' if x =='< 1 Year' else\n",
    "                                              'more_than_2_years' if x== '> 2 Years' else\n",
    "                                             'between_1_and_2_years' )\n",
    "df2['vehicle_age'].unique()"
   ]
  },
  {
   "cell_type": "markdown",
   "id": "0890bb48",
   "metadata": {},
   "source": [
    "# 3.0. EDA"
   ]
  },
  {
   "cell_type": "markdown",
   "id": "86ab2328",
   "metadata": {},
   "source": [
    "## 3.1. Univariate Analysis\n"
   ]
  },
  {
   "cell_type": "code",
   "execution_count": 33,
   "id": "cd02f5ec",
   "metadata": {
    "ExecuteTime": {
     "end_time": "2022-06-20T23:00:13.467701Z",
     "start_time": "2022-06-20T23:00:12.303474Z"
    }
   },
   "outputs": [
    {
     "data": {
      "text/plain": [
       "<AxesSubplot:xlabel='response', ylabel='age'>"
      ]
     },
     "execution_count": 33,
     "metadata": {},
     "output_type": "execute_result"
    },
    {
     "data": {
      "image/png": "[encoded data removed]",
      "text/plain": [
       "<Figure size 432x288 with 1 Axes>"
      ]
     },
     "metadata": {
      "needs_background": "light"
     },
     "output_type": "display_data"
    }
   ],
   "source": [
    "#age\n",
    "sns.boxplot(x='response',y='age', data=df2)"
   ]
  },
  {
   "cell_type": "markdown",
   "id": "529ccdb4",
   "metadata": {},
   "source": [
    "..."
   ]
  },
  {
   "cell_type": "code",
   "execution_count": 34,
   "id": "3cb4b525",
   "metadata": {
    "ExecuteTime": {
     "end_time": "2022-06-20T23:00:14.110201Z",
     "start_time": "2022-06-20T23:00:13.474259Z"
    },
    "cell_style": "split"
   },
   "outputs": [
    {
     "data": {
      "image/png": "[encoded data removed]",
      "text/plain": [
       "<Figure size 432x288 with 1 Axes>"
      ]
     },
     "metadata": {
      "needs_background": "light"
     },
     "output_type": "display_data"
    }
   ],
   "source": [
    "#gender \n",
    "aux00 = df2.loc[df2['response']==0, 'gender']\n",
    "sns.histplot(aux00)\n",
    "plt.title('Negative Response by gender\\n');\n"
   ]
  },
  {
   "cell_type": "code",
   "execution_count": 35,
   "id": "26d6fb32",
   "metadata": {
    "ExecuteTime": {
     "end_time": "2022-06-20T23:00:14.289932Z",
     "start_time": "2022-06-20T23:00:14.111646Z"
    },
    "cell_style": "split"
   },
   "outputs": [
    {
     "data": {
      "image/png": "[encoded data removed]",
      "text/plain": [
       "<Figure size 432x288 with 1 Axes>"
      ]
     },
     "metadata": {
      "needs_background": "light"
     },
     "output_type": "display_data"
    }
   ],
   "source": [
    "aux00 = df2.loc[df2['response']==1, 'gender']\n",
    "sns.histplot(aux00)\n",
    "plt.title('Positive Response by gender\\n');"
   ]
  },
  {
   "cell_type": "code",
   "execution_count": 36,
   "id": "00a1630e",
   "metadata": {
    "ExecuteTime": {
     "end_time": "2022-06-20T23:00:14.566471Z",
     "start_time": "2022-06-20T23:00:14.291737Z"
    },
    "cell_style": "center",
    "hide_input": false,
    "scrolled": true
   },
   "outputs": [
    {
     "data": {
      "image/png": "[encoded data removed]",
      "text/plain": [
       "<Figure size 432x288 with 1 Axes>"
      ]
     },
     "metadata": {
      "needs_background": "light"
     },
     "output_type": "display_data"
    }
   ],
   "source": [
    "#histogram with distribution of positive response by age\n",
    "aux00 = df2.loc[df2['response']==1, 'age']\n",
    "sns.histplot(aux00);\n",
    "plt.title('Positive Response by age\\n');"
   ]
  },
  {
   "cell_type": "code",
   "execution_count": 37,
   "id": "3255ee14",
   "metadata": {
    "ExecuteTime": {
     "end_time": "2022-06-20T23:00:15.004704Z",
     "start_time": "2022-06-20T23:00:14.567924Z"
    },
    "cell_style": "center",
    "hide_input": false,
    "scrolled": true
   },
   "outputs": [
    {
     "data": {
      "image/png": "[encoded data removed]",
      "text/plain": [
       "<Figure size 432x288 with 1 Axes>"
      ]
     },
     "metadata": {
      "needs_background": "light"
     },
     "output_type": "display_data"
    }
   ],
   "source": [
    "#histogram with distribution of negative response by age\n",
    "aux00 = df2.loc[df2['response']==0, 'age']\n",
    "sns.histplot(aux00);\n",
    "plt.title('Negative Response by age\\n');"
   ]
  },
  {
   "cell_type": "markdown",
   "id": "39716451",
   "metadata": {
    "cell_style": "center",
    "hide_input": true
   },
   "source": [
    "Young people seems to be less interested in the product.\n",
    "\n",
    "Its interesting to analyse deeply the age about 40-50\n"
   ]
  },
  {
   "cell_type": "markdown",
   "id": "0f6e4fb5",
   "metadata": {
    "cell_style": "center",
    "hide_input": false
   },
   "source": [
    "The distribution is concentrated in the ages about 40-50, the volume of the data is reduced rather than negative response"
   ]
  },
  {
   "cell_type": "code",
   "execution_count": 38,
   "id": "4ee2af32",
   "metadata": {
    "ExecuteTime": {
     "end_time": "2022-06-20T23:00:15.012120Z",
     "start_time": "2022-06-20T23:00:15.006476Z"
    }
   },
   "outputs": [
    {
     "data": {
      "text/plain": [
       "array([0, 1])"
      ]
     },
     "execution_count": 38,
     "metadata": {},
     "output_type": "execute_result"
    }
   ],
   "source": [
    "df2['annual_premium'].unique()"
   ]
  },
  {
   "cell_type": "code",
   "execution_count": 39,
   "id": "d204ade8",
   "metadata": {
    "ExecuteTime": {
     "end_time": "2022-06-20T23:00:15.524244Z",
     "start_time": "2022-06-20T23:00:15.014050Z"
    }
   },
   "outputs": [
    {
     "data": {
      "image/png": "[encoded data removed]",
      "text/plain": [
       "<Figure size 432x288 with 1 Axes>"
      ]
     },
     "metadata": {
      "needs_background": "light"
     },
     "output_type": "display_data"
    }
   ],
   "source": [
    "#annual_premium\n",
    "aux = df2[df2['annual_premium']<100000]\n",
    "ax = sns.boxplot(y='annual_premium', x='response',data=aux);\n",
    "ax.set_title('Annual premium distribution by response\\n');\n",
    "ax.set_xticklabels(['No','Yes']);\n"
   ]
  },
  {
   "cell_type": "markdown",
   "id": "f4bc7082",
   "metadata": {},
   "source": [
    "The distribution seems to be concentrated about 40.000 in both positive and negative responses. This variable alone is not helpful to the model.\n",
    "\n",
    "There are a lot of outliers"
   ]
  },
  {
   "cell_type": "code",
   "execution_count": 40,
   "id": "eaec4f8a",
   "metadata": {
    "ExecuteTime": {
     "end_time": "2022-06-20T23:00:15.706456Z",
     "start_time": "2022-06-20T23:00:15.526473Z"
    },
    "cell_style": "split"
   },
   "outputs": [
    {
     "data": {
      "image/png": "[encoded data removed]",
      "text/plain": [
       "<Figure size 432x288 with 1 Axes>"
      ]
     },
     "metadata": {
      "needs_background": "light"
     },
     "output_type": "display_data"
    }
   ],
   "source": [
    "#histogram with distribution of negative response by annual premium\n",
    "aux = df2[(df2['annual_premium']<100000) & (df2['annual_premium']>10000)]\n",
    "aux00 = aux.loc[df2['response']==0, 'annual_premium']\n",
    "sns.histplot(aux00);\n",
    "plt.title('annual premium distribution by negative response\\n');"
   ]
  },
  {
   "cell_type": "code",
   "execution_count": 41,
   "id": "f0f8160d",
   "metadata": {
    "ExecuteTime": {
     "end_time": "2022-06-20T23:00:15.847228Z",
     "start_time": "2022-06-20T23:00:15.708433Z"
    },
    "cell_style": "split"
   },
   "outputs": [
    {
     "data": {
      "image/png": "[encoded data removed]",
      "text/plain": [
       "<Figure size 432x288 with 1 Axes>"
      ]
     },
     "metadata": {
      "needs_background": "light"
     },
     "output_type": "display_data"
    }
   ],
   "source": [
    "#histogram with distribution of positive response by annual premium\n",
    "aux00 = aux.loc[df2['response']==1, 'annual_premium']\n",
    "sns.histplot(aux00);\n",
    "plt.title('annual premium distribution by positive response\\n');"
   ]
  },
  {
   "cell_type": "markdown",
   "id": "06aaf20c",
   "metadata": {},
   "source": [
    "The distribution is almost the same, the only difference is the volume of the data. \n",
    "Conclusion: This variable is not helpful alone."
   ]
  },
  {
   "cell_type": "code",
   "execution_count": 42,
   "id": "57543a11",
   "metadata": {
    "ExecuteTime": {
     "end_time": "2022-06-20T23:00:16.171346Z",
     "start_time": "2022-06-20T23:00:15.849055Z"
    },
    "cell_style": "center"
   },
   "outputs": [
    {
     "data": {
      "image/png": "[encoded data removed]",
      "text/plain": [
       "<Figure size 432x288 with 1 Axes>"
      ]
     },
     "metadata": {
      "needs_background": "light"
     },
     "output_type": "display_data"
    }
   ],
   "source": [
    "#drive license\n",
    "aux = df2[['driving_license','response']].groupby('response').sum().reset_index()\n",
    "\n",
    "ax = sns.barplot(x='response', y='driving_license', data=aux);\n",
    "ax.set_title('response by driving license ');\n",
    "ax.set_xticklabels(['No','Yes']);"
   ]
  },
  {
   "cell_type": "code",
   "execution_count": 43,
   "id": "b216bd56",
   "metadata": {
    "ExecuteTime": {
     "end_time": "2022-06-20T23:00:16.186627Z",
     "start_time": "2022-06-20T23:00:16.174925Z"
    },
    "cell_style": "center",
    "hide_input": true
   },
   "outputs": [
    {
     "data": {
      "text/html": [
       "<div>\n",
       "<style scoped>\n",
       "    .dataframe tbody tr th:only-of-type {\n",
       "        vertical-align: middle;\n",
       "    }\n",
       "\n",
       "    .dataframe tbody tr th {\n",
       "        vertical-align: top;\n",
       "    }\n",
       "\n",
       "    .dataframe thead th {\n",
       "        text-align: right;\n",
       "    }\n",
       "</style>\n",
       "<table border=\"1\" class=\"dataframe\">\n",
       "  <thead>\n",
       "    <tr style=\"text-align: right;\">\n",
       "      <th></th>\n",
       "      <th>response</th>\n",
       "      <th>driving_license</th>\n",
       "      <th>driving_license_perc</th>\n",
       "    </tr>\n",
       "  </thead>\n",
       "  <tbody>\n",
       "    <tr>\n",
       "      <th>0</th>\n",
       "      <td>0</td>\n",
       "      <td>8806914.0</td>\n",
       "      <td>0.875699</td>\n",
       "    </tr>\n",
       "    <tr>\n",
       "      <th>1</th>\n",
       "      <td>1</td>\n",
       "      <td>1250098.0</td>\n",
       "      <td>0.124301</td>\n",
       "    </tr>\n",
       "  </tbody>\n",
       "</table>\n",
       "</div>"
      ],
      "text/plain": [
       "   response  driving_license  driving_license_perc\n",
       "0         0        8806914.0              0.875699\n",
       "1         1        1250098.0              0.124301"
      ]
     },
     "execution_count": 43,
     "metadata": {},
     "output_type": "execute_result"
    }
   ],
   "source": [
    "aux['driving_license_perc'] = aux['driving_license'] / aux['driving_license'].sum()\n",
    "aux"
   ]
  },
  {
   "cell_type": "markdown",
   "id": "9a6398f7",
   "metadata": {},
   "source": [
    "This analysis is not helpful alone. It would work with other variables."
   ]
  },
  {
   "cell_type": "code",
   "execution_count": 44,
   "id": "60365742",
   "metadata": {
    "ExecuteTime": {
     "end_time": "2022-06-20T23:00:16.624942Z",
     "start_time": "2022-06-20T23:00:16.189135Z"
    }
   },
   "outputs": [
    {
     "data": {
      "image/png": "[encoded data removed]",
      "text/plain": [
       "<Figure size 648x432 with 1 Axes>"
      ]
     },
     "metadata": {
      "needs_background": "light"
     },
     "output_type": "display_data"
    }
   ],
   "source": [
    "#region code\n",
    "\n",
    "#region_code ; response; count\n",
    "aux = df2[['region_code', 'id', 'response']].groupby(['region_code','response']).count().reset_index()\n",
    "plt.figure(figsize=(9,6))\n",
    "sns.scatterplot(x='region_code', y='id', hue='response', data=aux);\n",
    "\n"
   ]
  },
  {
   "cell_type": "markdown",
   "id": "41918656",
   "metadata": {},
   "source": [
    "The most part of the distribution is similar, but it would be interested to check regions with much more one than other response"
   ]
  },
  {
   "cell_type": "code",
   "execution_count": 45,
   "id": "8a1c02fb",
   "metadata": {
    "ExecuteTime": {
     "end_time": "2022-06-20T23:00:18.038124Z",
     "start_time": "2022-06-20T23:00:16.626581Z"
    }
   },
   "outputs": [
    {
     "data": {
      "image/png": "[encoded data removed]",
      "text/plain": [
       "<Figure size 864x360 with 1 Axes>"
      ]
     },
     "metadata": {
      "needs_background": "light"
     },
     "output_type": "display_data"
    }
   ],
   "source": [
    "aux = df2[['region_code', 'response']].groupby('region_code').sum().reset_index()\n",
    "plt.figure(figsize=(12,5))\n",
    "sns.barplot(x='region_code',y='response',data=aux)\n",
    "plt.xticks(rotation=90);"
   ]
  },
  {
   "cell_type": "markdown",
   "id": "b15e6a2d",
   "metadata": {},
   "source": [
    "Investigate region code with high number of positive response"
   ]
  },
  {
   "cell_type": "code",
   "execution_count": 46,
   "id": "37f6ab8f",
   "metadata": {
    "ExecuteTime": {
     "end_time": "2022-06-20T23:00:18.063346Z",
     "start_time": "2022-06-20T23:00:18.040035Z"
    }
   },
   "outputs": [
    {
     "data": {
      "text/html": [
       "<div>\n",
       "<style scoped>\n",
       "    .dataframe tbody tr th:only-of-type {\n",
       "        vertical-align: middle;\n",
       "    }\n",
       "\n",
       "    .dataframe tbody tr th {\n",
       "        vertical-align: top;\n",
       "    }\n",
       "\n",
       "    .dataframe thead th {\n",
       "        text-align: right;\n",
       "    }\n",
       "</style>\n",
       "<table border=\"1\" class=\"dataframe\">\n",
       "  <thead>\n",
       "    <tr style=\"text-align: right;\">\n",
       "      <th></th>\n",
       "      <th>region_code</th>\n",
       "      <th>response</th>\n",
       "      <th>total_responses</th>\n",
       "      <th>perc</th>\n",
       "    </tr>\n",
       "  </thead>\n",
       "  <tbody>\n",
       "    <tr>\n",
       "      <th>2</th>\n",
       "      <td>28</td>\n",
       "      <td>1</td>\n",
       "      <td>3</td>\n",
       "      <td>0.333333</td>\n",
       "    </tr>\n",
       "    <tr>\n",
       "      <th>0</th>\n",
       "      <td>3</td>\n",
       "      <td>159</td>\n",
       "      <td>523</td>\n",
       "      <td>0.304015</td>\n",
       "    </tr>\n",
       "    <tr>\n",
       "      <th>3</th>\n",
       "      <td>29</td>\n",
       "      <td>106</td>\n",
       "      <td>843</td>\n",
       "      <td>0.125741</td>\n",
       "    </tr>\n",
       "    <tr>\n",
       "      <th>4</th>\n",
       "      <td>30</td>\n",
       "      <td>156</td>\n",
       "      <td>1410</td>\n",
       "      <td>0.110638</td>\n",
       "    </tr>\n",
       "    <tr>\n",
       "      <th>1</th>\n",
       "      <td>8</td>\n",
       "      <td>125</td>\n",
       "      <td>1515</td>\n",
       "      <td>0.082508</td>\n",
       "    </tr>\n",
       "    <tr>\n",
       "      <th>5</th>\n",
       "      <td>41</td>\n",
       "      <td>0</td>\n",
       "      <td>1</td>\n",
       "      <td>0.000000</td>\n",
       "    </tr>\n",
       "    <tr>\n",
       "      <th>6</th>\n",
       "      <td>46</td>\n",
       "      <td>0</td>\n",
       "      <td>16</td>\n",
       "      <td>0.000000</td>\n",
       "    </tr>\n",
       "  </tbody>\n",
       "</table>\n",
       "</div>"
      ],
      "text/plain": [
       "   region_code  response  total_responses      perc\n",
       "2           28         1                3  0.333333\n",
       "0            3       159              523  0.304015\n",
       "3           29       106              843  0.125741\n",
       "4           30       156             1410  0.110638\n",
       "1            8       125             1515  0.082508\n",
       "5           41         0                1  0.000000\n",
       "6           46         0               16  0.000000"
      ]
     },
     "execution_count": 46,
     "metadata": {},
     "output_type": "execute_result"
    }
   ],
   "source": [
    "aux1 = df2.loc[df2['region_code'].isin([3,8,28,29,30,41,46])][['response','region_code']]\n",
    "#sum of positive response\n",
    "aux2 = aux1[['response','region_code']].groupby('region_code').sum().reset_index()\n",
    "\n",
    "#count all responses\n",
    "aux3 = aux1[['response','region_code']].groupby('region_code').count().reset_index()\n",
    "\n",
    "#percentage of positive responses\n",
    "aux4 = aux2\n",
    "aux4['total_responses'] = aux3['response']\n",
    "aux4['perc'] = aux2['response']/aux3['response']\n",
    "aux4.sort_values('perc', ascending=False)\n"
   ]
  },
  {
   "cell_type": "markdown",
   "id": "6cb95a53",
   "metadata": {},
   "source": []
  },
  {
   "cell_type": "code",
   "execution_count": 47,
   "id": "c546fbae",
   "metadata": {
    "ExecuteTime": {
     "end_time": "2022-06-20T23:00:18.212317Z",
     "start_time": "2022-06-20T23:00:18.065577Z"
    }
   },
   "outputs": [],
   "source": [
    "#previously insurance\n",
    "aux = df2[['previously_insured','response']].groupby('previously_insured').sum().reset_index()\n",
    "positive_response = len(df2[df2['response']==1])\n",
    "aux['perc'] = aux['response']/positive_response\n"
   ]
  },
  {
   "cell_type": "markdown",
   "id": "76fc13c4",
   "metadata": {},
   "source": [
    "People who already have insurance don't seem to be interested in another.\n"
   ]
  },
  {
   "cell_type": "code",
   "execution_count": 48,
   "id": "1fd93627",
   "metadata": {
    "ExecuteTime": {
     "end_time": "2022-06-20T23:00:18.449328Z",
     "start_time": "2022-06-20T23:00:18.217443Z"
    }
   },
   "outputs": [
    {
     "data": {
      "image/png": "[encoded data removed]",
      "text/plain": [
       "<Figure size 432x288 with 1 Axes>"
      ]
     },
     "metadata": {
      "needs_background": "light"
     },
     "output_type": "display_data"
    }
   ],
   "source": [
    "#vehicle age\n",
    "df2[['vehicle_age', 'response']].head()\n",
    "aux = df2[['vehicle_age', 'response']].groupby('vehicle_age').sum().reset_index()\n",
    "ax =sns.barplot(x='vehicle_age', y='response', data=aux);\n",
    "ax.set_title('Response by vehicle age\\n');\n",
    "ax.set_xticklabels(['1-2 Years', '-1 Year', '+2 Years']);"
   ]
  },
  {
   "cell_type": "markdown",
   "id": "65b47c56",
   "metadata": {
    "ExecuteTime": {
     "end_time": "2022-03-10T17:17:15.880332Z",
     "start_time": "2022-03-10T17:17:15.753533Z"
    }
   },
   "source": [
    "The difference in this variable, but it would be nice to investigate correlation with other features."
   ]
  },
  {
   "cell_type": "code",
   "execution_count": 49,
   "id": "0488a49c",
   "metadata": {
    "ExecuteTime": {
     "end_time": "2022-06-20T23:00:18.523262Z",
     "start_time": "2022-06-20T23:00:18.451479Z"
    }
   },
   "outputs": [
    {
     "data": {
      "text/html": [
       "<div>\n",
       "<style scoped>\n",
       "    .dataframe tbody tr th:only-of-type {\n",
       "        vertical-align: middle;\n",
       "    }\n",
       "\n",
       "    .dataframe tbody tr th {\n",
       "        vertical-align: top;\n",
       "    }\n",
       "\n",
       "    .dataframe thead th {\n",
       "        text-align: right;\n",
       "    }\n",
       "</style>\n",
       "<table border=\"1\" class=\"dataframe\">\n",
       "  <thead>\n",
       "    <tr style=\"text-align: right;\">\n",
       "      <th></th>\n",
       "      <th>vehicle_age</th>\n",
       "      <th>response</th>\n",
       "      <th>0</th>\n",
       "    </tr>\n",
       "  </thead>\n",
       "  <tbody>\n",
       "    <tr>\n",
       "      <th>0</th>\n",
       "      <td>between_1_and_2_years</td>\n",
       "      <td>0</td>\n",
       "      <td>0.434285</td>\n",
       "    </tr>\n",
       "    <tr>\n",
       "      <th>2</th>\n",
       "      <td>between_1_and_2_years</td>\n",
       "      <td>1</td>\n",
       "      <td>0.091328</td>\n",
       "    </tr>\n",
       "    <tr>\n",
       "      <th>1</th>\n",
       "      <td>less_than_1_year</td>\n",
       "      <td>0</td>\n",
       "      <td>0.413488</td>\n",
       "    </tr>\n",
       "    <tr>\n",
       "      <th>4</th>\n",
       "      <td>less_than_1_year</td>\n",
       "      <td>1</td>\n",
       "      <td>0.018897</td>\n",
       "    </tr>\n",
       "    <tr>\n",
       "      <th>3</th>\n",
       "      <td>more_than_2_years</td>\n",
       "      <td>0</td>\n",
       "      <td>0.029663</td>\n",
       "    </tr>\n",
       "    <tr>\n",
       "      <th>5</th>\n",
       "      <td>more_than_2_years</td>\n",
       "      <td>1</td>\n",
       "      <td>0.012338</td>\n",
       "    </tr>\n",
       "  </tbody>\n",
       "</table>\n",
       "</div>"
      ],
      "text/plain": [
       "             vehicle_age  response         0\n",
       "0  between_1_and_2_years         0  0.434285\n",
       "2  between_1_and_2_years         1  0.091328\n",
       "1       less_than_1_year         0  0.413488\n",
       "4       less_than_1_year         1  0.018897\n",
       "3      more_than_2_years         0  0.029663\n",
       "5      more_than_2_years         1  0.012338"
      ]
     },
     "execution_count": 49,
     "metadata": {},
     "output_type": "execute_result"
    }
   ],
   "source": [
    "aux = df2[['vehicle_age','response']].value_counts(normalize=True).reset_index()\n",
    "aux.sort_values('vehicle_age')"
   ]
  },
  {
   "cell_type": "markdown",
   "id": "4c768174",
   "metadata": {
    "ExecuteTime": {
     "end_time": "2022-03-10T19:27:22.898927Z",
     "start_time": "2022-03-10T19:27:22.892124Z"
    }
   },
   "source": [
    "Cars with vehicle age of more than 2 years is bad for the model because there is no big difference between them."
   ]
  },
  {
   "cell_type": "code",
   "execution_count": 50,
   "id": "30c1a390",
   "metadata": {
    "ExecuteTime": {
     "end_time": "2022-06-20T23:00:19.574820Z",
     "start_time": "2022-06-20T23:00:18.525198Z"
    }
   },
   "outputs": [
    {
     "data": {
      "image/png": "[encoded data removed]",
      "text/plain": [
       "<Figure size 1728x864 with 1 Axes>"
      ]
     },
     "metadata": {
      "needs_background": "light"
     },
     "output_type": "display_data"
    }
   ],
   "source": [
    "\n",
    "aux = df2[['policy_sales_channel','response']].groupby('policy_sales_channel').sum().reset_index()\n",
    "plt.figure(figsize=(24,12));\n",
    "sns.barplot(x='response', y='policy_sales_channel', data =aux);"
   ]
  },
  {
   "cell_type": "code",
   "execution_count": 51,
   "id": "e0d9945c",
   "metadata": {
    "ExecuteTime": {
     "end_time": "2022-06-20T23:00:19.912468Z",
     "start_time": "2022-06-20T23:00:19.576317Z"
    }
   },
   "outputs": [
    {
     "data": {
      "text/plain": [
       "<AxesSubplot:xlabel='response', ylabel='vintage'>"
      ]
     },
     "execution_count": 51,
     "metadata": {},
     "output_type": "execute_result"
    },
    {
     "data": {
      "image/png": "[encoded data removed]",
      "text/plain": [
       "<Figure size 432x288 with 1 Axes>"
      ]
     },
     "metadata": {
      "needs_background": "light"
     },
     "output_type": "display_data"
    }
   ],
   "source": [
    "#vintage\n",
    "\n",
    "sns.boxplot(x='response', y='vintage', data=df2)"
   ]
  },
  {
   "cell_type": "code",
   "execution_count": 52,
   "id": "fbaf9726",
   "metadata": {
    "ExecuteTime": {
     "end_time": "2022-06-20T23:00:20.259207Z",
     "start_time": "2022-06-20T23:00:19.914445Z"
    },
    "cell_style": "split"
   },
   "outputs": [
    {
     "data": {
      "image/png": "[encoded data removed]",
      "text/plain": [
       "<Figure size 432x288 with 1 Axes>"
      ]
     },
     "metadata": {
      "needs_background": "light"
     },
     "output_type": "display_data"
    }
   ],
   "source": [
    "aux00 = df2.loc[df2['response']==0,'vintage']\n",
    "sns.histplot(aux00);"
   ]
  },
  {
   "cell_type": "code",
   "execution_count": 53,
   "id": "75b7f9e4",
   "metadata": {
    "ExecuteTime": {
     "end_time": "2022-06-20T23:00:20.491380Z",
     "start_time": "2022-06-20T23:00:20.261713Z"
    },
    "cell_style": "split"
   },
   "outputs": [
    {
     "data": {
      "image/png": "[encoded data removed]",
      "text/plain": [
       "<Figure size 432x288 with 1 Axes>"
      ]
     },
     "metadata": {
      "needs_background": "light"
     },
     "output_type": "display_data"
    }
   ],
   "source": [
    "aux00 = df2.loc[df2['response']==1,'vintage']\n",
    "sns.histplot(aux00);"
   ]
  },
  {
   "cell_type": "markdown",
   "id": "d96b5969",
   "metadata": {},
   "source": [
    "This feature seems to be unimportant"
   ]
  },
  {
   "cell_type": "markdown",
   "id": "ce21c157",
   "metadata": {},
   "source": [
    "## 3.2. Multivariable Analisys\n"
   ]
  },
  {
   "cell_type": "code",
   "execution_count": 54,
   "id": "fa5c6fc1",
   "metadata": {
    "ExecuteTime": {
     "end_time": "2022-06-20T23:00:21.171245Z",
     "start_time": "2022-06-20T23:00:20.492924Z"
    }
   },
   "outputs": [
    {
     "data": {
      "image/png": "[encoded data removed]",
      "text/plain": [
       "<Figure size 1080x1080 with 2 Axes>"
      ]
     },
     "metadata": {
      "needs_background": "light"
     },
     "output_type": "display_data"
    }
   ],
   "source": [
    "correlation = num_attributes.corr( method='pearson' )\n",
    "plt.figure(figsize=(15,15))\n",
    "sns.heatmap(correlation, annot=True);"
   ]
  },
  {
   "cell_type": "markdown",
   "id": "a157222e",
   "metadata": {},
   "source": [
    "# 4.0. Data Preparation"
   ]
  },
  {
   "cell_type": "code",
   "execution_count": 55,
   "id": "d7f60fbc",
   "metadata": {
    "ExecuteTime": {
     "end_time": "2022-06-20T23:00:21.385659Z",
     "start_time": "2022-06-20T23:00:21.174000Z"
    }
   },
   "outputs": [],
   "source": [
    "df3 = df2.copy()\n",
    "\n",
    "X = df3.drop('response', axis=1)\n",
    "y = df3['response'].copy()\n",
    "\n",
    "x_train, x_validation, y_train, y_validation = ms.train_test_split(X, y, test_size=0.2)\n",
    "\n",
    "df3 = pd.concat([x_train, y_train], axis=1)\n",
    "\n",
    "annual_premium_scaler = pickle.load(open('../webapp/features/annual_premium_scaler.pkl', 'rb'))\n",
    "age_scaler =  pickle.load(open('../webapp/features/age_scaler.pkl', 'rb'))\n",
    "vintage_scaler = pickle.load(open('../webapp/features/vintage_scaler.pkl', 'rb'))\n",
    "region_code_encode = pickle.load(open('../webapp/features/region_code_encode.pkl', 'rb'))\n",
    "policy_sales_channel_encode = pickle.load( open('../webapp/features/policy_sales_channel_encode.pkl', 'rb'))\n",
    "gender_encode = pickle.load(open('../webapp/features/gender_encode.pkl', 'rb'))"
   ]
  },
  {
   "cell_type": "markdown",
   "id": "41b2ca16",
   "metadata": {},
   "source": [
    "## Standardization"
   ]
  },
  {
   "cell_type": "code",
   "execution_count": 56,
   "id": "889d913e",
   "metadata": {
    "ExecuteTime": {
     "end_time": "2022-06-20T23:00:21.415163Z",
     "start_time": "2022-06-20T23:00:21.387996Z"
    }
   },
   "outputs": [],
   "source": [
    "\n",
    "\n",
    "#annual premium\n",
    "df3['annual_premium'] = annual_premium_scaler.transform(df3[['annual_premium']].values)\n"
   ]
  },
  {
   "cell_type": "markdown",
   "id": "0f50036b",
   "metadata": {},
   "source": [
    "## Rescaling"
   ]
  },
  {
   "cell_type": "code",
   "execution_count": 57,
   "id": "ff4b87a9",
   "metadata": {
    "ExecuteTime": {
     "end_time": "2022-06-20T23:00:21.530735Z",
     "start_time": "2022-06-20T23:00:21.417440Z"
    }
   },
   "outputs": [],
   "source": [
    "#age\n",
    "df3['age'] = age_scaler.transform(df3[['age']].values)\n",
    "\n",
    "#vintage\n",
    "df3['vintage'] = vintage_scaler.transform(df3[['vintage']].values)\n"
   ]
  },
  {
   "cell_type": "markdown",
   "id": "9805f7b3",
   "metadata": {},
   "source": [
    "## Encoder"
   ]
  },
  {
   "cell_type": "code",
   "execution_count": 58,
   "id": "21871c50",
   "metadata": {
    "ExecuteTime": {
     "end_time": "2022-06-20T23:00:21.691778Z",
     "start_time": "2022-06-20T23:00:21.534183Z"
    }
   },
   "outputs": [],
   "source": [
    "#vehicle age -- One Hot Encoding / Order Target Encoding / Frequency Encoding\n",
    "# df3 = pd.get_dummies(df3, prefix='vehicle_age', columns=['vehicle_age'])\n",
    "\n",
    "\n",
    "\n",
    "#region code -- Target Encoding / Weighted Target Encoding / Frequency Encoding\n",
    "df3.loc[:,'region_code'] = df3['region_code'].map(region_code_encode)\n",
    "# pickle.dump(target_encode_region_code, open(r'features/region_code_encode.pkl', 'wb'))\n",
    "\n",
    "#policy_sales_channel -- Target Encoding / Frequency Encoding\n",
    "df3.loc[:,'policy_sales_channel'] = df3['policy_sales_channel'].map(policy_sales_channel_encode)\n",
    "# pickle.dump(fe_policy_sales_channel, open(r'features/policy_sales_channel_encode.pkl', 'wb'))\n",
    "\n",
    "\n",
    "#gender -- Target Encoding\n",
    "df3.loc[:,'gender'] = df3['gender'].map(gender_encode)\n",
    "# pickle.dump(target_encode_gender, open(r'features/gender_encode.pkl', 'wb'))"
   ]
  },
  {
   "cell_type": "markdown",
   "id": "25c224c4",
   "metadata": {
    "ExecuteTime": {
     "end_time": "2022-03-10T22:40:11.093555Z",
     "start_time": "2022-03-10T22:40:11.078922Z"
    }
   },
   "source": [
    "## 4.4. Validation Preparation"
   ]
  },
  {
   "cell_type": "code",
   "execution_count": 59,
   "id": "3e257035",
   "metadata": {
    "ExecuteTime": {
     "end_time": "2022-06-20T23:00:21.752347Z",
     "start_time": "2022-06-20T23:00:21.693997Z"
    }
   },
   "outputs": [],
   "source": [
    "#vehicle age \n",
    "# x_validation = pd.get_dummies(x_validation, prefix='vehicle_age', columns=['vehicle_age'])\n",
    "\n",
    "#region code \n",
    "x_validation.loc[:,'region_code'] = x_validation.loc[:,'region_code'].map(region_code_encode)\n",
    "\n",
    "#policy_sales_channel \n",
    "x_validation.loc[:,'policy_sales_channel'] = x_validation.loc[:,'policy_sales_channel'].map(policy_sales_channel_encode)\n",
    "\n",
    "#gender \n",
    "x_validation.loc[:,'gender'] = x_validation.loc[:,'gender'].map(gender_encode)\n",
    "\n",
    "#age\n",
    "x_validation['age'] = age_scaler.transform(x_validation[['age']].values)\n",
    "\n",
    "#vintage\n",
    "x_validation['vintage'] = vintage_scaler.transform(x_validation[['vintage']].values)\n",
    "\n",
    "#annual premium\n",
    "x_validation['annual_premium'] = annual_premium_scaler.transform(x_validation[['annual_premium']].values)\n",
    "\n",
    "# fillna\n",
    "x_validation = x_validation.fillna( 0 )\n",
    "\n",
    "\n"
   ]
  },
  {
   "cell_type": "code",
   "execution_count": 60,
   "id": "b7b08b3d",
   "metadata": {
    "ExecuteTime": {
     "end_time": "2022-06-20T23:00:22.036682Z",
     "start_time": "2022-06-20T23:00:21.754078Z"
    }
   },
   "outputs": [],
   "source": [
    "#vehicle age \n",
    "x_train = pd.get_dummies(x_train, prefix='vehicle_age', columns=['vehicle_age'])\n",
    "\n",
    "#region code \n",
    "x_train.loc[:,'region_code'] = x_train.loc[:,'region_code'].map(region_code_encode)\n",
    "\n",
    "#policy_sales_channel \n",
    "x_train.loc[:,'policy_sales_channel'] = x_train.loc[:,'policy_sales_channel'].map(policy_sales_channel_encode)\n",
    "\n",
    "#gender \n",
    "x_train.loc[:,'gender'] = x_train.loc[:,'gender'].map(gender_encode)\n",
    "\n",
    "#age\n",
    "x_train['age'] = age_scaler.transform(x_train[['age']].values)\n",
    "\n",
    "#vintage\n",
    "x_train['vintage'] = vintage_scaler.transform(x_train[['vintage']].values)\n",
    "\n",
    "#annual premium\n",
    "x_train['annual_premium'] = annual_premium_scaler.transform(x_train[['annual_premium']].values)\n",
    "\n",
    "# fillna\n",
    "x_train = x_train.fillna( 0 )"
   ]
  },
  {
   "cell_type": "markdown",
   "id": "d33be0d9",
   "metadata": {
    "ExecuteTime": {
     "end_time": "2022-03-12T18:42:28.261745Z",
     "start_time": "2022-03-12T18:42:28.248318Z"
    }
   },
   "source": [
    "# 5.0. Feature Selection"
   ]
  },
  {
   "cell_type": "code",
   "execution_count": 61,
   "id": "06816fae",
   "metadata": {
    "ExecuteTime": {
     "end_time": "2022-06-20T23:00:22.112317Z",
     "start_time": "2022-06-20T23:00:22.038591Z"
    }
   },
   "outputs": [],
   "source": [
    "df4 = df3.copy()\n",
    "x_train_n = x_train.values\n",
    "y_train_n = y_train.values\n"
   ]
  },
  {
   "cell_type": "markdown",
   "id": "53ef831f",
   "metadata": {
    "ExecuteTime": {
     "end_time": "2022-03-12T18:55:27.915548Z",
     "start_time": "2022-03-12T18:55:27.907520Z"
    }
   },
   "source": [
    "## 5.2. Boruta as Feature Selector"
   ]
  },
  {
   "cell_type": "code",
   "execution_count": 62,
   "id": "c5cffb19",
   "metadata": {
    "ExecuteTime": {
     "end_time": "2022-06-20T23:00:22.145247Z",
     "start_time": "2022-06-20T23:00:22.113929Z"
    }
   },
   "outputs": [],
   "source": [
    "# #define Random Forest Regressor\n",
    "# rf = RandomForestRegressor(n_jobs=-1)\n",
    "\n",
    "# #define boruta\n",
    "# boruta = BorutaPy( rf, n_estimators='auto', verbose=2, random_state=42 ).fit(x_train_n, y_train_n )"
   ]
  },
  {
   "cell_type": "markdown",
   "id": "51a76b70",
   "metadata": {
    "ExecuteTime": {
     "end_time": "2022-03-12T19:15:19.789023Z",
     "start_time": "2022-03-12T19:15:19.767731Z"
    }
   },
   "source": [
    "## 5.3. Feature Importancia"
   ]
  },
  {
   "cell_type": "code",
   "execution_count": 63,
   "id": "c15c9b7b",
   "metadata": {
    "ExecuteTime": {
     "end_time": "2022-06-20T23:00:22.244095Z",
     "start_time": "2022-06-20T23:00:22.147626Z"
    }
   },
   "outputs": [],
   "source": [
    "# #model definition\n",
    "# forest = en.ExtraTreesClassifier(n_estimators=250, random_state=3, n_jobs=-1)\n",
    "\n",
    "\n",
    "# #data preparation\n",
    "# x_train_n = x_train.drop(['id'],axis=1)\n",
    "# y_train_n = y_train.values\n",
    "# forest.fit(x_train_n, y_train_n)"
   ]
  },
  {
   "cell_type": "code",
   "execution_count": 64,
   "id": "f8698f7e",
   "metadata": {
    "ExecuteTime": {
     "end_time": "2022-06-20T23:00:22.393479Z",
     "start_time": "2022-06-20T23:00:22.245781Z"
    }
   },
   "outputs": [],
   "source": [
    "# importances = forest.feature_importances_\n",
    "# std = np.std([tree.feature_importances_ for tree in forest.estimators_], axis=0)\n",
    "# indices = np.argsort(importances)[::-1]\n",
    "\n",
    "# #print the feature ranking\n",
    "# print('Feature ranking:')\n",
    "# df = pd.DataFrame()\n",
    "# for i, j in zip(x_train_n, forest.feature_importances_):\n",
    "#     aux = pd.DataFrame({'feature':i, 'importance': j},index=[0])\n",
    "#     df = pd.concat([df,aux],axis=0)\n",
    "    \n",
    "# print(df.sort_values('importance', ascending=False))\n",
    "\n",
    "# #Plot the impurity-based feature importances of the forest\n",
    "# plt.figure()\n",
    "# plt.title('Feature Importances')\n",
    "# plt.bar(range(x_train_n.shape[1]),importances[indices], color='r', yerr=std[indices], align='center')\n",
    "# plt.xticks(range(x_train_n.shape[1]),indices)\n",
    "# plt.xlim([-1, x_train_n.shape[1]])\n",
    "# plt.show();\n"
   ]
  },
  {
   "cell_type": "markdown",
   "id": "34932035",
   "metadata": {},
   "source": [
    "# 6.0. Machine Learning"
   ]
  },
  {
   "cell_type": "code",
   "execution_count": 65,
   "id": "4d09b9a4",
   "metadata": {
    "ExecuteTime": {
     "end_time": "2022-06-20T23:00:37.996958Z",
     "start_time": "2022-06-20T23:00:22.423914Z"
    }
   },
   "outputs": [],
   "source": [
    "#features selected\n",
    "\n",
    "cols_selected = ['vintage','annual_premium','age','region_code','vehicle_damage','policy_sales_channel','previously_insured']\n",
    "\n",
    "x_train = df3[cols_selected]\n",
    "x_val = x_validation[cols_selected]\n",
    "y_val = y_validation.copy()\n",
    "\n",
    "x_train = x_train.fillna( 0 )\n",
    "x_train.isnull().sum()\n",
    "\n",
    "knn_model = pickle.load(open('../webapp/model/knn_model.pkl', 'rb'))\n",
    "lr_model = pickle.load(open('../webapp/model/lr_model.pkl', 'rb'))\n",
    "xgb_model = pickle.load(open('../webapp/model/xgb_model.pkl', 'rb'))\n",
    "rf_model = pickle.load(open('../webapp/model/rf_model.pkl', 'rb'))\n"
   ]
  },
  {
   "cell_type": "markdown",
   "id": "ca611d15",
   "metadata": {
    "ExecuteTime": {
     "start_time": "2022-03-12T20:14:12.192Z"
    }
   },
   "source": [
    "## 6.1. KNN"
   ]
  },
  {
   "cell_type": "code",
   "execution_count": 66,
   "id": "542eba45",
   "metadata": {
    "ExecuteTime": {
     "end_time": "2022-06-20T23:01:56.719214Z",
     "start_time": "2022-06-20T23:01:49.764448Z"
    }
   },
   "outputs": [],
   "source": [
    "#model definition\n",
    "# knn_model = nh.KNeighborsClassifier(n_neighbors=9)\n",
    "\n",
    "#model training\n",
    "knn_model.fit(x_train,y_train)\n",
    "\n",
    "#model prediction - Poder de generalização\n",
    "yhat_knn = knn_model.predict_proba(x_val)\n",
    "\n",
    "# pickle.dump(knn_model, open('../webapp/model/knn_model.pkl', 'wb'))\n"
   ]
  },
  {
   "cell_type": "code",
   "execution_count": 67,
   "id": "b59fbee3",
   "metadata": {
    "ExecuteTime": {
     "end_time": "2022-06-20T23:01:56.876600Z",
     "start_time": "2022-06-20T23:01:56.721368Z"
    },
    "cell_style": "split",
    "hide_input": true
   },
   "outputs": [
    {
     "data": {
      "image/png": "[encoded data removed]",
      "text/plain": [
       "<Figure size 432x288 with 1 Axes>"
      ]
     },
     "metadata": {
      "needs_background": "light"
     },
     "output_type": "display_data"
    }
   ],
   "source": [
    "#Accumulative gain\n",
    "skplt.metrics.plot_cumulative_gain(y_val,yhat_knn);"
   ]
  },
  {
   "cell_type": "code",
   "execution_count": 68,
   "id": "4111cb5f",
   "metadata": {
    "ExecuteTime": {
     "end_time": "2022-06-20T23:01:57.042409Z",
     "start_time": "2022-06-20T23:01:56.878437Z"
    },
    "cell_style": "split",
    "hide_input": true
   },
   "outputs": [
    {
     "data": {
      "image/png": "[encoded data removed]",
      "text/plain": [
       "<Figure size 432x288 with 1 Axes>"
      ]
     },
     "metadata": {
      "needs_background": "light"
     },
     "output_type": "display_data"
    }
   ],
   "source": [
    "#Lift curve\n",
    "skplt.metrics.plot_lift_curve(y_val,yhat_knn);"
   ]
  },
  {
   "cell_type": "code",
   "execution_count": 69,
   "id": "41fd214f",
   "metadata": {
    "ExecuteTime": {
     "end_time": "2022-06-20T23:01:57.220650Z",
     "start_time": "2022-06-20T23:01:57.045923Z"
    },
    "cell_style": "split"
   },
   "outputs": [
    {
     "data": {
      "image/png": "[encoded data removed]",
      "text/plain": [
       "<Figure size 432x288 with 1 Axes>"
      ]
     },
     "metadata": {
      "needs_background": "light"
     },
     "output_type": "display_data"
    }
   ],
   "source": [
    "skplt.metrics.plot_lift_curve( y_val, yhat_knn );"
   ]
  },
  {
   "cell_type": "code",
   "execution_count": 70,
   "id": "25023068",
   "metadata": {
    "ExecuteTime": {
     "end_time": "2022-06-20T23:01:57.378345Z",
     "start_time": "2022-06-20T23:01:57.222403Z"
    },
    "cell_style": "split"
   },
   "outputs": [
    {
     "data": {
      "image/png": "[encoded data removed]",
      "text/plain": [
       "<Figure size 432x288 with 1 Axes>"
      ]
     },
     "metadata": {
      "needs_background": "light"
     },
     "output_type": "display_data"
    }
   ],
   "source": [
    "#Accumulative gain\n",
    "skplt.metrics.plot_cumulative_gain(y_val,yhat_knn);"
   ]
  },
  {
   "cell_type": "code",
   "execution_count": 71,
   "id": "c7752f9b",
   "metadata": {
    "ExecuteTime": {
     "end_time": "2022-06-20T23:01:57.543527Z",
     "start_time": "2022-06-20T23:01:57.380053Z"
    }
   },
   "outputs": [
    {
     "data": {
      "text/html": [
       "<div>\n",
       "<style scoped>\n",
       "    .dataframe tbody tr th:only-of-type {\n",
       "        vertical-align: middle;\n",
       "    }\n",
       "\n",
       "    .dataframe tbody tr th {\n",
       "        vertical-align: top;\n",
       "    }\n",
       "\n",
       "    .dataframe thead th {\n",
       "        text-align: right;\n",
       "    }\n",
       "</style>\n",
       "<table border=\"1\" class=\"dataframe\">\n",
       "  <thead>\n",
       "    <tr style=\"text-align: right;\">\n",
       "      <th></th>\n",
       "      <th>Precision_at_k</th>\n",
       "      <th>Recall_at_k</th>\n",
       "    </tr>\n",
       "  </thead>\n",
       "  <tbody>\n",
       "    <tr>\n",
       "      <th>KNN</th>\n",
       "      <td>0.275</td>\n",
       "      <td>0.594</td>\n",
       "    </tr>\n",
       "  </tbody>\n",
       "</table>\n",
       "</div>"
      ],
      "text/plain": [
       "    Precision_at_k Recall_at_k\n",
       "KNN          0.275       0.594"
      ]
     },
     "execution_count": 71,
     "metadata": {},
     "output_type": "execute_result"
    }
   ],
   "source": [
    "at_k_metrics( 'KNN', x_validation, y_validation, yhat_knn, k=20000 )"
   ]
  },
  {
   "cell_type": "markdown",
   "id": "da8fc469",
   "metadata": {},
   "source": [
    "### KNN Cross Validation"
   ]
  },
  {
   "cell_type": "code",
   "execution_count": 72,
   "id": "fca45f7f",
   "metadata": {
    "ExecuteTime": {
     "end_time": "2022-06-20T23:02:24.971149Z",
     "start_time": "2022-06-20T23:01:57.546552Z"
    }
   },
   "outputs": [
    {
     "data": {
      "text/html": [
       "<div>\n",
       "<style scoped>\n",
       "    .dataframe tbody tr th:only-of-type {\n",
       "        vertical-align: middle;\n",
       "    }\n",
       "\n",
       "    .dataframe tbody tr th {\n",
       "        vertical-align: top;\n",
       "    }\n",
       "\n",
       "    .dataframe thead th {\n",
       "        text-align: right;\n",
       "    }\n",
       "</style>\n",
       "<table border=\"1\" class=\"dataframe\">\n",
       "  <thead>\n",
       "    <tr style=\"text-align: right;\">\n",
       "      <th></th>\n",
       "      <th>Precision_at_k</th>\n",
       "      <th>Recall_at_k</th>\n",
       "    </tr>\n",
       "  </thead>\n",
       "  <tbody>\n",
       "    <tr>\n",
       "      <th>KNN</th>\n",
       "      <td>0.27 +/- 0.0</td>\n",
       "      <td>0.72 +/- 0.0</td>\n",
       "    </tr>\n",
       "  </tbody>\n",
       "</table>\n",
       "</div>"
      ],
      "text/plain": [
       "    Precision_at_k   Recall_at_k\n",
       "KNN   0.27 +/- 0.0  0.72 +/- 0.0"
      ]
     },
     "execution_count": 72,
     "metadata": {},
     "output_type": "execute_result"
    }
   ],
   "source": [
    "knn_cv = cross_validation('KNN', knn_model, x_train, y_train)\n",
    "knn_cv"
   ]
  },
  {
   "cell_type": "markdown",
   "id": "89465806",
   "metadata": {
    "ExecuteTime": {
     "start_time": "2022-03-12T20:14:12.192Z"
    }
   },
   "source": [
    "## 6.2. Logistic Regressor"
   ]
  },
  {
   "cell_type": "code",
   "execution_count": 73,
   "id": "828507b8",
   "metadata": {
    "ExecuteTime": {
     "end_time": "2022-06-20T23:02:26.819032Z",
     "start_time": "2022-06-20T23:02:24.973232Z"
    },
    "cell_style": "center",
    "hide_input": false,
    "scrolled": false
   },
   "outputs": [],
   "source": [
    "#model definition\n",
    "# lr_model = lm.LogisticRegression(random_state=5)\n",
    "\n",
    "#model training\n",
    "\n",
    "lr_model.fit(x_train,y_train)\n",
    "\n",
    "#model prediction\n",
    "yhat_lr = lr_model.predict_proba(x_val)\n",
    "\n",
    "# pickle.dump(lr_model, open('../webapp/model/lr_model.pkl', 'wb'))\n",
    "\n"
   ]
  },
  {
   "cell_type": "code",
   "execution_count": 74,
   "id": "12da1768",
   "metadata": {
    "ExecuteTime": {
     "end_time": "2022-06-20T23:02:27.043070Z",
     "start_time": "2022-06-20T23:02:26.821889Z"
    },
    "cell_style": "center"
   },
   "outputs": [
    {
     "data": {
      "image/png": "[encoded data removed]",
      "text/plain": [
       "<Figure size 432x288 with 1 Axes>"
      ]
     },
     "metadata": {
      "needs_background": "light"
     },
     "output_type": "display_data"
    }
   ],
   "source": [
    "skplt.metrics.plot_lift_curve( y_val, yhat_lr );"
   ]
  },
  {
   "cell_type": "code",
   "execution_count": 75,
   "id": "9f82fafc",
   "metadata": {
    "ExecuteTime": {
     "end_time": "2022-06-20T23:02:27.257045Z",
     "start_time": "2022-06-20T23:02:27.047304Z"
    },
    "cell_style": "center"
   },
   "outputs": [
    {
     "data": {
      "image/png": "[encoded data removed]",
      "text/plain": [
       "<Figure size 432x288 with 1 Axes>"
      ]
     },
     "metadata": {
      "needs_background": "light"
     },
     "output_type": "display_data"
    }
   ],
   "source": [
    "#Accumulative gain\n",
    "skplt.metrics.plot_cumulative_gain(y_val,yhat_lr);"
   ]
  },
  {
   "cell_type": "code",
   "execution_count": 76,
   "id": "5ca65348",
   "metadata": {
    "ExecuteTime": {
     "end_time": "2022-06-20T23:02:27.303735Z",
     "start_time": "2022-06-20T23:02:27.258691Z"
    }
   },
   "outputs": [
    {
     "data": {
      "text/html": [
       "<div>\n",
       "<style scoped>\n",
       "    .dataframe tbody tr th:only-of-type {\n",
       "        vertical-align: middle;\n",
       "    }\n",
       "\n",
       "    .dataframe tbody tr th {\n",
       "        vertical-align: top;\n",
       "    }\n",
       "\n",
       "    .dataframe thead th {\n",
       "        text-align: right;\n",
       "    }\n",
       "</style>\n",
       "<table border=\"1\" class=\"dataframe\">\n",
       "  <thead>\n",
       "    <tr style=\"text-align: right;\">\n",
       "      <th></th>\n",
       "      <th>Precision_at_k</th>\n",
       "      <th>Recall_at_k</th>\n",
       "    </tr>\n",
       "  </thead>\n",
       "  <tbody>\n",
       "    <tr>\n",
       "      <th>Logistic Regressor</th>\n",
       "      <td>0.251</td>\n",
       "      <td>0.544</td>\n",
       "    </tr>\n",
       "  </tbody>\n",
       "</table>\n",
       "</div>"
      ],
      "text/plain": [
       "                   Precision_at_k Recall_at_k\n",
       "Logistic Regressor          0.251       0.544"
      ]
     },
     "execution_count": 76,
     "metadata": {},
     "output_type": "execute_result"
    }
   ],
   "source": [
    "at_k_metrics( 'Logistic Regressor', x_validation, y_validation, yhat_lr, k=20000 )"
   ]
  },
  {
   "cell_type": "markdown",
   "id": "f4febca7",
   "metadata": {},
   "source": [
    "### Logistic Regressor Cross Validation"
   ]
  },
  {
   "cell_type": "code",
   "execution_count": 77,
   "id": "83e6e054",
   "metadata": {
    "ExecuteTime": {
     "end_time": "2022-06-20T23:02:35.563615Z",
     "start_time": "2022-06-20T23:02:27.305746Z"
    }
   },
   "outputs": [
    {
     "data": {
      "text/html": [
       "<div>\n",
       "<style scoped>\n",
       "    .dataframe tbody tr th:only-of-type {\n",
       "        vertical-align: middle;\n",
       "    }\n",
       "\n",
       "    .dataframe tbody tr th {\n",
       "        vertical-align: top;\n",
       "    }\n",
       "\n",
       "    .dataframe thead th {\n",
       "        text-align: right;\n",
       "    }\n",
       "</style>\n",
       "<table border=\"1\" class=\"dataframe\">\n",
       "  <thead>\n",
       "    <tr style=\"text-align: right;\">\n",
       "      <th></th>\n",
       "      <th>Precision_at_k</th>\n",
       "      <th>Recall_at_k</th>\n",
       "    </tr>\n",
       "  </thead>\n",
       "  <tbody>\n",
       "    <tr>\n",
       "      <th>Logistic Regressor</th>\n",
       "      <td>0.26 +/- 0.0</td>\n",
       "      <td>0.7 +/- 0.0</td>\n",
       "    </tr>\n",
       "  </tbody>\n",
       "</table>\n",
       "</div>"
      ],
      "text/plain": [
       "                   Precision_at_k  Recall_at_k\n",
       "Logistic Regressor   0.26 +/- 0.0  0.7 +/- 0.0"
      ]
     },
     "execution_count": 77,
     "metadata": {},
     "output_type": "execute_result"
    }
   ],
   "source": [
    "lr_cv = cross_validation('Logistic Regressor', lr_model, x_train, y_train)\n",
    "lr_cv"
   ]
  },
  {
   "cell_type": "markdown",
   "id": "88c3fd53",
   "metadata": {
    "ExecuteTime": {
     "start_time": "2022-03-12T20:14:12.192Z"
    }
   },
   "source": [
    "## 6.3. XBoost Classifier"
   ]
  },
  {
   "cell_type": "code",
   "execution_count": 78,
   "id": "f8145b5c",
   "metadata": {
    "ExecuteTime": {
     "end_time": "2022-06-20T23:03:36.637463Z",
     "start_time": "2022-06-20T23:02:35.565803Z"
    },
    "cell_style": "center",
    "hide_input": false,
    "scrolled": false
   },
   "outputs": [
    {
     "name": "stdout",
     "output_type": "stream",
     "text": [
      "[20:02:36] WARNING: ../src/learner.cc:1115: Starting in XGBoost 1.3.0, the default evaluation metric used with the objective 'binary:logistic' was changed from 'error' to 'logloss'. Explicitly set eval_metric if you'd like to restore the old behavior.\n"
     ]
    }
   ],
   "source": [
    "#model definition\n",
    "# xgb_model = XGBClassifier(n_estimators = 1500,\n",
    "#                           eta = 0.03,\n",
    "#                           max_depth = 3,\n",
    "#                           subsample = 0.7,\n",
    "#                           colsample_bytree = 0.9,\n",
    "#                           min_child_weight = 3)\n",
    "\n",
    "#model training\n",
    "xgb_model.fit(x_train,y_train)\n",
    "\n",
    "#model prediction\n",
    "yhat_xgb = xgb_model.predict_proba(x_val)\n",
    "\n"
   ]
  },
  {
   "cell_type": "code",
   "execution_count": 79,
   "id": "99a885ec",
   "metadata": {
    "ExecuteTime": {
     "end_time": "2022-06-20T23:03:36.641229Z",
     "start_time": "2022-06-20T23:03:36.638899Z"
    }
   },
   "outputs": [],
   "source": [
    "# pickle.dump(xgb_model, open(r'/src/model/xgb_model.pkl', 'wb'))"
   ]
  },
  {
   "cell_type": "code",
   "execution_count": 80,
   "id": "c4c76ce5",
   "metadata": {
    "ExecuteTime": {
     "end_time": "2022-06-20T23:03:37.045371Z",
     "start_time": "2022-06-20T23:03:36.642880Z"
    },
    "cell_style": "split",
    "hide_input": false,
    "scrolled": true
   },
   "outputs": [
    {
     "data": {
      "image/png": "[encoded data removed]",
      "text/plain": [
       "<Figure size 432x288 with 1 Axes>"
      ]
     },
     "metadata": {
      "needs_background": "light"
     },
     "output_type": "display_data"
    }
   ],
   "source": [
    "skplt.metrics.plot_lift_curve( y_val, yhat_xgb );"
   ]
  },
  {
   "cell_type": "code",
   "execution_count": 81,
   "id": "7a6f4893",
   "metadata": {
    "ExecuteTime": {
     "end_time": "2022-06-20T23:03:37.247244Z",
     "start_time": "2022-06-20T23:03:37.047000Z"
    },
    "cell_style": "split",
    "hide_input": false,
    "scrolled": true
   },
   "outputs": [
    {
     "data": {
      "image/png": "[encoded data removed]",
      "text/plain": [
       "<Figure size 432x288 with 1 Axes>"
      ]
     },
     "metadata": {
      "needs_background": "light"
     },
     "output_type": "display_data"
    }
   ],
   "source": [
    "#Accumulative gain\n",
    "skplt.metrics.plot_cumulative_gain(y_val,yhat_xgb);"
   ]
  },
  {
   "cell_type": "code",
   "execution_count": 82,
   "id": "f05ddd49",
   "metadata": {
    "ExecuteTime": {
     "end_time": "2022-06-20T23:03:37.335473Z",
     "start_time": "2022-06-20T23:03:37.249196Z"
    }
   },
   "outputs": [
    {
     "data": {
      "text/html": [
       "<div>\n",
       "<style scoped>\n",
       "    .dataframe tbody tr th:only-of-type {\n",
       "        vertical-align: middle;\n",
       "    }\n",
       "\n",
       "    .dataframe tbody tr th {\n",
       "        vertical-align: top;\n",
       "    }\n",
       "\n",
       "    .dataframe thead th {\n",
       "        text-align: right;\n",
       "    }\n",
       "</style>\n",
       "<table border=\"1\" class=\"dataframe\">\n",
       "  <thead>\n",
       "    <tr style=\"text-align: right;\">\n",
       "      <th></th>\n",
       "      <th>Precision_at_k</th>\n",
       "      <th>Recall_at_k</th>\n",
       "    </tr>\n",
       "  </thead>\n",
       "  <tbody>\n",
       "    <tr>\n",
       "      <th>XGBoost Classifier</th>\n",
       "      <td>0.388</td>\n",
       "      <td>0.008</td>\n",
       "    </tr>\n",
       "  </tbody>\n",
       "</table>\n",
       "</div>"
      ],
      "text/plain": [
       "                   Precision_at_k Recall_at_k\n",
       "XGBoost Classifier          0.388       0.008"
      ]
     },
     "execution_count": 82,
     "metadata": {},
     "output_type": "execute_result"
    }
   ],
   "source": [
    "at_k_metrics( 'XGBoost Classifier', x_validation, y_validation, yhat_xgb, k=200 )"
   ]
  },
  {
   "cell_type": "markdown",
   "id": "429a64db",
   "metadata": {},
   "source": [
    "### XGBoost Regressor Cross Validation"
   ]
  },
  {
   "cell_type": "code",
   "execution_count": null,
   "id": "98bcb34b",
   "metadata": {
    "ExecuteTime": {
     "start_time": "2022-06-20T23:01:54.508Z"
    },
    "scrolled": true
   },
   "outputs": [
    {
     "name": "stdout",
     "output_type": "stream",
     "text": [
      "[20:03:37] WARNING: ../src/learner.cc:1115: Starting in XGBoost 1.3.0, the default evaluation metric used with the objective 'binary:logistic' was changed from 'error' to 'logloss'. Explicitly set eval_metric if you'd like to restore the old behavior.\n",
      "[20:04:37] WARNING: ../src/learner.cc:1115: Starting in XGBoost 1.3.0, the default evaluation metric used with the objective 'binary:logistic' was changed from 'error' to 'logloss'. Explicitly set eval_metric if you'd like to restore the old behavior.\n",
      "[20:05:25] WARNING: ../src/learner.cc:1115: Starting in XGBoost 1.3.0, the default evaluation metric used with the objective 'binary:logistic' was changed from 'error' to 'logloss'. Explicitly set eval_metric if you'd like to restore the old behavior.\n",
      "[20:06:12] WARNING: ../src/learner.cc:1115: Starting in XGBoost 1.3.0, the default evaluation metric used with the objective 'binary:logistic' was changed from 'error' to 'logloss'. Explicitly set eval_metric if you'd like to restore the old behavior.\n"
     ]
    }
   ],
   "source": [
    "xgb_cv = cross_validation('XGBoost Classifier', xgb_model, x_train, y_train)\n",
    "xgb_cv\n"
   ]
  },
  {
   "cell_type": "code",
   "execution_count": null,
   "id": "b11387de",
   "metadata": {
    "ExecuteTime": {
     "start_time": "2022-06-20T23:01:54.716Z"
    }
   },
   "outputs": [],
   "source": [
    "# pickle.dump(xgb_model, open(r'/src/model/xgb_model.pkl', 'wb'))"
   ]
  },
  {
   "cell_type": "code",
   "execution_count": null,
   "id": "b363e880",
   "metadata": {
    "ExecuteTime": {
     "start_time": "2022-06-20T23:01:54.924Z"
    },
    "cell_style": "split",
    "hide_input": false,
    "scrolled": true
   },
   "outputs": [],
   "source": [
    "skplt.metrics.plot_lift_curve( y_val, yhat_xgb );"
   ]
  },
  {
   "cell_type": "code",
   "execution_count": null,
   "id": "92b3af85",
   "metadata": {
    "ExecuteTime": {
     "start_time": "2022-06-20T23:01:55.124Z"
    },
    "cell_style": "split",
    "hide_input": false,
    "scrolled": true
   },
   "outputs": [],
   "source": [
    "#Accumulative gain\n",
    "skplt.metrics.plot_cumulative_gain(y_val,yhat_xgb);"
   ]
  },
  {
   "cell_type": "code",
   "execution_count": null,
   "id": "7dcc13e3",
   "metadata": {
    "ExecuteTime": {
     "start_time": "2022-06-20T23:01:55.340Z"
    }
   },
   "outputs": [],
   "source": [
    "at_k_metrics( 'XGBoost Classifier', x_validation, y_validation, yhat_xgb, k=200 )"
   ]
  },
  {
   "cell_type": "markdown",
   "id": "3f6136fe",
   "metadata": {},
   "source": [
    "### XGBoost Cross Validation"
   ]
  },
  {
   "cell_type": "code",
   "execution_count": null,
   "id": "4f36dbae",
   "metadata": {
    "ExecuteTime": {
     "start_time": "2022-06-20T23:01:55.812Z"
    },
    "scrolled": true
   },
   "outputs": [],
   "source": [
    "xgb_cv = cross_validation('XGBoost Classifier', xgb_model, x_train, y_train)\n",
    "xgb_cv"
   ]
  },
  {
   "cell_type": "markdown",
   "id": "087e5fad",
   "metadata": {
    "ExecuteTime": {
     "end_time": "2022-03-14T19:20:40.834240Z",
     "start_time": "2022-03-14T19:20:40.797018Z"
    }
   },
   "source": [
    "# 8.0 Hyperparameter Fine Tunning"
   ]
  },
  {
   "cell_type": "code",
   "execution_count": null,
   "id": "1f57aa57",
   "metadata": {
    "ExecuteTime": {
     "end_time": "2022-06-20T22:19:39.568175Z",
     "start_time": "2022-06-20T22:19:39.568153Z"
    }
   },
   "outputs": [],
   "source": [
    "# import random\n",
    "\n",
    "# param = {\n",
    "# 'n_estimators': [1500, 1700, 2500, 3000, 3500],\n",
    "# 'eta': [0.01, 0.03],\n",
    "# 'max_depth': [3, 5, 9],\n",
    "# 'subsample': [0.1, 0.5, 0.7],\n",
    "# 'colsample_bytree': [0.3, 0.7, 0.9],\n",
    "# 'min_child_weight': [3, 8, 15]\n",
    "# }\n",
    "\n",
    "# MAX_EVAL = 5\n",
    "\n",
    "# final_result = pd.DataFrame()\n",
    "\n",
    "# for i in range( MAX_EVAL ):\n",
    "\n",
    "# # choose values for parameters randomly\n",
    "\n",
    "#     hp = { k: random.sample( v, 1 )[0] for k, v in param.items() }\n",
    "#     print( hp )\n",
    "#     # model\n",
    "\n",
    "#     model_xgb = XGBClassifier( objective='reg:squarederror',\n",
    "#     n_estimators=hp['n_estimators'],\n",
    "#     eta=hp['eta'],\n",
    "#     max_depth=hp['max_depth'],\n",
    "#     subsample=hp['subsample'],\n",
    "#     colsample_bytee=hp['colsample_bytree'],\n",
    "#     min_child_weight=hp['min_child_weight'] )\n",
    "\n",
    "\n",
    "#     # performance\n",
    "#     result = cross_validation('XGBoost Classifier', xgb_model, x_train, y_train)\n",
    "#     final_result = pd.concat( [final_result, result] )\n",
    "# #\n",
    "# #final_result"
   ]
  },
  {
   "cell_type": "code",
   "execution_count": null,
   "id": "8d304c70",
   "metadata": {
    "ExecuteTime": {
     "start_time": "2022-06-20T23:02:04.312Z"
    }
   },
   "outputs": [],
   "source": [
    "results_cv = pd.concat([knn_cv, lr_cv, xgb_cv])\n",
    "results_cv\n"
   ]
  },
  {
   "cell_type": "markdown",
   "id": "a1734b07",
   "metadata": {},
   "source": [
    "## 8.1. Bootstrap"
   ]
  },
  {
   "cell_type": "code",
   "execution_count": null,
   "id": "9ae799dc",
   "metadata": {
    "ExecuteTime": {
     "end_time": "2022-06-20T22:19:39.571055Z",
     "start_time": "2022-06-20T22:19:39.571039Z"
    }
   },
   "outputs": [],
   "source": [
    "\n",
    "# np.random.seed(42)\n",
    "statistics = []\n",
    "\n",
    "for i in range(1000):\n",
    "    \n",
    "    np.random.seed(i)     #mudando a amostragem a cada iteração\n",
    "    #sampling\n",
    "    df4 = x_train.copy()   #criando dataset com dados já preparados\n",
    "    df4['response'] = y_train.copy()   #incrementando a respost\n",
    "\n",
    "    sample = df4.sample(100)   #criando sample de 100 \n",
    "    X_sample = sample.drop('response', axis=1)   #separando o x do sample\n",
    "    y_sample = sample['response']         #separando o y do sample\n",
    "    \n",
    "    # #predict\n",
    "    yhat_xgb_ = xgb_model.predict_proba(X_sample)[:,1]  #calculando a probabilidade de ser verdadeiro\n",
    "    stat = metrics.roc_auc_score(y_sample, yhat_xgb_)   #utilizando roc auc score como métrica\n",
    "    statistics.append(stat)              #agregando na lista\n",
    "    \n",
    "    #repetindo...\n",
    "    \n",
    "np.mean(statistics) #tirando a média dos roc auc score\n",
    "\n",
    "\n",
    "#confidence interval\n",
    "alpha = 0.95\n",
    "ordered = statistics.sort\n",
    "lower = np.percentile(statistics, (1-alpha)/2)\n",
    "upper = np.percentile(statistics, alpha+((1-alpha)/2))\n"
   ]
  },
  {
   "cell_type": "code",
   "execution_count": null,
   "id": "48d2a71b",
   "metadata": {
    "ExecuteTime": {
     "end_time": "2022-06-20T22:19:39.572195Z",
     "start_time": "2022-06-20T22:19:39.572179Z"
    }
   },
   "outputs": [],
   "source": [
    "print('%.1f confidence interval %.1f%% and %.1f%%' % (alpha*100, lower*100, upper*100))"
   ]
  },
  {
   "cell_type": "code",
   "execution_count": null,
   "id": "09e439bd",
   "metadata": {
    "ExecuteTime": {
     "end_time": "2022-06-20T22:19:39.573609Z",
     "start_time": "2022-06-20T22:19:39.573591Z"
    }
   },
   "outputs": [],
   "source": [
    "sns.histplot(statistics, bins=10);"
   ]
  },
  {
   "cell_type": "code",
   "execution_count": null,
   "id": "615d976e",
   "metadata": {
    "ExecuteTime": {
     "end_time": "2022-06-20T22:19:39.574807Z",
     "start_time": "2022-06-20T22:19:39.574791Z"
    }
   },
   "outputs": [],
   "source": [
    "\n",
    "\n",
    "from sklearn.utils import resample\n",
    "from sklearn.tree import DecisionTreeClassifier\n",
    "\n",
    "\n",
    "# np.random.seed(42)\n",
    "statistics_ = []\n",
    "\n",
    "n_iterations = 1000\n",
    "n_size = 100\n",
    "warnings.simplefilter(\"ignore\")\n",
    "\n",
    "df4 = x_train.copy()   #criando dataset com dados já preparados\n",
    "df4['response'] = y_train.copy()   #incrementando a respost\n",
    "values = df4.values\n",
    "for i in range(1000):\n",
    "    \n",
    "    np.random.seed(i)     #mudando a amostragem a cada iteração\n",
    "    print(i)\n",
    "    #sampling\n",
    "    train = resample(values, n_samples=n_size)\n",
    "    test = np.array([x for x in values if x.tolist() not in train.tolist()])\n",
    "\n",
    "    model = DecisionTreeClassifier()\n",
    "    #fit\n",
    "    model.fit(train[:,:-1], train[:,-1])\n",
    "    \n",
    "    #predict\n",
    "    pred = model.predict(test[:,:-1])  #predição \n",
    "    stat = metrics.accuracy_score(test[:,-1], pred)   #utilizando accuracy score como métrica\n",
    "    statistics_.append(stat)              #append na lista\n",
    "    \n",
    "    #repetindo...\n",
    "    \n",
    "np.mean(statistics_) #tirando a média dos accuracy score"
   ]
  },
  {
   "cell_type": "code",
   "execution_count": null,
   "id": "ef3c3564",
   "metadata": {
    "ExecuteTime": {
     "end_time": "2022-06-20T22:19:39.576548Z",
     "start_time": "2022-06-20T22:19:39.576530Z"
    }
   },
   "outputs": [],
   "source": [
    "sns.histplot(statistics_, bins=10);"
   ]
  },
  {
   "cell_type": "code",
   "execution_count": null,
   "id": "ba6bf1ef",
   "metadata": {
    "ExecuteTime": {
     "end_time": "2022-06-20T22:19:39.578299Z",
     "start_time": "2022-06-20T22:19:39.578279Z"
    }
   },
   "outputs": [],
   "source": [
    "#confidence interval\n",
    "alpha = 0.95\n",
    "ordered = statistics_.sort\n",
    "lower = np.percentile(statistics_, (1-alpha)/2)\n",
    "upper = np.percentile(statistics_, alpha+((1-alpha)/2))\n",
    "print('%.1f confidence interval %.1f%% and %.1f%%' % (alpha*100, lower*100, upper*100))"
   ]
  },
  {
   "cell_type": "markdown",
   "id": "bbddc3ba",
   "metadata": {},
   "source": [
    "# 9.0 Deploy to Production"
   ]
  },
  {
   "cell_type": "markdown",
   "id": "87d36809",
   "metadata": {},
   "source": [
    "## 9.1. Class HealthInsurance"
   ]
  },
  {
   "cell_type": "code",
   "execution_count": null,
   "id": "1fbc662d",
   "metadata": {
    "ExecuteTime": {
     "end_time": "2022-06-20T22:19:39.580762Z",
     "start_time": "2022-06-20T22:19:39.580729Z"
    }
   },
   "outputs": [],
   "source": [
    "class HealthInsurance():\n",
    "    def __init__(self):\n",
    "        #paths\n",
    "        self.path = '/home/heitor/repos/health_insurance_cross_sale/'\n",
    "        self.annual_premium_scaler = pickle.load(ss, open(self.path + r'../src/features/annual_premium_scaler.pkl', 'rb'))\n",
    "        self.age_scaler =  pickle.load(mms_age, open(self.path + r'../src/features/age_scaler.pkl', 'rb'))\n",
    "        self.vintage_scaler = pickle.load(mms_vintage, open(self.path + r'../src/features/vintage_scaler.pkl', 'rb'))\n",
    "        self.region_code_encode = pickle.load(target_encode_region_code, open(self.path + r'../src/features/region_code_encode.pkl', 'rb'))\n",
    "        self.policy_sales_channel_encode = pickle.load(fe_policy_sales_channel, open(self.path + r'../src/features/policy_sales_channel_encode.pkl', 'rb'))\n",
    "        self.gender_encode = pickle.load(target_encode_gender, open(self.path + r'../src/features/gender_encode.pkl', 'rb'))\n",
    "        \n",
    "                                                                                    \n",
    "    def data_cleaning(data):\n",
    "                                                                                     #Rename columns\n",
    "        old_cols = ['id', 'Gender', 'Age', 'DrivingLicense', 'RegionCode','PreviouslyInsured', 'Vehicle_Age', 'VehicleDamage', 'AnnualPremium','PolicySalesChannel', 'Vintage', 'Response']\n",
    "        snakecase = lambda x: inflection.underscore(x)\n",
    "\n",
    "        new_cols = list(map(snakecase, old_cols))\n",
    "        data.columns = new_cols\n",
    "\n",
    "        #changing types\n",
    "\n",
    "        data['vehicle_damage'] = data['vehicle_damage'].apply(lambda x: 1 if x == 'Yes' else 0)\n",
    "        data['policy_sales_channel'] = data['policy_sales_channel'].astype(int)\n",
    "        data['annual_premium'] = data['annual_premium'].astype(int)\n",
    "        data['region_code'] = data['region_code'].astype(int)\n",
    "        data['vehicle_damage'] = data['vehicle_damage'].astype(int)\n",
    "        return data\n",
    "                                                                                     \n",
    "                                                                                     \n",
    "    def feature_engineering(data):\n",
    "        data['vehicle_age'] = data['vehicle_age'].apply(lambda x: 'less_than_1_year' if x =='< 1 Year' else\n",
    "                                                                  'more_than_2_years' if x== '> 2 Years' else\n",
    "                                                                  'between_1_and_2_years' )\n",
    "        return data\n",
    "                                                                                     \n",
    "    def data_preparation(data):\n",
    "        X = data.drop('response', axis=1)\n",
    "        y = data['response'].copy()\n",
    "        x_train, x_validation, y_train, y_validation = ms.train_test_split(X, y, test_size=0.2)\n",
    "        data = pd.concat([x_train, y_train], axis=1)\n",
    "\n",
    "        #annual premium\n",
    "        df3['annual_premium'] = self.annual_premium_scaler.transform(df3[['annual_premium']].values)\n",
    "\n",
    "        #age\n",
    "        data['age'] = self.age_scaler.transform(data[['age']].values)\n",
    "\n",
    "        #vintage\n",
    "        data['vintage'] = self.vintage_scaler.transform(data[['vintage']].values)\n",
    "\n",
    "        #vehicle age -- One Hot Encoding / Order Target Encoding / Frequency Encoding\n",
    "        data = pd.get_dummies(data, prefix='vehicle_age', columns=['vehicle_age'])\n",
    "\n",
    "        #region code -- Target Encoding / Weighted Target Encoding / Frequency Encoding\n",
    "        data.loc[:,'region_code'] = data['region_code'].map(self.region_code_encode)\n",
    "\n",
    "        #policy_sales_channel -- Target Encoding / Frequency Encoding\n",
    "        data.loc[:,'policy_sales_channel'] = data['policy_sales_channel'].map(policy_sales_channel_encode)\n",
    "\n",
    "        #gender -- Target Encoding\n",
    "        data.loc[:,'gender'] = data['gender'].map(self.gender_encode)\n",
    "\n",
    "        #features selected\n",
    "        cols_selected = ['vintage','annual_premium','age','region_code','vehicle_damage','policy_sales_channel','previously_insured']\n",
    "        \n",
    "\n",
    "        return data[cols_selected]\n",
    "       \n",
    "    def get_prediction(self, model, original_data, test_data):\n",
    "        #model prediction\n",
    "        pred = mode.predict_proba(test_data)\n",
    "        \n",
    "        #join prediction into original data\n",
    "        original_data['score'] = pred\n",
    "        \n",
    "        return original_data.to_json(orient='records',data_format='iso')"
   ]
  },
  {
   "cell_type": "markdown",
   "id": "0a259be6",
   "metadata": {},
   "source": [
    "## 9.2. API Handler"
   ]
  },
  {
   "cell_type": "code",
   "execution_count": null,
   "id": "1a41c9de",
   "metadata": {
    "ExecuteTime": {
     "end_time": "2022-06-20T22:19:39.582489Z",
     "start_time": "2022-06-20T22:19:39.582471Z"
    }
   },
   "outputs": [],
   "source": [
    "from healthinsurance import HealthInsurance\n",
    "import pickle\n",
    "import pandas as pd\n",
    "from flask import Flask, request, Response\n",
    "import os\n",
    "\n",
    "#loading model\n",
    "model = pickle.load(xgb_model_tunned, open(r'../src/model/xgb_model.pkl', 'rb'))\n",
    "\n",
    "#initialize API\n",
    "app = Flask(__name__)\n",
    "\n",
    "@app.route('/predict', methods=['POST'])\n",
    "def healthinsurance_predict():\n",
    "    test_json = request.get_json()\n",
    "    if test_json: #there is data\n",
    "        if isinstance(test_jason, dict):  #unique example \n",
    "            test_raw = pd.DataFrame(test_json, index=[0])\n",
    "        \n",
    "        else:                             #multiple example\n",
    "            test_raw = pd.DataFrame(test_json, columns = test_json[0].keys())\n",
    "            \n",
    "            #Initialize HealthInsurance Class\n",
    "            pipeline = HealthInsurance()\n",
    "            \n",
    "            #data cleaning\n",
    "            data = data_cleaning(test_raw)\n",
    "            \n",
    "            #feature engineering\n",
    "            data = feature_engineering(data)\n",
    "            \n",
    "            #data preparation\n",
    "            data = data_preparation(data)\n",
    "            \n",
    "            #prediction\n",
    "            df_response = get_prediction(model, test_raw, data)\n",
    "            \n",
    "            return df_response\n",
    "        \n",
    "    \n",
    "    else:\n",
    "        return Response('{}', status = 200, mimetype = 'application/json')\n",
    "\n",
    "if __name__ == 'main':\n",
    "    port = os.environ.get('PORT', 5000)\n",
    "    app.run('0.0.0.0', port=port)\n",
    "    \n",
    "            \n",
    "            \n",
    "            \n",
    "\n",
    "\n"
   ]
  },
  {
   "cell_type": "markdown",
   "id": "b5019cfb",
   "metadata": {
    "ExecuteTime": {
     "end_time": "2022-03-16T20:56:37.666918Z",
     "start_time": "2022-03-16T20:56:37.660445Z"
    }
   },
   "source": [
    "## 9.3. API Tester"
   ]
  },
  {
   "cell_type": "code",
   "execution_count": null,
   "id": "ca85c1a1",
   "metadata": {
    "ExecuteTime": {
     "end_time": "2022-06-20T22:19:39.583893Z",
     "start_time": "2022-06-20T22:19:39.583876Z"
    }
   },
   "outputs": [],
   "source": [
    "import requests\n",
    "# import json"
   ]
  },
  {
   "cell_type": "code",
   "execution_count": null,
   "id": "4a3b8f71",
   "metadata": {
    "ExecuteTime": {
     "end_time": "2022-06-20T22:19:39.585283Z",
     "start_time": "2022-06-20T22:19:39.585266Z"
    }
   },
   "outputs": [],
   "source": [
    "df_test = x_validation"
   ]
  },
  {
   "cell_type": "code",
   "execution_count": null,
   "id": "0ca28998",
   "metadata": {
    "ExecuteTime": {
     "end_time": "2022-06-20T22:19:39.586809Z",
     "start_time": "2022-06-20T22:19:39.586790Z"
    }
   },
   "outputs": [],
   "source": [
    "df_test = df_test.sample(10)"
   ]
  },
  {
   "cell_type": "code",
   "execution_count": null,
   "id": "4338ca3c",
   "metadata": {
    "ExecuteTime": {
     "end_time": "2022-06-20T22:19:39.588145Z",
     "start_time": "2022-06-20T22:19:39.588128Z"
    }
   },
   "outputs": [],
   "source": [
    "#convert dataframe to json\n",
    "data = json.dumps(df_test.to_dict(orient='records'))"
   ]
  },
  {
   "cell_type": "code",
   "execution_count": null,
   "id": "efef4714",
   "metadata": {
    "ExecuteTime": {
     "end_time": "2022-06-20T22:19:39.589485Z",
     "start_time": "2022-06-20T22:19:39.589467Z"
    }
   },
   "outputs": [],
   "source": [
    "#API Call\n",
    "url = 'https://health-insurance-cross2.herokuapp.com/predict'\n",
    "header = { 'Content-type': 'application/json' }\n",
    "\n",
    "\n",
    "r = requests.post( url, data=data, headers=header )\n",
    "print( 'Status Code: {}'.format( r.status_code ) )"
   ]
  },
  {
   "cell_type": "code",
   "execution_count": null,
   "id": "7309a3cb",
   "metadata": {
    "ExecuteTime": {
     "end_time": "2022-06-20T22:19:39.591860Z",
     "start_time": "2022-06-20T22:19:39.591827Z"
    }
   },
   "outputs": [],
   "source": [
    "d1 = pd.DataFrame( r.json(), columns=r.json()[0].keys() )\n",
    "d1.sort_values( 'score', ascending=False ).head()"
   ]
  },
  {
   "cell_type": "markdown",
   "id": "0c35e7a5",
   "metadata": {
    "ExecuteTime": {
     "end_time": "2022-03-17T21:04:51.214620Z",
     "start_time": "2022-03-17T21:04:51.214603Z"
    }
   },
   "source": [
    "# 10.0. Relatório "
   ]
  },
  {
   "cell_type": "markdown",
   "id": "a540d806",
   "metadata": {
    "ExecuteTime": {
     "end_time": "2022-04-09T22:11:35.719594Z",
     "start_time": "2022-04-09T22:11:35.711062Z"
    }
   },
   "source": [
    "* Principais Insights sobre os atributos mais relevantes de clientes interessados em adquirir um seguro de automóvel.\n"
   ]
  },
  {
   "cell_type": "markdown",
   "id": "2c2677a5",
   "metadata": {},
   "source": [
    "## 10.1. Insights da EDA"
   ]
  },
  {
   "cell_type": "markdown",
   "id": "4d4911a7",
   "metadata": {},
   "source": [
    "##### Features que mais impactam nessa decisão segundo o Extra Trees Classifier em ordem descrescente de importância\n",
    "\n",
    "1. vintage - tempo que usa seguro\n",
    "2. annual_premium - valor gasto anualmente com a empresa\n",
    "3. age - idade\n",
    "4. region_code - código da região \n",
    "5. vehicle_damage - condição se já danificou o veículo \n",
    "6. policy_sales_channel - canal de comunicação\n",
    "7. previously_insured - se já possui \n"
   ]
  },
  {
   "cell_type": "markdown",
   "id": "2d75eeba",
   "metadata": {},
   "source": [
    "* Qual a porcentagem de clientes interessados em adquirir um seguro de automóvel, o time de vendas conseguirá contatar fazendo 20.000 ligações?\n"
   ]
  },
  {
   "cell_type": "code",
   "execution_count": null,
   "id": "16d79683",
   "metadata": {
    "ExecuteTime": {
     "end_time": "2022-06-20T22:19:39.594030Z",
     "start_time": "2022-06-20T22:19:39.593997Z"
    }
   },
   "outputs": [],
   "source": [
    "perc = 100*20000/len(y_val)\n",
    "\n",
    "\n",
    "print('20.000 representa {:.2f}% da base de validação'.format(perc))\n",
    "\n"
   ]
  },
  {
   "cell_type": "code",
   "execution_count": null,
   "id": "6ded7ef6",
   "metadata": {
    "ExecuteTime": {
     "end_time": "2022-06-20T22:19:39.596058Z",
     "start_time": "2022-06-20T22:19:39.596039Z"
    }
   },
   "outputs": [],
   "source": [
    "#Accumulative gain\n",
    "skplt.metrics.plot_cumulative_gain(y_val,yhat_xgb);\n",
    "\n"
   ]
  },
  {
   "cell_type": "markdown",
   "id": "342a9cd5",
   "metadata": {},
   "source": [
    "Ao analisar o ganho acumulado para 26% da base, alcançaremos aproximadamente 80% dos clientes interessados.\n",
    "\n"
   ]
  },
  {
   "cell_type": "markdown",
   "id": "18561e2e",
   "metadata": {},
   "source": [
    "* E se a capacidade do time de vendas aumentar para 40.000 ligações, qual a porcentagem de clientes interessados em adquirir um seguro de automóvel o time de vendas conseguirá contatar?\n"
   ]
  },
  {
   "cell_type": "code",
   "execution_count": null,
   "id": "38c9f816",
   "metadata": {
    "ExecuteTime": {
     "end_time": "2022-06-20T22:19:39.597999Z",
     "start_time": "2022-06-20T22:19:39.597974Z"
    }
   },
   "outputs": [],
   "source": [
    "perc = 100*40000/len(y_val)\n",
    "\n",
    "\n",
    "print('40.000 representa {:.2f}% da base de validação'.format(perc))\n",
    "print('Ao analisar o ganho acumulado para {:.2f}% da base, alcançaremos aproximadamente 100% dos clientes interessados.'.format(perc))\n"
   ]
  }
 ],
 "metadata": {
  "kernelspec": {
   "display_name": "Python 3",
   "language": "python",
   "name": "python3"
  },
  "language_info": {
   "codemirror_mode": {
    "name": "ipython",
    "version": 3
   },
   "file_extension": ".py",
   "mimetype": "text/x-python",
   "name": "python",
   "nbconvert_exporter": "python",
   "pygments_lexer": "ipython3",
   "version": "3.8.8"
  },
  "varInspector": {
   "cols": {
    "lenName": 16,
    "lenType": 16,
    "lenVar": 40
   },
   "kernels_config": {
    "python": {
     "delete_cmd_postfix": "",
     "delete_cmd_prefix": "del ",
     "library": "var_list.py",
     "varRefreshCmd": "print(var_dic_list())"
    },
    "r": {
     "delete_cmd_postfix": ") ",
     "delete_cmd_prefix": "rm(",
     "library": "var_list.r",
     "varRefreshCmd": "cat(var_dic_list()) "
    }
   },
   "types_to_exclude": [
    "module",
    "function",
    "builtin_function_or_method",
    "instance",
    "_Feature"
   ],
   "window_display": false
  }
 },
 "nbformat": 4,
 "nbformat_minor": 5
}
